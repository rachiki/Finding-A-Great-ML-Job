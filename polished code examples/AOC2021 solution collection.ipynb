{
 "cells": [
  {
   "cell_type": "markdown",
   "id": "2ea0ee7d",
   "metadata": {},
   "source": [
    "# Solutions for AOC 2021\n",
    "    This is a collection of high quality solutions for AOC 2021, some are especially short, smart or beautiful.\n",
    "    Many solutions from 4HbQ, a few from me, a few from other people"
   ]
  },
  {
   "cell_type": "markdown",
   "id": "a1276a17-91df-47a4-a9fe-dd5da92d5143",
   "metadata": {},
   "source": [
    "# Import libraries"
   ]
  },
  {
   "cell_type": "code",
   "execution_count": 1,
   "id": "d15327e1",
   "metadata": {},
   "outputs": [],
   "source": [
    "import sys\n",
    "from io import StringIO\n",
    "import numpy as np\n",
    "from math import prod\n",
    "from parse import findall\n",
    "from collections import defaultdict\n",
    "import copy\n",
    "from collections import defaultdict, Counter, deque\n",
    "from re import findall\n",
    "import functools\n",
    "from functools import cache, reduce\n",
    "from scipy.ndimage import convolve\n",
    "from scipy.spatial.transform import Rotation \n",
    "from operator import *\n",
    "import heapq\n",
    "import itertools\n",
    "import matplotlib.pyplot as plt\n",
    "import re"
   ]
  },
  {
   "cell_type": "markdown",
   "id": "41e83275",
   "metadata": {},
   "source": [
    "# Day 1"
   ]
  },
  {
   "cell_type": "code",
   "execution_count": 2,
   "id": "0eb6e2db",
   "metadata": {},
   "outputs": [
    {
     "name": "stdout",
     "output_type": "stream",
     "text": [
      "1791\n",
      "1822\n"
     ]
    }
   ],
   "source": [
    "x = [*map(int, open('inputs/1.txt'))]\n",
    "for n in 1, 3: print(sum(map(int.__lt__, x, x[n:]))) "
   ]
  },
  {
   "cell_type": "markdown",
   "id": "397473dc",
   "metadata": {},
   "source": [
    "# Day 2"
   ]
  },
  {
   "cell_type": "code",
   "execution_count": 3,
   "id": "409952dd",
   "metadata": {},
   "outputs": [
    {
     "name": "stdout",
     "output_type": "stream",
     "text": [
      "1924923 1982495697\n"
     ]
    }
   ],
   "source": [
    "h = d = a = 0                   # forward, depth, angle\n",
    "\n",
    "for x in open('inputs/2.txt'):\n",
    "  match x.split():              # match-case is a structure in the newest version of python, like \"if\"\n",
    "    case 'forward', n:\n",
    "      h += int(n)\n",
    "      d += int(n)*a\n",
    "    case 'up', n:\n",
    "      a -= int(n)\n",
    "    case 'down', n:\n",
    "      a += int(n)\n",
    "\n",
    "print(h*a, h*d)                 # forward*angle, forward*depth"
   ]
  },
  {
   "cell_type": "markdown",
   "id": "54d4cf12",
   "metadata": {},
   "source": [
    "# Day 3"
   ]
  },
  {
   "cell_type": "code",
   "execution_count": 4,
   "id": "0ab1a955",
   "metadata": {},
   "outputs": [
    {
     "name": "stdout",
     "output_type": "stream",
     "text": [
      "Part 1: 3009600\n",
      "Part 2: 6940518\n"
     ]
    }
   ],
   "source": [
    "lines = [l[:-1] for l in open('inputs/3.txt')]\n",
    "b = len(lines[0])                           # bits of entries - 1\n",
    "\n",
    "def m(i,l):\n",
    "\treturn sum(int(l[i]) for l in l) >= len(l)/2     # Return 1 if at least half of position is 1\n",
    "    \n",
    "g = sum(2**i * m(-1-i,lines) for i in range(b))      # Return decimal value for most bit number\n",
    "e = 2**b - 1 - g           \n",
    "\n",
    "def n(l,i,o):\n",
    "\treturn l[0] if len(l) == 1 else n([ e for e in l if (int(e[i]) ^ m(i,l)) ^ o ], i+1, o) # Recursion until 1 left, ^ = \"caret\" = xor\n",
    "    \n",
    "x = int(n(lines,0,1),2)\n",
    "c = int(n(lines,0,0),2)\n",
    "\n",
    "print(\"Part 1: {:d}\".format(e*g))\n",
    "print(\"Part 2: {:d}\".format(x*c))"
   ]
  },
  {
   "cell_type": "markdown",
   "id": "1acb4243",
   "metadata": {},
   "source": [
    "# Day 4"
   ]
  },
  {
   "cell_type": "code",
   "execution_count": 5,
   "id": "0c686520",
   "metadata": {},
   "outputs": [
    {
     "name": "stdout",
     "output_type": "stream",
     "text": [
      "54275\n",
      "13158\n"
     ]
    }
   ],
   "source": [
    "with open('inputs/4.txt') as f:\n",
    "    lines = f.read()\n",
    "n, *b = lines.split(\"\\n\")                  # read input from stdin\n",
    "\n",
    "first_win = True\n",
    "b = np.loadtxt(b, int).reshape(-1,5,5)     # load boards into 3D array\n",
    "for n in map(int, n.split(',')):           # loop over drawn numbers\n",
    "    b[b == n] = -1                         # mark current number as -1\n",
    "    m = (b == -1)                          # get all marked numbers\n",
    "    win = (m.all(1) | m.all(2)).any(1)     # check for win condition\n",
    "    if win.any():\n",
    "        this_win_score = (b * ~m)[win].sum() * n\n",
    "        if first_win:\n",
    "            print(this_win_score)     # print winning scores, ~m is not m and used to look at remaining numbers of winner\n",
    "            first_win = False\n",
    "        b = b[~win]                        # remove winning board\n",
    "print(this_win_score)"
   ]
  },
  {
   "cell_type": "markdown",
   "id": "46c9d953",
   "metadata": {},
   "source": [
    "# Day 5"
   ]
  },
  {
   "cell_type": "code",
   "execution_count": 6,
   "id": "e35d1df2",
   "metadata": {},
   "outputs": [
    {
     "name": "stdout",
     "output_type": "stream",
     "text": [
      "6189 19164\n"
     ]
    }
   ],
   "source": [
    "with open('inputs/5.txt') as f:\n",
    "    lines = f.read()\n",
    "inp = StringIO(lines)\n",
    "\n",
    "grid = np.zeros((2, 1000, 1000))\n",
    "ls = np.fromregex(inp, '\\d+', [('',int)]*4)   # Regular expression look for numbers, group to 4 in tuple\n",
    "\n",
    "for (x, y, X, Y) in ls:\n",
    "    dx, dy = np.sign([X-x, Y-y])                                 \n",
    "    while (x,y) != (X+dx, Y+dy):       \n",
    "        grid[dx * dy, x, y] += 1    # There are 2 grids, grid[0] for first task, grid[1] is added in second task\n",
    "        x+=dx; y+=dy\n",
    "\n",
    "print((grid[0]>1).sum(), (grid.sum(0)>1).sum())"
   ]
  },
  {
   "cell_type": "markdown",
   "id": "0c06accb",
   "metadata": {},
   "source": [
    "# Day 6"
   ]
  },
  {
   "cell_type": "code",
   "execution_count": 7,
   "id": "6cc3ed01",
   "metadata": {},
   "outputs": [
    {
     "name": "stdout",
     "output_type": "stream",
     "text": [
      "362666\n",
      "1640526601595\n"
     ]
    }
   ],
   "source": [
    "with open('inputs/6.txt') as f:\n",
    "    d = f.read()\n",
    "f = [*map(d.count, '012345678')]\n",
    "\n",
    "for i in range(256):\n",
    "    f = f[1:] + f[:1]\n",
    "    f[6] += f[-1]\n",
    "    if i+1 == 80:\n",
    "        print(sum(f))\n",
    "print(sum(f))"
   ]
  },
  {
   "cell_type": "markdown",
   "id": "766273aa",
   "metadata": {},
   "source": [
    "# Day 7"
   ]
  },
  {
   "cell_type": "code",
   "execution_count": 8,
   "id": "07d0cb35",
   "metadata": {},
   "outputs": [
    {
     "name": "stdout",
     "output_type": "stream",
     "text": [
      "359648\n",
      "100727924\n"
     ]
    }
   ],
   "source": [
    "x = np.fromfile(open('inputs/7.txt'), int, sep=',')\n",
    "\n",
    "print(int(np.sum(np.abs(x - np.median(x)))))\n",
    "fuel = lambda d: d*(d+1)/2\n",
    "print(int(min(np.sum(fuel(np.abs(x - np.floor(np.mean(x))))),\n",
    "          np.sum(fuel(np.abs(x - np.ceil(np.mean(x))))))))"
   ]
  },
  {
   "cell_type": "markdown",
   "id": "bbc25534",
   "metadata": {},
   "source": [
    "# Day 8"
   ]
  },
  {
   "cell_type": "code",
   "execution_count": 9,
   "id": "802a5fe9",
   "metadata": {},
   "outputs": [
    {
     "name": "stdout",
     "output_type": "stream",
     "text": [
      "274\n",
      "1012089\n"
     ]
    }
   ],
   "source": [
    "c = 0\n",
    "s = 0\n",
    "\n",
    "for x,y in [x.split('|') for x in open('inputs/8.txt')]:  # split signal and output\n",
    "  k = [len(s) for s in y.split()]\n",
    "  l = {len(s): set(s) for s in x.split()}    # get number of segments\n",
    "  for j in k:\n",
    "      if j in [2,3,4,7]:\n",
    "          c += 1\n",
    "  n = ''\n",
    "  for o in map(set, y.split()):              # loop over output digits\n",
    "    match len(o), len(o&l[4]), len(o&l[2]):  # mask with known digits\n",
    "      case 2,_,_: n += '1'\n",
    "      case 3,_,_: n += '7'\n",
    "      case 4,_,_: n += '4'\n",
    "      case 7,_,_: n += '8'\n",
    "      case 5,2,_: n += '2'\n",
    "      case 5,3,1: n += '5'\n",
    "      case 5,3,2: n += '3'\n",
    "      case 6,4,_: n += '9'\n",
    "      case 6,3,1: n += '6'\n",
    "      case 6,3,2: n += '0'\n",
    "  s += int(n)\n",
    "    \n",
    "print(c)\n",
    "print(s)"
   ]
  },
  {
   "cell_type": "markdown",
   "id": "84dceaa4",
   "metadata": {},
   "source": [
    "# Day 9"
   ]
  },
  {
   "cell_type": "code",
   "execution_count": 10,
   "id": "7d54ba82",
   "metadata": {},
   "outputs": [
    {
     "name": "stdout",
     "output_type": "stream",
     "text": [
      "532\n",
      "1110780\n"
     ]
    }
   ],
   "source": [
    "height = {(x,y):int(h) for y,l in enumerate(open('inputs/9.txt'))\n",
    "                       for x,h in enumerate(l.strip())}\n",
    "\n",
    "def neighbours(x, y):\n",
    "  return filter(lambda n: n in height,  # remove points\n",
    "    [(x,y-1),(x,y+1),(x-1,y),(x+1,y)])  #  outside grid\n",
    "\n",
    "def is_low(p):\n",
    "  return all(height[p] < height[n]\n",
    "    for n in neighbours(*p))\n",
    "\n",
    "low_points = list(filter(is_low, height))\n",
    "print(sum(height[p]+1 for p in low_points))\n",
    "\n",
    "def count_basin(p):\n",
    "  if height[p] == 9: return 0  # stop counting at ridge\n",
    "  del height[p]                # prevent further visits\n",
    "  return 1+sum(map(count_basin, neighbours(*p)))\n",
    "\n",
    "basins = [count_basin(p) for p in low_points]\n",
    "print(prod(sorted(basins)[-3:]))"
   ]
  },
  {
   "cell_type": "markdown",
   "id": "dfdb89b4",
   "metadata": {},
   "source": [
    "# Day 10"
   ]
  },
  {
   "cell_type": "code",
   "execution_count": 11,
   "id": "55acb833",
   "metadata": {},
   "outputs": [
    {
     "name": "stdout",
     "output_type": "stream",
     "text": [
      "364389 2870201088\n"
     ]
    }
   ],
   "source": [
    "p1, p2 = 0, []\n",
    "points = [0, 3, 57, 1197, 25137]\n",
    "\n",
    "for chunk in open('inputs/10.txt'):\n",
    "    stack = []\n",
    "    for p in chunk.strip():\n",
    "        ix = '<{[( )]}>'.find(p) - 4\n",
    "        if ix < 0:    # open bracket\n",
    "            stack.append(-ix)\n",
    "        elif ix != stack.pop():\n",
    "            p1 += points[ix]; break\n",
    "    else:\n",
    "        p2 += [sum(5**a * b for a, b\n",
    "               in enumerate(stack))]\n",
    "\n",
    "print(p1, sorted(p2)[len(p2)//2])"
   ]
  },
  {
   "cell_type": "markdown",
   "id": "928a947d",
   "metadata": {},
   "source": [
    "# Day 11"
   ]
  },
  {
   "cell_type": "code",
   "execution_count": 12,
   "id": "3d09b7be",
   "metadata": {},
   "outputs": [
    {
     "name": "stdout",
     "output_type": "stream",
     "text": [
      "1729\n",
      "237\n"
     ]
    }
   ],
   "source": [
    "e = {(x,y):int(e) for x,l in enumerate(open('inputs/11.txt'))\n",
    "                  for y,e in enumerate(l.strip())}\n",
    "\n",
    "def neighbours(x,y): return filter(e.get, \n",
    "            [(x+1,y+1),(x+1,y),(x+1,y-1),(x,y+1),\n",
    "             (x-1,y-1),(x-1,y),(x-1,y+1),(x,y-1)])\n",
    "\n",
    "count = 0\n",
    "for step in range(1, 1000):\n",
    "    for i in e: e[i] += 1\n",
    "    flashing = {i for i in e if e[i] > 9}\n",
    "\n",
    "    while flashing:\n",
    "        f = flashing.pop()\n",
    "        e[f] = 0\n",
    "        count += 1\n",
    "        for n in neighbours(*f):\n",
    "            e[n] += 1\n",
    "            if e[n] > 9: flashing.add(n)\n",
    "\n",
    "    if step == 100: print(count)\n",
    "    if sum(e.values()) == 0: print(step); break"
   ]
  },
  {
   "cell_type": "markdown",
   "id": "397e5628",
   "metadata": {},
   "source": [
    "# Day 12"
   ]
  },
  {
   "cell_type": "code",
   "execution_count": 13,
   "id": "cb90843a",
   "metadata": {},
   "outputs": [
    {
     "name": "stdout",
     "output_type": "stream",
     "text": [
      "3887 104834\n"
     ]
    }
   ],
   "source": [
    "neighbours = defaultdict(list)\n",
    "\n",
    "for line in open('inputs/12.txt'):\n",
    "    a, b = line.strip().split('-')\n",
    "    neighbours[a] += [b]\n",
    "    neighbours[b] += [a]\n",
    "\n",
    "def count(part, seen=[], cave='start'):\n",
    "    if cave == 'end': return 1\n",
    "    if cave in seen:\n",
    "        if cave == 'start': return 0\n",
    "        if cave.islower():\n",
    "            if part == 1: return 0\n",
    "            else: part = 1\n",
    "\n",
    "    return sum(count(part, seen+[cave], n)\n",
    "                for n in neighbours[cave])\n",
    "\n",
    "print(count(part=1), count(part=2))"
   ]
  },
  {
   "cell_type": "markdown",
   "id": "0b1e5c70",
   "metadata": {},
   "source": [
    "# Day 13"
   ]
  },
  {
   "cell_type": "code",
   "execution_count": 14,
   "id": "118870a7",
   "metadata": {},
   "outputs": [
    {
     "name": "stdout",
     "output_type": "stream",
     "text": [
      "Solution 1: 689\n"
     ]
    },
    {
     "data": {
      "text/plain": [
       "<matplotlib.image.AxesImage at 0x7fc7e7bc0150>"
      ]
     },
     "execution_count": 14,
     "metadata": {},
     "output_type": "execute_result"
    },
    {
     "data": {
      "image/png": "[encoded data removed]",
      "text/plain": [
       "<Figure size 640x480 with 1 Axes>"
      ]
     },
     "metadata": {},
     "output_type": "display_data"
    }
   ],
   "source": [
    "instr = open('inputs/13.txt').read()\n",
    "dots, folds = instr.split(\"\\n\\n\")\n",
    "dots = [i.split(\",\") for i in dots.split(\"\\n\")]\n",
    "dots = np.array(dots).astype(int)\n",
    "folds = [i.split(\"=\") for i in folds.split(\"\\n\")[:-1]]\n",
    "\n",
    "# Creation of grid\n",
    "grid = np.zeros((np.max(dots, axis=0)+1))\n",
    "for i in dots:\n",
    "    grid[i[0], i[1]] = 1\n",
    "grid = np.transpose(grid)\n",
    "\n",
    "# Folding and output\n",
    "first = True\n",
    "for f in folds:\n",
    "    value = int(f[1])\n",
    "    if f[0][-1] == \"y\": grid = grid[:value] + np.flip(grid[value+1:], axis=0)\n",
    "    if f[0][-1] == \"x\": grid = grid[:,:value] + np.flip(grid[:,value+1:], axis=1)\n",
    "    if first: \n",
    "        print('Solution 1: ' + str(np.sum(np.where(grid>0,1,0))))\n",
    "        first = False\n",
    "plt.imshow(np.where(grid>0,1,0))"
   ]
  },
  {
   "cell_type": "markdown",
   "id": "7fdad44b",
   "metadata": {},
   "source": [
    "# Day 14"
   ]
  },
  {
   "cell_type": "code",
   "execution_count": 15,
   "id": "875d6a3c",
   "metadata": {},
   "outputs": [
    {
     "name": "stdout",
     "output_type": "stream",
     "text": [
      "2584\n",
      "3816397135460\n"
     ]
    }
   ],
   "source": [
    "tpl, _, *rules = open('inputs/14.txt').read().split('\\n')\n",
    "\n",
    "rules = dict(r.split(\" -> \") for r in rules[:-1])\n",
    "pairs = Counter(map(str.__add__, tpl, tpl[1:]))\n",
    "chars = Counter(tpl)\n",
    "\n",
    "for i in range(40):\n",
    "    for (a,b), c in pairs.copy().items():\n",
    "        x = rules[a+b]\n",
    "        pairs[a+b] -= c\n",
    "        pairs[a+x] += c\n",
    "        pairs[x+b] += c\n",
    "        chars[x] += c\n",
    "    if i+1 == 10:\n",
    "        print(max(chars.values())-min(chars.values()))\n",
    "\n",
    "print(max(chars.values())-min(chars.values()))"
   ]
  },
  {
   "cell_type": "markdown",
   "id": "ef4b621f",
   "metadata": {},
   "source": [
    "# Day 15"
   ]
  },
  {
   "cell_type": "code",
   "execution_count": 16,
   "id": "50eec319",
   "metadata": {},
   "outputs": [
    {
     "name": "stdout",
     "output_type": "stream",
     "text": [
      "410\n",
      "2809\n"
     ]
    }
   ],
   "source": [
    "sys.setrecursionlimit(int(1e6))\n",
    "\n",
    "G = []\n",
    "for line in open('inputs/15.txt'):\n",
    "    G.append([int(x) for x in line.strip()])\n",
    "R = len(G)\n",
    "C = len(G[0])\n",
    "DR = [-1,0,1,0]\n",
    "DC = [0,1,0,-1]\n",
    "\n",
    "def solve(n_tiles):\n",
    "    D = [[None for _ in range(n_tiles*C)] for _ in range(n_tiles*R)]\n",
    "    Q = [(0,0,0)]\n",
    "    while Q:\n",
    "        (dist,r,c) = heapq.heappop(Q)\n",
    "        if r<0 or r>=n_tiles*R or c<0 or c>=n_tiles*C:\n",
    "            continue\n",
    "\n",
    "        val = G[r%R][c%C] + (r//R) + (c//C)\n",
    "        while val > 9:\n",
    "            val -= 9\n",
    "        rc_cost = dist + val\n",
    "\n",
    "        if D[r][c] is None or rc_cost < D[r][c]:\n",
    "            D[r][c] = rc_cost\n",
    "        else:\n",
    "            continue\n",
    "        if r==n_tiles*R-1 and c==n_tiles*C-1:\n",
    "            break\n",
    "\n",
    "        for d in range(4):\n",
    "            rr = r+DR[d]\n",
    "            cc = c+DC[d]\n",
    "            heapq.heappush(Q, (D[r][c],rr,cc))\n",
    "    return D[n_tiles*R-1][n_tiles*C-1] - G[0][0]\n",
    "\n",
    "print(solve(1))\n",
    "print(solve(5))"
   ]
  },
  {
   "cell_type": "markdown",
   "id": "a0f3167c",
   "metadata": {},
   "source": [
    "# Day 16"
   ]
  },
  {
   "cell_type": "code",
   "execution_count": 17,
   "id": "cc163a8d",
   "metadata": {},
   "outputs": [
    {
     "name": "stdout",
     "output_type": "stream",
     "text": [
      "929\n",
      "911945136934\n"
     ]
    }
   ],
   "source": [
    "with open('inputs/16.txt', 'r') as f:\n",
    "    data = f.read().strip()\n",
    "\n",
    "bits = [(int(c, 16) >> (3 - i)) & 1 for c in data for i in range(4)][::-1]\n",
    "\n",
    "def as_num(bits):\n",
    "    return reduce(lambda x, y: (x << 1) | y, bits)\n",
    "\n",
    "def read_bits(data, n):\n",
    "    for _ in range(n):\n",
    "        yield data.pop()\n",
    "\n",
    "def read_num(data, n):\n",
    "    return as_num(read_bits(data, n))\n",
    "\n",
    "vnum_total = 0\n",
    "\n",
    "def decode(data):\n",
    "    global vnum_total\n",
    "    version = read_num(data, 3)\n",
    "    vnum_total += version\n",
    "    type_id = read_num(data, 3)\n",
    "    def get_subpackets():\n",
    "        if type_id == 4:\n",
    "            while True:\n",
    "                done = not data.pop()\n",
    "                yield read_num(data, 4)\n",
    "                if done:\n",
    "                    return\n",
    "        lid = data.pop()\n",
    "        if lid:\n",
    "            for _ in range(read_num(data, 11)):\n",
    "                yield decode(data)\n",
    "        else:\n",
    "            blen = read_num(data, 15)\n",
    "            l1 = len(data) - blen\n",
    "            while len(data) != l1:\n",
    "                yield decode(data)\n",
    "    f = [add, mul, min, max, lambda x, y: (x << 4) | y, gt, lt, eq][type_id]\n",
    "    return reduce(f, get_subpackets())\n",
    "\n",
    "sol2 = decode(bits)\n",
    "print(vnum_total)\n",
    "print(sol2)"
   ]
  },
  {
   "cell_type": "markdown",
   "id": "fe717c8b",
   "metadata": {},
   "source": [
    "# Day 17"
   ]
  },
  {
   "cell_type": "code",
   "execution_count": 18,
   "id": "461fde26",
   "metadata": {},
   "outputs": [
    {
     "name": "stdout",
     "output_type": "stream",
     "text": [
      "7750 4120\n"
     ]
    }
   ],
   "source": [
    "with open('inputs/17.txt') as f:\n",
    "    data = f.read()\n",
    "x1,x2,y1,y2 = map(int, findall(r'-?\\d+', data))\n",
    "\n",
    "def sim(vx, vy, px=0, py=0):\n",
    "    if px > x2 or py < y1: return 0\n",
    "    if px >= x1 and py <= y2: return 1\n",
    "    return sim(vx-(vx>0), vy-1 , px+vx, py+vy)\n",
    "\n",
    "hits = [sim(x,y) for x in range(1, 1+x2) for y in range(y1, -y1)]\n",
    "\n",
    "print(y1*(y1+1)//2, sum(hits))"
   ]
  },
  {
   "cell_type": "markdown",
   "id": "14c7a62a",
   "metadata": {},
   "source": [
    "# Day 18"
   ]
  },
  {
   "cell_type": "code",
   "execution_count": 19,
   "id": "8d6c2c1c",
   "metadata": {},
   "outputs": [
    {
     "name": "stdout",
     "output_type": "stream",
     "text": [
      "3494\n",
      "4712\n"
     ]
    }
   ],
   "source": [
    "lines = []\n",
    "with open('inputs/18.txt', 'r') as f:\n",
    "    for line in f:\n",
    "        lines.append(line.strip())\n",
    "\n",
    "processed = []\n",
    "for line in lines:\n",
    "    processed_line = []\n",
    "    depth = 0\n",
    "    for i in range(len(line)):\n",
    "        if line[i] == '[':\n",
    "            depth += 1\n",
    "        elif line[i] ==  ']':\n",
    "            depth -= 1\n",
    "        elif line[i] == ',':\n",
    "            pass\n",
    "        else:\n",
    "            processed_line.append([int(line[i]),depth])\n",
    "    processed.append(processed_line)\n",
    "\n",
    "def add(proc_sn1, proc_sn2):\n",
    "    sum_sn = [[entry[0],entry[1]+1] for entry in proc_sn1 + proc_sn2]\n",
    "    updated = True\n",
    "    while updated:\n",
    "        updated = False\n",
    "        for i in range(len(sum_sn)):\n",
    "            depth = sum_sn[i][1]\n",
    "            if depth >= 5 and depth==sum_sn[i+1][1]:\n",
    "                if i > 0:\n",
    "                    sum_sn[i-1][0] += sum_sn[i][0]\n",
    "                if i < len(sum_sn)-2:\n",
    "                    sum_sn[i+2][0] += sum_sn[i+1][0]\n",
    "                del sum_sn[i:i+2]\n",
    "                sum_sn.insert(i,[0,depth-1])\n",
    "                updated = True\n",
    "                break\n",
    "        if not updated:\n",
    "            for i in range(len(sum_sn)):\n",
    "                if sum_sn[i][0] > 9:\n",
    "                    [val, depth] = sum_sn[i]\n",
    "                    half_rounded_down = val//2\n",
    "                    half_rounded_up = val - val//2\n",
    "                    del sum_sn[i]\n",
    "                    sum_sn.insert(i,[half_rounded_up, depth+1])\n",
    "                    sum_sn.insert(i,[half_rounded_down, depth+1])\n",
    "                    updated = True\n",
    "                    break\n",
    "    return sum_sn\n",
    "\n",
    "def magnitude(proc_sn):\n",
    "    while len(proc_sn) > 1:\n",
    "        for i in range(len(proc_sn)):\n",
    "            if i < len(proc_sn) - 1 and proc_sn[i][1] == proc_sn[i+1][1]:\n",
    "                depth = proc_sn[i][1]\n",
    "                val = proc_sn[i][0] * 3 + proc_sn[i+1][0] * 2\n",
    "                del proc_sn[i:i+2]\n",
    "                proc_sn.insert(i,[val,depth-1])\n",
    "                break\n",
    "    return proc_sn[0][0]\n",
    "\n",
    "res = 0\n",
    "for i in range(len(processed)-1):\n",
    "    for j in range(i+1, len(processed)):\n",
    "        res = max(res, magnitude(add(processed[i], processed[j])))\n",
    "        res = max(res, magnitude(add(processed[j], processed[i])))\n",
    "print(magnitude(functools.reduce(add, processed)))\n",
    "print(res)"
   ]
  },
  {
   "cell_type": "markdown",
   "id": "6c274b83",
   "metadata": {},
   "source": [
    "# Day 19"
   ]
  },
  {
   "cell_type": "code",
   "execution_count": 20,
   "id": "d1ed01de",
   "metadata": {},
   "outputs": [
    {
     "name": "stdout",
     "output_type": "stream",
     "text": [
      "338\n",
      "9862\n"
     ]
    }
   ],
   "source": [
    "def all_rot(vec):\n",
    "    vecs = []\n",
    "    for xy_rot in np.radians([[0,0,0],[90,0,0],[180,0,0],[270,0,0],[0,90,0],[0,-90,0]]):\n",
    "        rotation = Rotation.from_rotvec(xy_rot)\n",
    "        rotated_vec = rotation.apply(vec)\n",
    "        for z_rot in np.radians([[0,0,0],[0,0,90],[0,0,180],[0,0,270]]):\n",
    "            rotation = Rotation.from_rotvec(z_rot)\n",
    "            rotated_vec = rotation.apply(rotated_vec)\n",
    "            vecs.append(rotated_vec)\n",
    "    return np.array(vecs)\n",
    "\n",
    "with open('inputs/19.txt', 'r') as file:\n",
    "    inp = file.read()[:-1]\n",
    "coo = [[[int(k) for k in j.split(\",\")] for j in i.split(\"\\n\") if \",\" in j] for i in inp.split(\"\\n\\n\")]\n",
    "\n",
    "scanners = []\n",
    "beacons = set()\n",
    "pos = np.array([0,0,0])\n",
    "rel = np.array(coo[0])\n",
    "done = [0]\n",
    "queue = [[pos, rel]]\n",
    "\n",
    "while queue:\n",
    "    (pos, rel) = queue.pop()\n",
    "    scanners.append(pos)\n",
    "    for i in rel: beacons.add(tuple(i+np.array(pos)))\n",
    "    for scan_nr,i in enumerate(coo):\n",
    "        rotations = np.round(np.array(all_rot(i)))\n",
    "        if scan_nr not in done:\n",
    "            for r in rotations:\n",
    "                distances = (rel[:,None,:]-r[None,:,:]).reshape(-1,3)\n",
    "                only_coords = zip(distances[:,0], distances[:,1], distances[:,2])\n",
    "                coor, counts = Counter(only_coords).most_common()[0]\n",
    "                if counts >= 12:\n",
    "                    done += [scan_nr]\n",
    "                    queue.append([pos+np.round(np.array(coor)).astype(int), r*1])\n",
    "                    break\n",
    "print(len(beacons))\n",
    "print(np.max(np.sum(np.abs(np.array(scanners)[:,None,:]-np.array(scanners)[None,:,:]), axis=2)))"
   ]
  },
  {
   "cell_type": "markdown",
   "id": "3f60226d",
   "metadata": {},
   "source": [
    "# Day 20"
   ]
  },
  {
   "cell_type": "code",
   "execution_count": 21,
   "id": "cf838c8a",
   "metadata": {},
   "outputs": [
    {
     "name": "stdout",
     "output_type": "stream",
     "text": [
      "5419\n",
      "17325\n"
     ]
    }
   ],
   "source": [
    "algo, _, *image = open('inputs/20.txt').read().splitlines()\n",
    "\n",
    "algo = np.array([int(p==\"#\") for p in algo])\n",
    "image = np.pad([[int(p==\"#\") for p in row]\n",
    "                for row in image], (51,51))\n",
    "\n",
    "bin2dec = 2**np.arange(9).reshape(3,3)\n",
    "\n",
    "for i in range(50):\n",
    "    image = algo[convolve(image, bin2dec)]\n",
    "    if i+1 in (2, 50): print(image.sum())"
   ]
  },
  {
   "cell_type": "markdown",
   "id": "69388581",
   "metadata": {},
   "source": [
    "# Day 21"
   ]
  },
  {
   "cell_type": "code",
   "execution_count": 22,
   "id": "7221ee63",
   "metadata": {},
   "outputs": [
    {
     "name": "stdout",
     "output_type": "stream",
     "text": [
      "576600 131888061854776\n"
     ]
    }
   ],
   "source": [
    "pos1, pos2 = [int(x.split()[-1]) for x in open('inputs/21.txt')]\n",
    "\n",
    "def play1(pos1, pos2, score1=0, score2=0, i=0):\n",
    "    if score2 >= 1000: return i*score1\n",
    "    pos1 = (pos1 + 3*i+6) % 10 or 10\n",
    "    return play1(pos2, pos1, score2, score1+pos1, i+3)\n",
    "\n",
    "@cache\n",
    "def play2(pos1, pos2, score1=0, score2=0):\n",
    "    if score2 >= 21: return 0, 1\n",
    "\n",
    "    wins1, wins2 = 0, 0\n",
    "    for move, n in (3,1),(4,3),(5,6),(6,7),(7,6),(8,3),(9,1):\n",
    "        pos1_ = (pos1 + move) % 10 or 10\n",
    "        w2, w1 = play2(pos2, pos1_, score2, score1 + pos1_)\n",
    "        wins1, wins2 = wins1 + n*w1, wins2 + n*w2\n",
    "    return wins1, wins2\n",
    "\n",
    "print(play1(pos1, pos2), max(play2(pos1, pos2)))"
   ]
  },
  {
   "cell_type": "markdown",
   "id": "94a7d524",
   "metadata": {},
   "source": [
    "# Day 22"
   ]
  },
  {
   "cell_type": "code",
   "execution_count": 23,
   "id": "56ced2df",
   "metadata": {},
   "outputs": [
    {
     "name": "stdout",
     "output_type": "stream",
     "text": [
      "581108\n",
      "1328039496333976\n"
     ]
    }
   ],
   "source": [
    "def intersect(x,X,y,Y,z,Z, u,U,v,V,w,W):\n",
    "    x = max(x, u); y = max(y, v); z = max(z, w)\n",
    "    X = min(X, U); Y = min(Y, V); Z = min(Z, W)\n",
    "    if x <= X and y <= Y and z <= Z:\n",
    "        return x, X, y, Y, z, Z\n",
    "\n",
    "def size(x,X,y,Y,z,Z):\n",
    "    return (X-x+1) * (Y-y+1) * (Z-z+1)\n",
    "\n",
    "reactor = np.zeros((101,101,101))\n",
    "cubes = defaultdict(int)\n",
    "\n",
    "for state, new in map(str.split, open('inputs/22.txt')):\n",
    "    state = int(state == 'on')\n",
    "    new = *map(lambda x: int(x) + 50, re.findall(r'-?\\d+', new)),\n",
    "\n",
    "    x1,x2,y1,y2,z1,z2 = max(0, new[0]), min(101, new[1]+1), max(0, new[2]), min(101, new[3]+1), max(0, new[4]), min(101, new[5]+1)\n",
    "    reactor[x1:x2,y1:y2,z1:z2] = int(state)\n",
    "    for old in cubes.copy():\n",
    "        inter = intersect(*new, *old)\n",
    "        if inter: cubes[inter] -= cubes[old]\n",
    "    if state == 1: cubes[new] = 1\n",
    "\n",
    "print(int(np.sum(reactor)))\n",
    "print(sum(size(*c)*v for c,v in cubes.items()))"
   ]
  },
  {
   "cell_type": "markdown",
   "id": "e717f2e3",
   "metadata": {},
   "source": [
    "# Day 23"
   ]
  },
  {
   "cell_type": "code",
   "execution_count": 24,
   "id": "8599c931-17b6-495d-abe3-9dd52d6bf8b2",
   "metadata": {},
   "outputs": [
    {
     "name": "stdout",
     "output_type": "stream",
     "text": [
      "12530\n",
      "50492\n"
     ]
    }
   ],
   "source": [
    "def cost(q,from_here,to_here):\n",
    "    mult = 10**(q[from_here][-1]-1)\n",
    "    dist = abs(from_here-to_here)\n",
    "    if from_here in [2,4,6,8]: dist += (task*2+1)-len(q[from_here])\n",
    "    if to_here in [2,4,6,8]: dist += (task*2)-len(q[to_here])\n",
    "    return dist*mult\n",
    "def reachable(q,i):\n",
    "    r = []\n",
    "    k = i-1\n",
    "    while True:\n",
    "        r += [k]\n",
    "        if k not in [2,4,6,8] and len(q[k]) == 1: break\n",
    "        elif k == 0: break\n",
    "        k -= 1\n",
    "    k = i+1\n",
    "    while True:\n",
    "        r += [k]\n",
    "        if k not in [2,4,6,8] and len(q[k]) == 1: break\n",
    "        elif k == 10: break\n",
    "        k += 1\n",
    "    return r\n",
    "def solve(q, costs):\n",
    "    #print(\"NEW\")\n",
    "    cont = True\n",
    "    while cont:\n",
    "        #print(q)\n",
    "        cont = False\n",
    "        done = []\n",
    "        for i in [2,4,6,8]:\n",
    "            # Check if any stack is finished and fill\n",
    "            if all([j == i//2 for j in q[:][i]]):\n",
    "                done += [i]\n",
    "                r = reachable(q,i)\n",
    "                for e in r:\n",
    "                    if len(q[e])>0 and q[e][-1] == i//2:\n",
    "                        costs += cost(q,e,i)\n",
    "                        q[i].append(q[e].pop())\n",
    "                        cont = True\n",
    "    \n",
    "    if len(done) == 4 and sum([len(q[n]) for n in range(11) if n not in [2,4,6,8]]) == 0: \n",
    "            return q, costs, True\n",
    "        \n",
    "    # Expand new paths  \n",
    "    best_costs = 10**9\n",
    "    for i in [2,4,6,8]:\n",
    "        if i not in done:\n",
    "            r = reachable(q,i)\n",
    "            for e in r:\n",
    "                if len(q[e]) == 0 and len(q[i]) > 0 and e not in [2,4,6,8]:\n",
    "                    new_q = copy.deepcopy(q)\n",
    "                    new_cost = costs + cost(q,i,e)\n",
    "                    new_q[e].append(new_q[i].pop())\n",
    "                    q_alt, costs_alt, finished = solve(new_q, new_cost)\n",
    "                    if finished: \n",
    "                        #print(costs_alt)\n",
    "                        if costs_alt < best_costs:\n",
    "                            best_costs = costs_alt\n",
    "                            best_q = copy.deepcopy(q_alt)\n",
    "                            \n",
    "    if best_costs < 10**9:\n",
    "        return best_q, best_costs, True\n",
    "    else:            \n",
    "        return q, costs, False #If nothing worked\n",
    "\n",
    "# 1\n",
    "inp = \"\"\"#############\n",
    "#...........#\n",
    "###C#D#D#A###\n",
    "  #B#A#B#C#\n",
    "  #########\"\"\"\n",
    "inp = inp.replace(\"D\", \"4\").replace(\"C\", \"3\").replace(\"B\", \"2\").replace(\"A\", \"1\").replace(\"#\", \" \")\n",
    "split = [n.strip().split(\" \") for n in inp.split(\"\\n\")[2:4]]\n",
    "pos = [[],[],[],[],[],[],[],[],[],[],[]]\n",
    "for i in [1,0]:\n",
    "    for j in range(4): pos[2+2*j] += [int(split[i][j])]\n",
    "task = 1\n",
    "q = copy.deepcopy(pos)\n",
    "q,costs,_ = solve(q, 0)\n",
    "print(costs)\n",
    "\n",
    "# 2\n",
    "inp = \"\"\"#############\n",
    "#...........#\n",
    "###C#D#D#A###\n",
    "  #D#C#B#A#\n",
    "  #D#B#A#C#\n",
    "  #B#A#B#C#\n",
    "  #########\"\"\"\n",
    "inp = inp.replace(\"D\", \"4\").replace(\"C\", \"3\").replace(\"B\", \"2\").replace(\"A\", \"1\").replace(\"#\", \" \")\n",
    "split = [n.strip().split(\" \") for n in inp.split(\"\\n\")[2:6]]\n",
    "pos = [[],[],[],[],[],[],[],[],[],[],[]]\n",
    "for i in [3,2,1,0]:\n",
    "    for j in range(4): pos[2+2*j] += [int(split[i][j])]\n",
    "task = 2\n",
    "q = copy.deepcopy(pos)\n",
    "q,costs,_ = solve(q, 0)\n",
    "print(costs)"
   ]
  },
  {
   "cell_type": "markdown",
   "id": "bef256b5",
   "metadata": {},
   "source": [
    "# Day 24"
   ]
  },
  {
   "cell_type": "code",
   "execution_count": 25,
   "id": "ff3e5945",
   "metadata": {},
   "outputs": [
    {
     "name": "stdout",
     "output_type": "stream",
     "text": [
      "93997999296912 81111379141811\n"
     ]
    }
   ],
   "source": [
    "instr, stack = [*open('inputs/24.txt')], []\n",
    "\n",
    "p, q = 99999999999999, 11111111111111\n",
    "\n",
    "for i in range(14):\n",
    "    a = int(instr[18*i+5].split()[-1])\n",
    "    b = int(instr[18*i+15].split()[-1])\n",
    "\n",
    "    if a > 0: stack+=[(i, b)]; continue\n",
    "    j, b = stack.pop()\n",
    "\n",
    "    p -= abs((a+b)*10**(13-[i,j][a>-b]))\n",
    "    q += abs((a+b)*10**(13-[i,j][a<-b]))\n",
    "\n",
    "print(p, q)"
   ]
  },
  {
   "cell_type": "markdown",
   "id": "17714a18",
   "metadata": {},
   "source": [
    "# Day 25"
   ]
  },
  {
   "cell_type": "code",
   "execution_count": 26,
   "id": "91f4a991",
   "metadata": {},
   "outputs": [
    {
     "name": "stdout",
     "output_type": "stream",
     "text": [
      "384\n"
     ]
    }
   ],
   "source": [
    "# Only 1 problem here, star 50 is earned by having all others\n",
    "m = [a.strip() for a in open('inputs/25.txt')]\n",
    "h, w = len(m), len(m[0])\n",
    "\n",
    "a = {(r,c): m[r][c] for r in range(h)\n",
    "                    for c in range(w)\n",
    "                    if m[r][c] != '.'}\n",
    "\n",
    "for t in range(1000):\n",
    "    def move(new, x): return {new(*pos) if\n",
    "        new(*pos) not in a and fish==x else\n",
    "        pos:fish for pos,fish in a.items()}\n",
    "\n",
    "    b = a.copy()\n",
    "    a = move(lambda r,c: (r, (c+1)%w), '>')\n",
    "    a = move(lambda r,c: ((r+1)%h, c), 'v')\n",
    "\n",
    "    if a == b: print(t+1); break"
   ]
  },
  {
   "cell_type": "code",
   "execution_count": null,
   "id": "df6f638d-4c42-49b4-b617-5950352385a4",
   "metadata": {},
   "outputs": [],
   "source": []
  }
 ],
 "metadata": {
  "kernelspec": {
   "display_name": "Python 3 (ipykernel)",
   "language": "python",
   "name": "python3"
  },
  "language_info": {
   "codemirror_mode": {
    "name": "ipython",
    "version": 3
   },
   "file_extension": ".py",
   "mimetype": "text/x-python",
   "name": "python",
   "nbconvert_exporter": "python",
   "pygments_lexer": "ipython3",
   "version": "3.11.3"
  }
 },
 "nbformat": 4,
 "nbformat_minor": 5
}
