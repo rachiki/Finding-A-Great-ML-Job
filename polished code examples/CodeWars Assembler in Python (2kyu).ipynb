{
 "cells": [
  {
   "cell_type": "markdown",
   "metadata": {},
   "source": [
    "# Assembler in Python\n",
    "    The assembler_interpreter function is a Python-based simulator of an assembly-like language. \n",
    "    Some programs are shown as example. \n",
    "    Task from 'Codewars', https://www.codewars.com/kata/58e61f3d8ff24f774400002c."
   ]
  },
  {
   "cell_type": "markdown",
   "metadata": {},
   "source": [
    "## Assembler"
   ]
  },
  {
   "cell_type": "code",
   "execution_count": 1,
   "metadata": {},
   "outputs": [],
   "source": [
    "def assembler_interpreter(program):\n",
    "    \n",
    "    #Convert input to a list of the lines \n",
    "    program = program.split(\"\\n\")[1:-1]\n",
    "    \n",
    "    d, i = {\"pointer\":[]}, 0\n",
    "    \n",
    "    #Find functions\n",
    "    for i in range(len(program)): \n",
    "        if program[i] != \"\":\n",
    "            if program[i][-1] == \":\": d[program[i][:-1]] = i #PROBLEM: Does also recognize comments ending on \":\"\n",
    "        \n",
    "    #Commands\n",
    "    i = 0\n",
    "    while i < len(program):\n",
    "        cmd, r, v = (program[i] + ' 0' + \" 0\" + \" 0\").replace(\",\", \"\").split()[:3]\n",
    "        \n",
    "        #Simple commands\n",
    "        if cmd == 'inc': d[r] += 1\n",
    "        elif cmd == 'dec': d[r] -= 1        \n",
    "        elif cmd == 'mov': d[r] = d[v] if v in d else int(v)\n",
    "        elif cmd == 'jnz' and (d[r] if r in d else int(r)): i += int(v) - 1\n",
    "        elif cmd == \"add\": d[r] += d[v] if v in d else int(v)\n",
    "        elif cmd == \"sub\": d[r] -= d[v] if v in d else int(v)\n",
    "        elif cmd == \"mul\": d[r] *= d[v] if v in d else int(v)\n",
    "        elif cmd == \"div\": d[r] //= d[v] if v in d else int(v)\n",
    "        \n",
    "        #Advanced commands\n",
    "        elif cmd == \";\": pass\n",
    "        elif cmd == \"msg\":\n",
    "            msg = \"\"\n",
    "            statement_list = []\n",
    "            string = program[i].replace(\"msg\", \"\").split(\";\")[0]\n",
    "\n",
    "            quote_flag = False\n",
    "            for k in string:\n",
    "                if k == \"'\": \n",
    "                    quote_flag = not quote_flag            #Switch quote_flag on \" ' \"\n",
    "                    if quote_flag: word = \"\"               #Form a new word\n",
    "                    else: statement_list.append(word)      #append the word when quote is finished\n",
    "\n",
    "                elif quote_flag:\n",
    "                    word += k\n",
    "                elif k not in [\" \", \",\"]:                  # Don't add \",\" and \" \" to the registries you seek!\n",
    "                            statement_list.append(k)       # Can't handle 2 character registers yet\n",
    "\n",
    "            for m in statement_list:\n",
    "                msg += str(d[m]) if m in d else m\n",
    "            d[\"output\"] = msg\n",
    "        elif cmd == \"end\": return d[\"output\"]\n",
    "            \n",
    "        #Labels, Functions and Jumps\n",
    "        elif cmd == \"call\": \n",
    "            d[\"pointer\"].append(i)\n",
    "            i = d[r]\n",
    "        elif cmd == \"ret\": \n",
    "            i = d[\"pointer\"][-1]                                     #return to last pointer\n",
    "            d[\"pointer\"] = d[\"pointer\"][:-1]\n",
    "        elif cmd == \"jmp\": i = d[r] \n",
    "        elif cmd == \"cmp\": d[\"cmp\"] = (d[r] if r in d else int(r)) - (d[v] if v in d else int(v))                 \n",
    "        elif cmd == \"jne\": i = d[r] if d[\"cmp\"] != 0 else i\n",
    "        elif cmd == \"je\": i = d[r] if d[\"cmp\"] == 0 else i                     \n",
    "        elif cmd == \"jge\": i = d[r] if d[\"cmp\"] >= 0 else i\n",
    "        elif cmd == \"jg\": i = d[r] if d[\"cmp\"] > 0 else i                       \n",
    "        elif cmd == \"jle\": i = d[r] if d[\"cmp\"] <= 0 else i                        \n",
    "        elif cmd == \"jl\": i = d[r] if d[\"cmp\"] < 0 else i                        \n",
    "                                  \n",
    "        i += 1\n",
    "\n",
    "    return -1"
   ]
  },
  {
   "cell_type": "markdown",
   "metadata": {},
   "source": [
    "## Program Examples"
   ]
  },
  {
   "cell_type": "code",
   "execution_count": 2,
   "metadata": {},
   "outputs": [
    {
     "name": "stdout",
     "output_type": "stream",
     "text": [
      "5! = 120\n"
     ]
    }
   ],
   "source": [
    "program_factorial = '''\n",
    "mov   a, 5\n",
    "mov   b, a\n",
    "mov   c, a\n",
    "call  proc_fact\n",
    "call  print\n",
    "end\n",
    "\n",
    "proc_fact:\n",
    "    dec   b\n",
    "    mul   c, b\n",
    "    cmp   b, 1\n",
    "    jne   proc_fact\n",
    "    ret\n",
    "\n",
    "print:\n",
    "    msg   a, '! = ', c ; output text\n",
    "    ret\n",
    "'''\n",
    "\n",
    "print(assembler_interpreter(program_factorial))"
   ]
  },
  {
   "cell_type": "code",
   "execution_count": 3,
   "metadata": {},
   "outputs": [
    {
     "name": "stdout",
     "output_type": "stream",
     "text": [
      "Term 8 of Fibonacci series is: 21\n"
     ]
    }
   ],
   "source": [
    "program_fibonacci = '''\n",
    "mov   a, 8            ; value\n",
    "mov   b, 0            ; next\n",
    "mov   c, 0            ; counter\n",
    "mov   d, 0            ; first\n",
    "mov   e, 1            ; second\n",
    "call  proc_fib\n",
    "call  print\n",
    "end\n",
    "\n",
    "proc_fib:\n",
    "    cmp   c, 2\n",
    "    jl    func_0\n",
    "    mov   b, d\n",
    "    add   b, e\n",
    "    mov   d, e\n",
    "    mov   e, b\n",
    "    inc   c\n",
    "    cmp   c, a\n",
    "    jle   proc_fib\n",
    "    ret\n",
    "\n",
    "func_0:\n",
    "    mov   b, c\n",
    "    inc   c\n",
    "    jmp   proc_fib\n",
    "\n",
    "print:\n",
    "    msg   'Term ', a, ' of Fibonacci series is: ', b        ; output text\n",
    "    ret\n",
    "'''\n",
    "\n",
    "print(assembler_interpreter(program_fibonacci))"
   ]
  },
  {
   "cell_type": "code",
   "execution_count": 4,
   "metadata": {},
   "outputs": [
    {
     "name": "stdout",
     "output_type": "stream",
     "text": [
      "mod(11, 3) = 2\n"
     ]
    }
   ],
   "source": [
    "program_mod = '''\n",
    "mov   a, 11           ; value1\n",
    "mov   b, 3            ; value2\n",
    "call  mod_func\n",
    "msg   'mod(', a, ', ', b, ') = ', d        ; output\n",
    "end\n",
    "\n",
    "; Mod function\n",
    "mod_func:\n",
    "    mov   c, a        ; temp1\n",
    "    div   c, b\n",
    "    mul   c, b\n",
    "    mov   d, a        ; temp2\n",
    "    sub   d, c\n",
    "    ret\n",
    "'''\n",
    "\n",
    "print(assembler_interpreter(program_mod))"
   ]
  },
  {
   "cell_type": "code",
   "execution_count": 5,
   "metadata": {},
   "outputs": [
    {
     "name": "stdout",
     "output_type": "stream",
     "text": [
      "gcd(81, 153) = 9\n"
     ]
    }
   ],
   "source": [
    "program_gcd = '''\n",
    "mov   a, 81         ; value1\n",
    "mov   b, 153        ; value2\n",
    "call  init\n",
    "call  proc_gcd\n",
    "call  print\n",
    "end\n",
    "\n",
    "proc_gcd:\n",
    "    cmp   c, d\n",
    "    jne   loop\n",
    "    ret\n",
    "\n",
    "loop:\n",
    "    cmp   c, d\n",
    "    jg    a_bigger\n",
    "    jmp   b_bigger\n",
    "\n",
    "a_bigger:\n",
    "    sub   c, d\n",
    "    jmp   proc_gcd\n",
    "\n",
    "b_bigger:\n",
    "    sub   d, c\n",
    "    jmp   proc_gcd\n",
    "\n",
    "init:\n",
    "    cmp   a, 0\n",
    "    jl    a_abs\n",
    "    cmp   b, 0\n",
    "    jl    b_abs\n",
    "    mov   c, a            ; temp1\n",
    "    mov   d, b            ; temp2\n",
    "    ret\n",
    "\n",
    "a_abs:\n",
    "    mul   a, -1\n",
    "    jmp   init\n",
    "\n",
    "b_abs:\n",
    "    mul   b, -1\n",
    "    jmp   init\n",
    "\n",
    "print:\n",
    "    msg   'gcd(', a, ', ', b, ') = ', c\n",
    "    ret\n",
    "'''\n",
    "\n",
    "print(assembler_interpreter(program_gcd))"
   ]
  },
  {
   "cell_type": "code",
   "execution_count": 6,
   "metadata": {},
   "outputs": [
    {
     "name": "stdout",
     "output_type": "stream",
     "text": [
      "2^10 = 1024\n"
     ]
    }
   ],
   "source": [
    "program_power = '''\n",
    "mov   a, 2            ; value1\n",
    "mov   b, 10           ; value2\n",
    "mov   c, a            ; temp1\n",
    "mov   d, b            ; temp2\n",
    "call  proc_func\n",
    "call  print\n",
    "end\n",
    "\n",
    "proc_func:\n",
    "    cmp   d, 1\n",
    "    je    continue\n",
    "    mul   c, a\n",
    "    dec   d\n",
    "    call  proc_func\n",
    "\n",
    "continue:\n",
    "    ret\n",
    "\n",
    "print:\n",
    "    msg a, '^', b, ' = ', c\n",
    "    ret\n",
    "'''\n",
    "\n",
    "print(assembler_interpreter(program_power))"
   ]
  },
  {
   "cell_type": "code",
   "execution_count": null,
   "metadata": {},
   "outputs": [],
   "source": []
  }
 ],
 "metadata": {
  "kernelspec": {
   "display_name": "Python 3 (ipykernel)",
   "language": "python",
   "name": "python3"
  },
  "language_info": {
   "codemirror_mode": {
    "name": "ipython",
    "version": 3
   },
   "file_extension": ".py",
   "mimetype": "text/x-python",
   "name": "python",
   "nbconvert_exporter": "python",
   "pygments_lexer": "ipython3",
   "version": "3.11.3"
  }
 },
 "nbformat": 4,
 "nbformat_minor": 4
}
