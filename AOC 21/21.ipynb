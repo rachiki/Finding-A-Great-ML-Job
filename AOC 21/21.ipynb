{
 "cells": [
  {
   "cell_type": "code",
   "execution_count": 1,
   "id": "d13717ef-aeb6-4d74-903b-aa04d044839c",
   "metadata": {},
   "outputs": [],
   "source": [
    "import numpy as np"
   ]
  },
  {
   "cell_type": "code",
   "execution_count": 2,
   "id": "b957d740-8f17-4ffe-a08e-eaacad7eb5c5",
   "metadata": {},
   "outputs": [],
   "source": [
    "with open('inputs/21.txt', 'r') as file:\n",
    "    inp = file.read()[:-1]"
   ]
  },
  {
   "cell_type": "code",
   "execution_count": 3,
   "id": "229067f5",
   "metadata": {},
   "outputs": [
    {
     "name": "stdout",
     "output_type": "stream",
     "text": [
      "576600\n"
     ]
    }
   ],
   "source": [
    "# 1\n",
    "p = [int(i[-1]) for i in inp.split(\"\\n\")]\n",
    "s = [0, 0]\n",
    "d = 1\n",
    "c = 0\n",
    "while s[0]<1000 and s[1]<1000:\n",
    "    p[c] = (p[c]+d*3+3) % 10\n",
    "    if p[c] == 0: p[c] = 10\n",
    "    s[c] += p[c]\n",
    "    d += 3\n",
    "    if c == 0: c = 1\n",
    "    else: c = 0\n",
    "\n",
    "#print(s[0], s[1], p[0], p[1], d-1, min(s)*(d-1))\n",
    "print(min(s[0],s[1])*(d-1))"
   ]
  },
  {
   "cell_type": "code",
   "execution_count": 4,
   "id": "cc3e04d8",
   "metadata": {},
   "outputs": [
    {
     "name": "stdout",
     "output_type": "stream",
     "text": [
      "131888061854776\n"
     ]
    }
   ],
   "source": [
    "# 2\n",
    "p = [int(i[-1]) for i in inp.split(\"\\n\")]\n",
    "universes = np.array([p + [0,0,1]])\n",
    "outcomes = np.array(range(3,10)).reshape(-1,1)\n",
    "splits = np.array([1,3,6,7,6,3,1]).reshape(-1,1)\n",
    "c = 0\n",
    "won = [0,0]\n",
    "while universes.shape[0] != 0:\n",
    "    universes = universes[None,:,:] * np.ones((7,1,1))\n",
    "    universes[:,:,c] += outcomes\n",
    "    universes[:,:,c] = np.where(universes[:,:,c] > 10, universes[:,:,c]%10, universes[:,:,c])\n",
    "    universes[:,:,c+2] += universes[:,:,c]\n",
    "    universes[:,:,4] *= splits\n",
    "    universes = universes.reshape(-1, 5)\n",
    "    won[c] += np.sum(universes[:,4][universes[:,c+2] >= 21])\n",
    "    universes = universes[universes[:,c+2] < 21]\n",
    "    if c == 0: c = 1\n",
    "    else: c = 0     \n",
    "print(int(max(won)))"
   ]
  }
 ],
 "metadata": {
  "kernelspec": {
   "display_name": "Python 3 (ipykernel)",
   "language": "python",
   "name": "python3"
  },
  "language_info": {
   "codemirror_mode": {
    "name": "ipython",
    "version": 3
   },
   "file_extension": ".py",
   "mimetype": "text/x-python",
   "name": "python",
   "nbconvert_exporter": "python",
   "pygments_lexer": "ipython3",
   "version": "3.11.3"
  }
 },
 "nbformat": 4,
 "nbformat_minor": 5
}
