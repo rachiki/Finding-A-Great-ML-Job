{
 "cells": [
  {
   "cell_type": "code",
   "execution_count": 1,
   "id": "d7dc5742-285e-46d4-b8d6-1ef9f3de676d",
   "metadata": {},
   "outputs": [],
   "source": [
    "import numpy as np\n",
    "import scipy.signal"
   ]
  },
  {
   "cell_type": "code",
   "execution_count": 2,
   "id": "b845bdd7-e47e-4937-a535-e5992a97e1c6",
   "metadata": {},
   "outputs": [],
   "source": [
    "with open('inputs/20.txt', 'r') as file:\n",
    "    inp = file.read()[:-1]"
   ]
  },
  {
   "cell_type": "code",
   "execution_count": 3,
   "id": "42e782eb",
   "metadata": {},
   "outputs": [
    {
     "name": "stdout",
     "output_type": "stream",
     "text": [
      "5419\n",
      "17325\n"
     ]
    }
   ],
   "source": [
    "# 1 and 2\n",
    "inp = inp.replace(\"#\",\"1\")\n",
    "inp = inp.replace(\".\",\"0\")\n",
    "code, array = inp.split(\"\\n\\n\")\n",
    "code = np.array([int(i) for i in code])\n",
    "array = np.array([[int(j) for j in i] for i in array.split(\"\\n\")])\n",
    "array = np.pad(array, 100)\n",
    "conv = np.array([[2**0, 2**1, 2**2],[2**3, 2**4, 2**5],[2**6, 2**7, 2**8]])\n",
    "\n",
    "for i in range(50):\n",
    "    array = code[scipy.signal.convolve2d(array, conv, mode=\"valid\")]\n",
    "    if i == 1 or i == 49: print(np.sum(array))"
   ]
  }
 ],
 "metadata": {
  "kernelspec": {
   "display_name": "Python 3 (ipykernel)",
   "language": "python",
   "name": "python3"
  },
  "language_info": {
   "codemirror_mode": {
    "name": "ipython",
    "version": 3
   },
   "file_extension": ".py",
   "mimetype": "text/x-python",
   "name": "python",
   "nbconvert_exporter": "python",
   "pygments_lexer": "ipython3",
   "version": "3.11.3"
  }
 },
 "nbformat": 4,
 "nbformat_minor": 5
}
