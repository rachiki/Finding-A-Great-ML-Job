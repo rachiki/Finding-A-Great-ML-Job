{
 "cells": [
  {
   "cell_type": "code",
   "execution_count": 1,
   "id": "2feeea98",
   "metadata": {},
   "outputs": [],
   "source": [
    "import numpy as np"
   ]
  },
  {
   "cell_type": "code",
   "execution_count": 2,
   "id": "29df69a3",
   "metadata": {},
   "outputs": [],
   "source": [
    "def step(vx, vy, x, y):\n",
    "    x += vx\n",
    "    y += vy\n",
    "    vx -= np.sign(vx)\n",
    "    vy -= 1\n",
    "    return vx, vy, x, y"
   ]
  },
  {
   "cell_type": "code",
   "execution_count": 3,
   "id": "047c0de2-244a-4afc-8d6a-9f0809fea07e",
   "metadata": {},
   "outputs": [
    {
     "data": {
      "text/plain": [
       "7750"
      ]
     },
     "execution_count": 3,
     "metadata": {},
     "output_type": "execute_result"
    }
   ],
   "source": [
    "# 1\n",
    "n = 125 - 1   # Insert smallest y\n",
    "int((n**2 + n) / 2)"
   ]
  },
  {
   "cell_type": "code",
   "execution_count": 4,
   "id": "a8d063c2",
   "metadata": {},
   "outputs": [
    {
     "data": {
      "text/plain": [
       "4120"
      ]
     },
     "execution_count": 4,
     "metadata": {},
     "output_type": "execute_result"
    }
   ],
   "source": [
    "# 2\n",
    "viable = []\n",
    "for init_vy in range(-200,200):\n",
    "    vy = init_vy\n",
    "    for init_vx in range(200):\n",
    "        vx = init_vx\n",
    "        x, y = 0, 0\n",
    "        while x<=185 and y >=-125:\n",
    "            vx, vy, x, y = step(vx, vy, x, y)\n",
    "            if x in range(138,185) and y in range(-125,-70):  # Manually inserted input here\n",
    "                viable += [[init_vx, init_vy]]\n",
    "                break\n",
    "        vy = init_vy\n",
    "        vx = init_vx\n",
    "len(viable)"
   ]
  }
 ],
 "metadata": {
  "kernelspec": {
   "display_name": "Python 3 (ipykernel)",
   "language": "python",
   "name": "python3"
  },
  "language_info": {
   "codemirror_mode": {
    "name": "ipython",
    "version": 3
   },
   "file_extension": ".py",
   "mimetype": "text/x-python",
   "name": "python",
   "nbconvert_exporter": "python",
   "pygments_lexer": "ipython3",
   "version": "3.11.3"
  }
 },
 "nbformat": 4,
 "nbformat_minor": 5
}
