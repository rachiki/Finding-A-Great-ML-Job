{
 "cells": [
  {
   "cell_type": "code",
   "execution_count": 1,
   "id": "0a44f1ff",
   "metadata": {},
   "outputs": [],
   "source": [
    "import numpy as np\n",
    "from scipy.spatial.transform import Rotation as R\n",
    "from collections import Counter"
   ]
  },
  {
   "cell_type": "code",
   "execution_count": 2,
   "id": "3edb37cd-a3e4-4668-a621-42a6d6185fbc",
   "metadata": {},
   "outputs": [],
   "source": [
    "with open('inputs/19.txt', 'r') as file:\n",
    "    inp = file.read()[:-1]"
   ]
  },
  {
   "cell_type": "code",
   "execution_count": 3,
   "id": "f50e96ac",
   "metadata": {},
   "outputs": [],
   "source": [
    "def all_rot(vec):\n",
    "    vecs = []\n",
    "    for xy_rot in np.radians([[0,0,0],[90,0,0],[180,0,0],[270,0,0],[0,90,0],[0,-90,0]]):\n",
    "        rotation = R.from_rotvec(xy_rot)\n",
    "        rotated_vec = rotation.apply(vec)\n",
    "        for z_rot in np.radians([[0,0,0],[0,0,90],[0,0,180],[0,0,270]]):\n",
    "            rotation = R.from_rotvec(z_rot)\n",
    "            rotated_vec = rotation.apply(rotated_vec)\n",
    "            vecs.append(rotated_vec)\n",
    "    return np.array(vecs)"
   ]
  },
  {
   "cell_type": "code",
   "execution_count": 4,
   "id": "df47234e",
   "metadata": {},
   "outputs": [
    {
     "name": "stdout",
     "output_type": "stream",
     "text": [
      "338\n",
      "9862\n"
     ]
    }
   ],
   "source": [
    "# 1 and 2\n",
    "coo = [[[int(k) for k in j.split(\",\")] for j in i.split(\"\\n\") if \",\" in j] for i in inp.split(\"\\n\\n\")]\n",
    "\n",
    "scanners = []\n",
    "beacons = set()\n",
    "pos = np.array([0,0,0])\n",
    "rel = np.array(coo[0])\n",
    "done = [0]\n",
    "queue = [[pos, rel]]\n",
    "\n",
    "while queue:\n",
    "    (pos, rel) = queue.pop()\n",
    "    scanners.append(pos)\n",
    "    for i in rel: beacons.add(tuple(i+np.array(pos)))\n",
    "    for scan_nr,i in enumerate(coo):\n",
    "        rotations = np.round(np.array(all_rot(i)))\n",
    "        if scan_nr not in done:\n",
    "            for r in rotations:\n",
    "                distances = (rel[:,None,:]-r[None,:,:]).reshape(-1,3)\n",
    "                only_coords = zip(distances[:,0], distances[:,1], distances[:,2])\n",
    "                coor, counts = Counter(only_coords).most_common()[0]\n",
    "                if counts >= 12:\n",
    "                    done += [scan_nr]\n",
    "                    queue.append([pos+np.round(np.array(coor)).astype(int), r*1])\n",
    "                    break\n",
    "print(len(beacons))\n",
    "print(np.max(np.sum(np.abs(np.array(scanners)[:,None,:]-np.array(scanners)[None,:,:]), axis=2)))"
   ]
  }
 ],
 "metadata": {
  "kernelspec": {
   "display_name": "Python 3 (ipykernel)",
   "language": "python",
   "name": "python3"
  },
  "language_info": {
   "codemirror_mode": {
    "name": "ipython",
    "version": 3
   },
   "file_extension": ".py",
   "mimetype": "text/x-python",
   "name": "python",
   "nbconvert_exporter": "python",
   "pygments_lexer": "ipython3",
   "version": "3.11.3"
  }
 },
 "nbformat": 4,
 "nbformat_minor": 5
}
