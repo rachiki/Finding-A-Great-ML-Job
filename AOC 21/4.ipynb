{
 "cells": [
  {
   "cell_type": "code",
   "execution_count": 1,
   "id": "188a6768-174d-41bd-8a89-dca4a66d6a51",
   "metadata": {},
   "outputs": [],
   "source": [
    "with open('inputs/4.txt', 'r') as file:\n",
    "    inp = file.read()[:-1]"
   ]
  },
  {
   "cell_type": "code",
   "execution_count": 2,
   "id": "664460f5",
   "metadata": {},
   "outputs": [],
   "source": [
    "import numpy as np"
   ]
  },
  {
   "cell_type": "code",
   "execution_count": 3,
   "id": "06657f9b",
   "metadata": {},
   "outputs": [
    {
     "name": "stdout",
     "output_type": "stream",
     "text": [
      "[30, 35, 8, 2, 39, 37, 72, 7, 81, 41, 25, 46, 56, 18, 89, 70, 0, 15, 84, 75, 88, 67, 42, 44, 94, 71, 79, 65, 58, 52, 96, 83, 54, 29, 14, 95, 66, 61, 97, 68, 57, 90, 55, 32, 17, 47, 20, 98, 1, 69, 63, 62, 31, 86, 77, 85, 87, 93, 26, 40, 24, 19, 48, 76, 73, 49, 34, 45, 82, 22, 80, 78, 23, 6, 59, 91, 64, 43, 21, 51, 13, 3, 53, 99, 4, 28, 33, 74, 12, 9, 36, 50, 60, 11, 27, 10, 5, 16, 92, 38]\n",
      "[30 35  8  2 39 37 72  7 81 41 25 46 56 18 89 70  0 15 84 75 88 67 42 44\n",
      " 94 71 79 65 58 52 96 83 54 29 14 95 66 61 97 68 57 90 55 32 17 47 20 98\n",
      "  1 69 63 62 31 86 77 85 87 93 26 40 24 19 48 76 73 49 34 45 82 22 80 78\n",
      " 23  6 59 91 64 43 21 51 13  3 53 99  4 28 33 74 12  9 36 50 60 11 27 10\n",
      "  5 16 92 38] [[[94 97 41 22 48]\n",
      "  [21 47 72 23 26]\n",
      "  [12 81 86 24 91]\n",
      "  [71 78 90 59 54]\n",
      "  [92 63 68 65  1]]\n",
      "\n",
      " [[75 62 66 74 37]\n",
      "  [14 79 35 96 30]\n",
      "  [33 25 29 57  6]\n",
      "  [60 93 17 55 53]\n",
      "  [65 16 59 40 27]]\n",
      "\n",
      " [[26 60 95 24 78]\n",
      "  [55 12 22 68 43]\n",
      "  [67 48 85 66 36]\n",
      "  [29 80 52  3 56]\n",
      "  [11 59 41 15 18]]\n",
      "\n",
      " ...\n",
      "\n",
      " [[ 0 79 49 14 44]\n",
      "  [93 69 46 19 54]\n",
      "  [63 89 60 95 20]\n",
      "  [47 24 33 16  6]\n",
      "  [35 27 61 29 28]]\n",
      "\n",
      " [[57 40 49 31  1]\n",
      "  [74 61 21 85 26]\n",
      "  [95 83 69  8 29]\n",
      "  [34 25 17 82 92]\n",
      "  [78 14 53 65 87]]\n",
      "\n",
      " [[18 97 74 79 15]\n",
      "  [78 57 41 44 64]\n",
      "  [48 21  2 59 96]\n",
      "  [30 73 34 86 16]\n",
      "  [39 37 98 76 63]]]\n"
     ]
    }
   ],
   "source": [
    "inp2 = inp.split(\"\\n\\n\")\n",
    "draw = [int(i) for i in inp2[0].split(\",\")]\n",
    "print(draw)\n",
    "\n",
    "boards = [i.split(\"\\n\") for i in inp2[1:]]\n",
    "\n",
    "new_bs = []\n",
    "for b in boards:\n",
    "    new_b = []\n",
    "    for l in b:\n",
    "        new_b.append([int(n) for n in l.split()])\n",
    "    new_bs.append(new_b)\n",
    "\n",
    "draw = np.array(draw)\n",
    "new_bs = np.array(new_bs)\n",
    "print(draw, new_bs)"
   ]
  },
  {
   "cell_type": "code",
   "execution_count": 4,
   "id": "1ac7a841",
   "metadata": {},
   "outputs": [
    {
     "name": "stdout",
     "output_type": "stream",
     "text": [
      "(100, 2, 5, 5)\n",
      "54275\n"
     ]
    }
   ],
   "source": [
    "# 1\n",
    "full = np.concatenate((new_bs[:,None,:,:], np.zeros(new_bs.shape)[:,None,:,:]), axis=1)\n",
    "print(full.shape)\n",
    "for i in draw:\n",
    "    full[:,1,:,:][full[:,0,:,:] == i] = 1\n",
    "    if np.any(np.sum(full[:,1,:,:], axis=1) == 5):\n",
    "        #print(full)\n",
    "        winner = np.any(np.sum(full[:,1,:,:], axis=1) == 5, axis=1)\n",
    "        print(int(np.sum(full[winner,0,:,:][full[winner,1,:,:] == 0]) * i))\n",
    "        break\n",
    "    if np.any(np.sum(full[:,1,:,:], axis=2) == 5):\n",
    "        #print(full)\n",
    "        winner = np.any(np.sum(full[:,1,:,:], axis=2) == 5, axis=1)\n",
    "        print(int(np.sum(full[winner,0,:,:][full[winner,1,:,:] == 0]) * i))\n",
    "        break"
   ]
  },
  {
   "cell_type": "code",
   "execution_count": 5,
   "id": "010f0ec2",
   "metadata": {},
   "outputs": [
    {
     "name": "stdout",
     "output_type": "stream",
     "text": [
      "13158\n"
     ]
    }
   ],
   "source": [
    "# 2\n",
    "full = np.concatenate((new_bs[:,None,:,:], np.zeros(new_bs.shape)[:,None,:,:]), axis=1)\n",
    "\n",
    "for i in draw:\n",
    "    full[:,1,:,:][full[:,0,:,:] == i] = 1\n",
    "    if np.any(np.sum(full[:,1,:,:], axis=1) == 5):\n",
    "        if full.shape[0] == 1:\n",
    "            print(int(np.sum(full[0,0,:,:][full[0,1,:,:] == 0]) * i))\n",
    "            break\n",
    "        winner = np.any(np.sum(full[:,1,:,:], axis=1) == 5, axis=1)\n",
    "        full = full[np.logical_not(winner)]\n",
    "        \n",
    "    if np.any(np.sum(full[:,1,:,:], axis=2) == 5):\n",
    "        if full.shape[0] == 1:\n",
    "            print(int(np.sum(full[0,0,:,:][full[0,1,:,:] == 0]) * i))\n",
    "            break\n",
    "        winner = np.any(np.sum(full[:,1,:,:], axis=2) == 5, axis=1)\n",
    "        full = full[np.logical_not(winner)]       "
   ]
  }
 ],
 "metadata": {
  "kernelspec": {
   "display_name": "Python 3 (ipykernel)",
   "language": "python",
   "name": "python3"
  },
  "language_info": {
   "codemirror_mode": {
    "name": "ipython",
    "version": 3
   },
   "file_extension": ".py",
   "mimetype": "text/x-python",
   "name": "python",
   "nbconvert_exporter": "python",
   "pygments_lexer": "ipython3",
   "version": "3.11.3"
  }
 },
 "nbformat": 4,
 "nbformat_minor": 5
}
