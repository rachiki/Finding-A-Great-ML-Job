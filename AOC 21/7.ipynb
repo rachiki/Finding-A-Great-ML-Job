{
 "cells": [
  {
   "cell_type": "code",
   "execution_count": 1,
   "id": "828419f3-b9b1-4290-ac4f-73a72d1d4e2c",
   "metadata": {},
   "outputs": [],
   "source": [
    "with open('inputs/7.txt', 'r') as file:\n",
    "    inp = file.read()[:-1]"
   ]
  },
  {
   "cell_type": "code",
   "execution_count": 2,
   "id": "00cb3959",
   "metadata": {},
   "outputs": [],
   "source": [
    "import numpy as np\n",
    "import statistics"
   ]
  },
  {
   "cell_type": "code",
   "execution_count": 3,
   "id": "4dac695f",
   "metadata": {},
   "outputs": [],
   "source": [
    "crabs = [int(i) for i in inp.split(\",\")]"
   ]
  },
  {
   "cell_type": "code",
   "execution_count": 4,
   "id": "63d269a3",
   "metadata": {},
   "outputs": [
    {
     "data": {
      "text/plain": [
       "359648"
      ]
     },
     "execution_count": 4,
     "metadata": {},
     "output_type": "execute_result"
    }
   ],
   "source": [
    "med = statistics.median(crabs)\n",
    "int(abs(np.array(crabs) - med).sum())"
   ]
  },
  {
   "cell_type": "code",
   "execution_count": 5,
   "id": "c5c09103",
   "metadata": {},
   "outputs": [
    {
     "data": {
      "text/plain": [
       "100727924"
      ]
     },
     "execution_count": 5,
     "metadata": {},
     "output_type": "execute_result"
    }
   ],
   "source": [
    "low = 10000000000\n",
    "for middle in range(1500):\n",
    "    current = sum((np.array(crabs) - middle) **2 + abs(np.array(crabs) - middle))/2\n",
    "    if low > current:\n",
    "        low = current\n",
    "\n",
    "int(low)"
   ]
  }
 ],
 "metadata": {
  "kernelspec": {
   "display_name": "Python 3 (ipykernel)",
   "language": "python",
   "name": "python3"
  },
  "language_info": {
   "codemirror_mode": {
    "name": "ipython",
    "version": 3
   },
   "file_extension": ".py",
   "mimetype": "text/x-python",
   "name": "python",
   "nbconvert_exporter": "python",
   "pygments_lexer": "ipython3",
   "version": "3.11.3"
  }
 },
 "nbformat": 4,
 "nbformat_minor": 5
}
