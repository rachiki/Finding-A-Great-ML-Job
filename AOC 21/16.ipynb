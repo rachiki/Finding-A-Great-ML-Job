{
 "cells": [
  {
   "cell_type": "code",
   "execution_count": 1,
   "id": "9047f44e-02cb-42b4-85ae-644a3cbd8bd0",
   "metadata": {},
   "outputs": [],
   "source": [
    "with open('inputs/16.txt', 'r') as file:\n",
    "    inp = file.read()[:-1]"
   ]
  },
  {
   "cell_type": "code",
   "execution_count": 2,
   "id": "99c429a6",
   "metadata": {},
   "outputs": [],
   "source": [
    "def to_binary(inp):\n",
    "    scale = 16 ## equals to hexadecimal\n",
    "    num_of_bits = len(inp)*4\n",
    "    return bin(int(inp, scale))[2:].zfill(num_of_bits)"
   ]
  },
  {
   "cell_type": "code",
   "execution_count": 3,
   "id": "c2b78d8d",
   "metadata": {},
   "outputs": [],
   "source": [
    "def literal(inp, pos):\n",
    "    number = \"\"\n",
    "    i = 0\n",
    "    while True:   \n",
    "        number += inp[pos+7+i:pos+11+i]\n",
    "        if int(inp[pos+6+i]) != 1:\n",
    "            break\n",
    "        i += 5      \n",
    "    return int(number, 2), 11+i+pos"
   ]
  },
  {
   "cell_type": "code",
   "execution_count": 4,
   "id": "e33ff08b",
   "metadata": {},
   "outputs": [],
   "source": [
    "def pv_and_type(inp, pos):\n",
    "    packet_version = inp[pos:3+pos]\n",
    "    type_ID = inp[pos+3:6+pos]\n",
    "    return int(packet_version, 2), int(type_ID, 2)"
   ]
  },
  {
   "cell_type": "code",
   "execution_count": 5,
   "id": "de3accef",
   "metadata": {},
   "outputs": [],
   "source": [
    "# Task 1 Version number\n",
    "def packet1(inp, pos=0, max_pos=0, nr_sub=1, nr_current=1, v=0):\n",
    "    #print(inp[pos:], max_pos, nr_sub)\n",
    "    pv, typ = pv_and_type(inp, pos)\n",
    "    #print(pv, typ)\n",
    "    if typ == 4:\n",
    "        number, pos = literal(inp, pos)\n",
    "        #print(number)\n",
    "        if pos < max_pos:\n",
    "            pos, v = packet1(inp, pos, max_pos, v=v)\n",
    "        if nr_current < nr_sub:\n",
    "            pos, v = packet1(inp, pos, max_pos=0, nr_sub=nr_sub, nr_current=nr_current+1, v=v)\n",
    "        \n",
    "    elif int(inp[pos+6]) == 0:\n",
    "        length = int(inp[pos+7:pos+22], 2)\n",
    "        pos += 22\n",
    "        new_max_pos = pos + length\n",
    "        pos, v = packet1(inp, pos, new_max_pos, v=v)\n",
    "        if pos < max_pos:\n",
    "            pos, v = packet1(inp, pos, max_pos, v=v)\n",
    "        if nr_current < nr_sub:\n",
    "            pos, v = packet1(inp, pos, max_pos=0, nr_sub=nr_sub, nr_current=nr_current+1, v=v)\n",
    "    else:\n",
    "        new_nr_sub = int(inp[pos+7:pos+18], 2)\n",
    "        pos += 18\n",
    "        pos, v = packet1(inp, pos, max_pos=0, nr_sub=new_nr_sub, v=v)\n",
    "        if pos < max_pos:\n",
    "            pos, v = packet1(inp, pos, max_pos, v=v)\n",
    "        if nr_current < nr_sub:\n",
    "            pos, v = packet1(inp, pos, max_pos=0, nr_sub=nr_sub, nr_current=nr_current+1, v=v)\n",
    "    \n",
    "    return pos, v+pv"
   ]
  },
  {
   "cell_type": "code",
   "execution_count": 6,
   "id": "bd34e883",
   "metadata": {},
   "outputs": [],
   "source": [
    "# Task 2 operator\n",
    "def packet2(inp, pos=0, max_pos=0, nr_sub=1, nr_current=1, v=[]):\n",
    "    pv, typ = pv_and_type(inp, pos)\n",
    "    if typ == 4:\n",
    "        number, pos = literal(inp, pos)\n",
    "        v += [number]\n",
    "    else:\n",
    "        s = [i for i in v]\n",
    "        if int(inp[pos+6]) == 0:\n",
    "            length = int(inp[pos+7:pos+22], 2)\n",
    "            pos += 22\n",
    "            new_max_pos = pos + length\n",
    "            pos, v = packet2(inp, pos, new_max_pos, v=[])\n",
    "        else:\n",
    "            new_nr_sub = int(inp[pos+7:pos+18], 2)\n",
    "            pos += 18\n",
    "            pos, v = packet2(inp, pos, max_pos=0, nr_sub=new_nr_sub, v=[])    \n",
    "        #print(typ, v)\n",
    "        if typ == 0: v = [sum(v)]\n",
    "        elif typ == 1:\n",
    "            i = 1\n",
    "            for j in v: i *= j\n",
    "            v = [i]\n",
    "        elif typ == 2: v = [min(v)]\n",
    "        elif typ == 3: v = [max(v)]\n",
    "        elif typ == 5: v = [int(v[0]>v[1])]\n",
    "        elif typ == 6: v = [int(v[0]<v[1])]\n",
    "        elif typ == 7: v = [int(v[0]==v[1])]   \n",
    "        v = s+v\n",
    "    if pos < max_pos: pos, v = packet2(inp, pos, max_pos, v=v)\n",
    "    if nr_current < nr_sub: pos, v = packet2(inp, pos, max_pos=0, nr_sub=nr_sub, nr_current=nr_current+1, v=v)\n",
    "        \n",
    "    return pos, v"
   ]
  },
  {
   "cell_type": "code",
   "execution_count": 7,
   "id": "3fdd6230",
   "metadata": {},
   "outputs": [
    {
     "name": "stdout",
     "output_type": "stream",
     "text": [
      "929\n",
      "911945136934\n"
     ]
    }
   ],
   "source": [
    "# 1 and 2\n",
    "binary = to_binary(inp)\n",
    "_, sol1 = packet1(binary, v=0)\n",
    "_, sol2 = packet2(binary, v=[])\n",
    "print(sol1)\n",
    "print(sol2[0])"
   ]
  }
 ],
 "metadata": {
  "kernelspec": {
   "display_name": "Python 3 (ipykernel)",
   "language": "python",
   "name": "python3"
  },
  "language_info": {
   "codemirror_mode": {
    "name": "ipython",
    "version": 3
   },
   "file_extension": ".py",
   "mimetype": "text/x-python",
   "name": "python",
   "nbconvert_exporter": "python",
   "pygments_lexer": "ipython3",
   "version": "3.11.3"
  }
 },
 "nbformat": 4,
 "nbformat_minor": 5
}
