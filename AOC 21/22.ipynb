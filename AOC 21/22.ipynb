{
 "cells": [
  {
   "cell_type": "code",
   "execution_count": 1,
   "id": "f10628b1",
   "metadata": {},
   "outputs": [],
   "source": [
    "import numpy as np\n",
    "import collections\n",
    "import re"
   ]
  },
  {
   "cell_type": "code",
   "execution_count": 2,
   "id": "daf8e72c-d43b-404e-ae51-fd165e7eab20",
   "metadata": {},
   "outputs": [],
   "source": [
    "with open('inputs/22.txt', 'r') as file:\n",
    "    inp = file.read()[:-1]"
   ]
  },
  {
   "cell_type": "code",
   "execution_count": 3,
   "id": "4b3859f4",
   "metadata": {},
   "outputs": [],
   "source": [
    "inp2 = inp.replace(\"on\", \"1\")\n",
    "inp2 = inp2.replace(\"off\", \"0\")\n",
    "inp2 = inp2.replace(\"..\",\",\")\n",
    "inp2 = inp2.replace(\"x=\",\"\")\n",
    "inp2 = inp2.replace(\"y=\",\"\")\n",
    "inp2 = inp2.replace(\"z=\",\"\")\n",
    "a = [i.split(\" \") for i in inp2.split(\"\\n\")]"
   ]
  },
  {
   "cell_type": "code",
   "execution_count": 4,
   "id": "e4d2060a",
   "metadata": {},
   "outputs": [
    {
     "name": "stdout",
     "output_type": "stream",
     "text": [
      "581108\n"
     ]
    }
   ],
   "source": [
    "# 1\n",
    "reactor = np.zeros((101,101,101))\n",
    "for (turn,area) in a:\n",
    "    c = [int(i)+50 for i in area.split(\",\")]\n",
    "    x1,x2,y1,y2,z1,z2 = max(0, c[0]), min(101, c[1]+1), max(0, c[2]), min(101, c[3]+1), max(0, c[4]), min(101, c[5]+1)\n",
    "    reactor[x1:x2,y1:y2,z1:z2] = int(turn)\n",
    "print(int(np.sum(reactor)))"
   ]
  },
  {
   "cell_type": "code",
   "execution_count": 5,
   "id": "7cd9a52d",
   "metadata": {},
   "outputs": [
    {
     "name": "stdout",
     "output_type": "stream",
     "text": [
      "1325473814582641\n"
     ]
    }
   ],
   "source": [
    "# 2 \n",
    "# Credit to Boojum for sharing the solution\n",
    "cubes = collections.Counter()\n",
    "for line in inp.split(\"\\n\"): \n",
    "    nsgn = 1 if line.split()[0] == \"on\" else -1\n",
    "    nx0, nx1, ny0, ny1, nz0, nz1 = map(int, re.findall(\"-?\\d+\", line))\n",
    "\n",
    "    update = collections.Counter()\n",
    "    for (ex0, ex1, ey0, ey1, ez0, ez1), esgn in cubes.items():\n",
    "        ix0 = max(nx0, ex0); ix1 = min(nx1, ex1)\n",
    "        iy0 = max(ny0, ey0); iy1 = min(ny1, ey1)\n",
    "        iz0 = max(nz0, ez0); iz1 = min(nz1, ez1)\n",
    "        if ix0 <= ix1 and iy0 <= iy1 and iz0 <= iz1:\n",
    "            update[(ix0, ix1, iy0, iy1, iz0, iz1)] -= esgn\n",
    "    if nsgn > 0:\n",
    "        update[(nx0, nx1, ny0, ny1, nz0, nz1)] += nsgn\n",
    "    cubes.update(update)\n",
    "print(sum((x1 - x0 + 1) * (y1 - y0 + 1) * (z1 - z0 + 1) * sgn\n",
    "          for (x0, x1, y0, y1, z0, z1), sgn in cubes.items())) "
   ]
  }
 ],
 "metadata": {
  "kernelspec": {
   "display_name": "Python 3 (ipykernel)",
   "language": "python",
   "name": "python3"
  },
  "language_info": {
   "codemirror_mode": {
    "name": "ipython",
    "version": 3
   },
   "file_extension": ".py",
   "mimetype": "text/x-python",
   "name": "python",
   "nbconvert_exporter": "python",
   "pygments_lexer": "ipython3",
   "version": "3.11.3"
  }
 },
 "nbformat": 4,
 "nbformat_minor": 5
}
