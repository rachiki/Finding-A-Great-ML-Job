{
 "cells": [
  {
   "cell_type": "code",
   "execution_count": 1,
   "id": "722aa663",
   "metadata": {},
   "outputs": [],
   "source": [
    "with open('inputs/1.txt', 'r') as file:\n",
    "    inp = file.read()[:-1]"
   ]
  },
  {
   "cell_type": "code",
   "execution_count": 2,
   "id": "ba827f48",
   "metadata": {},
   "outputs": [],
   "source": [
    "depths = [int(i) for i in inp.split(\"\\n\")]"
   ]
  },
  {
   "cell_type": "code",
   "execution_count": 3,
   "id": "516dcfd2",
   "metadata": {},
   "outputs": [
    {
     "data": {
      "text/plain": [
       "1791"
      ]
     },
     "execution_count": 3,
     "metadata": {},
     "output_type": "execute_result"
    }
   ],
   "source": [
    "# 1\n",
    "counter = 0\n",
    "current_depth = depths[0]\n",
    "for d in depths[1:]:\n",
    "    if d > current_depth:\n",
    "        counter += 1\n",
    "    current_depth = d\n",
    "counter"
   ]
  },
  {
   "cell_type": "code",
   "execution_count": 4,
   "id": "8d5ab0e2",
   "metadata": {},
   "outputs": [
    {
     "data": {
      "text/plain": [
       "1822"
      ]
     },
     "execution_count": 4,
     "metadata": {},
     "output_type": "execute_result"
    }
   ],
   "source": [
    "# 2\n",
    "counter = 0\n",
    "l = len(depths)\n",
    "current_sum = sum(depths[0:3])\n",
    "for i in range(l-2):\n",
    "    if current_sum < sum(depths[i:i+3]):\n",
    "        counter += 1\n",
    "    current_sum = sum(depths[i:i+3])\n",
    "counter"
   ]
  },
  {
   "cell_type": "code",
   "execution_count": null,
   "id": "5af73640-e7e7-4148-96d9-9d3a2d270207",
   "metadata": {},
   "outputs": [],
   "source": []
  }
 ],
 "metadata": {
  "kernelspec": {
   "display_name": "Python 3 (ipykernel)",
   "language": "python",
   "name": "python3"
  },
  "language_info": {
   "codemirror_mode": {
    "name": "ipython",
    "version": 3
   },
   "file_extension": ".py",
   "mimetype": "text/x-python",
   "name": "python",
   "nbconvert_exporter": "python",
   "pygments_lexer": "ipython3",
   "version": "3.11.3"
  }
 },
 "nbformat": 4,
 "nbformat_minor": 5
}
