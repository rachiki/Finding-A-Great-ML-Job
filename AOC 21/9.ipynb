{
 "cells": [
  {
   "cell_type": "code",
   "execution_count": 1,
   "id": "710bb4ab-d81d-4fe7-be7f-b1427da1254e",
   "metadata": {},
   "outputs": [],
   "source": [
    "with open('inputs/9.txt', 'r') as file:\n",
    "    inp = file.read()[:-1]"
   ]
  },
  {
   "cell_type": "code",
   "execution_count": 2,
   "id": "f0ed21e4",
   "metadata": {},
   "outputs": [],
   "source": [
    "import numpy as np\n",
    "import torch"
   ]
  },
  {
   "cell_type": "code",
   "execution_count": 3,
   "id": "b1ddcb5e",
   "metadata": {},
   "outputs": [],
   "source": [
    "cave = [list(i) for i in inp.split(\"\\n\")]\n",
    "cave = np.array(cave).astype(int)\n",
    "#cave"
   ]
  },
  {
   "cell_type": "code",
   "execution_count": 4,
   "id": "9172254d",
   "metadata": {},
   "outputs": [
    {
     "name": "stdout",
     "output_type": "stream",
     "text": [
      "532\n"
     ]
    }
   ],
   "source": [
    "# 1\n",
    "hi,wi = cave.shape\n",
    "risk = 0\n",
    "for h in range(hi):\n",
    "    for w in range(wi):\n",
    "        compare = []\n",
    "        try: compare.append(cave[h-1,w])\n",
    "        except: pass\n",
    "        try: compare.append(cave[h+1,w])\n",
    "        except: pass\n",
    "        try: compare.append(cave[h,w-1])\n",
    "        except: pass\n",
    "        try: compare.append(cave[h,w+1])\n",
    "        except: pass\n",
    "        \n",
    "        if cave[h,w] + 1 <= min(compare):\n",
    "            risk += cave[h,w] + 1\n",
    "\n",
    "print(risk)"
   ]
  },
  {
   "cell_type": "code",
   "execution_count": 5,
   "id": "845fa276",
   "metadata": {},
   "outputs": [],
   "source": [
    "hi,wi = cave.shape\n",
    "risk = 0\n",
    "for h in range(hi):\n",
    "    for w in range(wi):\n",
    "        compare = []\n",
    "        try: compare.append(cave[h-1,w])\n",
    "        except: pass\n",
    "        try: compare.append(cave[h+1,w])\n",
    "        except: pass\n",
    "        try: compare.append(cave[h,w-1])\n",
    "        except: pass\n",
    "        try: compare.append(cave[h,w+1])\n",
    "        except: pass\n",
    "        \n",
    "        if cave[h,w] < min(compare):\n",
    "            cave[h,w] = -1\n",
    "        \n",
    "#print(cave)"
   ]
  },
  {
   "cell_type": "code",
   "execution_count": 6,
   "id": "951d36f1",
   "metadata": {},
   "outputs": [],
   "source": [
    "def find_seperate_basins(segmentation):\n",
    "    all_basins = []\n",
    "    current_index = -2\n",
    "    height, width = segmentation.shape\n",
    "    \n",
    "    for h in range(height):\n",
    "        for w in range(width):\n",
    "            if segmentation[h,w] == -1:\n",
    "                segmentation[h,w] = current_index\n",
    "                segmentation = complete_basin(segmentation, h, w, current_index) \n",
    "                current_index -= 1\n",
    "    \n",
    "    for i in range(-2, current_index, -1):\n",
    "        all_basins.append(np.sum(np.where(segmentation == i, 1, 0)))\n",
    "    \n",
    "    return segmentation, all_basins"
   ]
  },
  {
   "cell_type": "code",
   "execution_count": 7,
   "id": "d53f5b4e",
   "metadata": {},
   "outputs": [],
   "source": [
    "def complete_basin(segmentation, x, y, current_index):\n",
    "    frontier = set()\n",
    "    frontier.add((x, y))\n",
    "    \n",
    "    while len(frontier) > 0:          # exit while loop when frontier queue equals zero\n",
    "        x, y = frontier.pop()     # pop next entry in the frontier queue an assign to x and y location \n",
    "        if x-1 >= 0:\n",
    "            if segmentation[(x - 1, y)] != 9 and segmentation[(x - 1, y)] != current_index:  # check the cell on the left\n",
    "                cell = (x - 1, y)\n",
    "                frontier.add(cell)    \n",
    "                segmentation[cell] = current_index\n",
    "\n",
    "        if y-1 >= 0:\n",
    "            if segmentation[(x, y - 1)] != 9 and segmentation[(x , y - 1)] != current_index:  # check the cell down\n",
    "                cell = (x, y - 1)\n",
    "                frontier.add(cell)\n",
    "                segmentation[cell] = current_index\n",
    "        \n",
    "        if x+1 < segmentation.shape[0]:\n",
    "            if segmentation[(x + 1, y)] != 9 and segmentation[(x + 1, y)] != current_index:   # check the cell on the  right\n",
    "                cell = (x + 1, y)\n",
    "                frontier.add(cell)\n",
    "                segmentation[cell] = current_index\n",
    "        \n",
    "        if y+1 < segmentation.shape[1]:\n",
    "            if segmentation[(x, y + 1)] != 9 and segmentation[(x, y + 1)] != current_index:  # check the cell up\n",
    "                cell = (x, y + 1)\n",
    "                frontier.add(cell)\n",
    "                segmentation[cell] = current_index\n",
    "\n",
    "\n",
    "    return segmentation"
   ]
  },
  {
   "cell_type": "code",
   "execution_count": 8,
   "id": "60c2586f",
   "metadata": {},
   "outputs": [
    {
     "data": {
      "text/plain": [
       "1110780"
      ]
     },
     "execution_count": 8,
     "metadata": {},
     "output_type": "execute_result"
    }
   ],
   "source": [
    "# 2\n",
    "_, basin_size = find_seperate_basins(torch.tensor(cave*1))\n",
    "basin_size\n",
    "sol = 1\n",
    "for b in sorted(basin_size)[-3:]:\n",
    "    sol *= b\n",
    "sol"
   ]
  }
 ],
 "metadata": {
  "kernelspec": {
   "display_name": "Python 3 (ipykernel)",
   "language": "python",
   "name": "python3"
  },
  "language_info": {
   "codemirror_mode": {
    "name": "ipython",
    "version": 3
   },
   "file_extension": ".py",
   "mimetype": "text/x-python",
   "name": "python",
   "nbconvert_exporter": "python",
   "pygments_lexer": "ipython3",
   "version": "3.11.3"
  }
 },
 "nbformat": 4,
 "nbformat_minor": 5
}
