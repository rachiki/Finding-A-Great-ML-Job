{
 "cells": [
  {
   "cell_type": "code",
   "execution_count": 1,
   "id": "b58a1abd-564e-4efe-8e3b-d7c06e3a8dc7",
   "metadata": {},
   "outputs": [],
   "source": [
    "with open('inputs/8.txt', 'r') as file:\n",
    "    inp = file.read()[:-1]"
   ]
  },
  {
   "cell_type": "code",
   "execution_count": 2,
   "id": "34dc1e41",
   "metadata": {},
   "outputs": [],
   "source": [
    "import numpy as np\n",
    "import re\n",
    "from itertools import permutations"
   ]
  },
  {
   "cell_type": "code",
   "execution_count": 3,
   "id": "ab5b2b2e",
   "metadata": {},
   "outputs": [],
   "source": [
    "code = [i.strip().split(\" \") for i in re.split(\"\\n|\\|\", inp)]"
   ]
  },
  {
   "cell_type": "code",
   "execution_count": 4,
   "id": "ae028356",
   "metadata": {},
   "outputs": [
    {
     "data": {
      "text/plain": [
       "274"
      ]
     },
     "execution_count": 4,
     "metadata": {},
     "output_type": "execute_result"
    }
   ],
   "source": [
    "# 1\n",
    "counter = 0\n",
    "for k in code:\n",
    "    if len(k) == 4:\n",
    "        for e in k:\n",
    "            l = len(e)\n",
    "            if l in [2,3,4,7]:\n",
    "                counter += 1\n",
    "counter"
   ]
  },
  {
   "cell_type": "code",
   "execution_count": 5,
   "id": "83f6f55a",
   "metadata": {},
   "outputs": [
    {
     "data": {
      "text/plain": [
       "1012089"
      ]
     },
     "execution_count": 5,
     "metadata": {},
     "output_type": "execute_result"
    }
   ],
   "source": [
    "# 2\n",
    "perm = permutations([\"a\",\"b\",\"c\",\"d\",\"e\",\"f\",\"g\"])\n",
    "pos = {0: {1,2,3,5,6,7}, 1: {3,6}, 2:{1,3,4,5,7}, 3: {1,3,4,6,7}, 4: {2,3,4,6}, 5: {1,2,4,6,7}, 6: {1,2,4,5,6,7}, 7: {1,3,6}, 8: {1,2,3,4,5,6,7}, 9: {1,2,3,4,6,7}}\n",
    "possible = [pos[p] for p in pos]\n",
    "\n",
    "total = 0\n",
    "for line in code:\n",
    "    if len(line) == 10:\n",
    "        \n",
    "        # Iterate through all possible values \n",
    "        letters = {}\n",
    "        perm = permutations([\"a\",\"b\",\"c\",\"d\",\"e\",\"f\",\"g\"])\n",
    "        for p in perm:\n",
    "            for a in range(7):\n",
    "                letters[p[a]] = a+1\n",
    "            \n",
    "            # Try if words make sense\n",
    "            correct = True\n",
    "            for word in line:\n",
    "                positions = set()\n",
    "                for l in word:\n",
    "                    positions.add(letters[l])\n",
    "                if positions not in possible:\n",
    "                    correct = False\n",
    "                    break\n",
    "            if correct:\n",
    "                break\n",
    "            \n",
    "    else:\n",
    "        number = \"\"\n",
    "        for word in line:\n",
    "            positions = set()\n",
    "            for l in word:\n",
    "                positions.add(letters[l])\n",
    "            number += str(possible.index(positions))\n",
    "        total += int(number)\n",
    "total"
   ]
  }
 ],
 "metadata": {
  "kernelspec": {
   "display_name": "Python 3 (ipykernel)",
   "language": "python",
   "name": "python3"
  },
  "language_info": {
   "codemirror_mode": {
    "name": "ipython",
    "version": 3
   },
   "file_extension": ".py",
   "mimetype": "text/x-python",
   "name": "python",
   "nbconvert_exporter": "python",
   "pygments_lexer": "ipython3",
   "version": "3.11.3"
  }
 },
 "nbformat": 4,
 "nbformat_minor": 5
}
