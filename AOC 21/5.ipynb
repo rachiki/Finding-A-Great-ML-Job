{
 "cells": [
  {
   "cell_type": "code",
   "execution_count": 1,
   "id": "69fedec5-80b7-44b1-aeff-55ac34d52131",
   "metadata": {},
   "outputs": [],
   "source": [
    "with open('inputs/5.txt', 'r') as file:\n",
    "    inp = file.read()[:-1]"
   ]
  },
  {
   "cell_type": "code",
   "execution_count": 2,
   "id": "ed225248",
   "metadata": {},
   "outputs": [],
   "source": [
    "import numpy as np"
   ]
  },
  {
   "cell_type": "code",
   "execution_count": 3,
   "id": "ec9059c5",
   "metadata": {},
   "outputs": [
    {
     "data": {
      "text/plain": [
       "(500, 4)"
      ]
     },
     "execution_count": 3,
     "metadata": {},
     "output_type": "execute_result"
    }
   ],
   "source": [
    "split = inp.split(\"\\n\")\n",
    "numbers = []\n",
    "for line in split:\n",
    "    for l in line.split(\" -> \"):\n",
    "        numbers.append([int(k) for k in l.split(\",\")])\n",
    "\n",
    "numbers = np.array(numbers).reshape(-1,4)\n",
    "numbers.shape"
   ]
  },
  {
   "cell_type": "code",
   "execution_count": 4,
   "id": "9a154cf4",
   "metadata": {},
   "outputs": [
    {
     "data": {
      "text/plain": [
       "(336, 4)"
      ]
     },
     "execution_count": 4,
     "metadata": {},
     "output_type": "execute_result"
    }
   ],
   "source": [
    "# Filter first\n",
    "n1 = numbers[(numbers[:,0] == numbers[:,2]) | (numbers[:,1] == numbers[:,3])]\n",
    "n1.shape"
   ]
  },
  {
   "cell_type": "code",
   "execution_count": 5,
   "id": "9aeadc7b",
   "metadata": {},
   "outputs": [
    {
     "name": "stdout",
     "output_type": "stream",
     "text": [
      "6189\n"
     ]
    }
   ],
   "source": [
    "# 1\n",
    "area = np.zeros((1000,1000))\n",
    "for n in n1:\n",
    "    high_ver = max(n[1],n[3])\n",
    "    low_ver = min(n[1],n[3])\n",
    "    \n",
    "    high_hor = max(n[0],n[2])\n",
    "    low_hor = min(n[0],n[2])\n",
    "    \n",
    "    area[low_ver:high_ver+1,low_hor:high_hor+1] += 1\n",
    "    #print(area)\n",
    "\n",
    "print(np.sum(area > 1))"
   ]
  },
  {
   "cell_type": "code",
   "execution_count": 6,
   "id": "be7ef8b7",
   "metadata": {},
   "outputs": [
    {
     "data": {
      "text/plain": [
       "(164, 4)"
      ]
     },
     "execution_count": 6,
     "metadata": {},
     "output_type": "execute_result"
    }
   ],
   "source": [
    "# Filter second\n",
    "n2 = numbers[(numbers[:,0] != numbers[:,2]) & (numbers[:,1] != numbers[:,3])]\n",
    "n2.shape"
   ]
  },
  {
   "cell_type": "code",
   "execution_count": 7,
   "id": "c33a8577",
   "metadata": {},
   "outputs": [
    {
     "name": "stdout",
     "output_type": "stream",
     "text": [
      "19164\n"
     ]
    }
   ],
   "source": [
    "# 2\n",
    "area = np.zeros((1000,1000))\n",
    "for n in n1:\n",
    "    high_ver = max(n[1],n[3])\n",
    "    low_ver = min(n[1],n[3])\n",
    "    \n",
    "    high_hor = max(n[0],n[2])\n",
    "    low_hor = min(n[0],n[2])\n",
    "    \n",
    "    area[low_ver:high_ver+1,low_hor:high_hor+1] += 1\n",
    "\n",
    "for n in n2:\n",
    "    a = n[3] - n[1] \n",
    "    b = n[2] - n[0]\n",
    "    for i in range(abs(b)+1):\n",
    "        #print(n[1] + i*np.sign(a), n[0] + i*np.sign(b))\n",
    "        area[n[1] + i*np.sign(a), n[0] + i*np.sign(b)] += 1\n",
    "    \n",
    "print(np.sum(area > 1))"
   ]
  }
 ],
 "metadata": {
  "kernelspec": {
   "display_name": "Python 3 (ipykernel)",
   "language": "python",
   "name": "python3"
  },
  "language_info": {
   "codemirror_mode": {
    "name": "ipython",
    "version": 3
   },
   "file_extension": ".py",
   "mimetype": "text/x-python",
   "name": "python",
   "nbconvert_exporter": "python",
   "pygments_lexer": "ipython3",
   "version": "3.11.3"
  }
 },
 "nbformat": 4,
 "nbformat_minor": 5
}
