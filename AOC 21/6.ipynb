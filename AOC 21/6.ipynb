{
 "cells": [
  {
   "cell_type": "code",
   "execution_count": 1,
   "id": "544a5f65-ddff-4d2d-98d2-4b8ef300c4c0",
   "metadata": {},
   "outputs": [],
   "source": [
    "with open('inputs/6.txt', 'r') as file:\n",
    "    inp = file.read()[:-1]"
   ]
  },
  {
   "cell_type": "code",
   "execution_count": 2,
   "id": "59022cee",
   "metadata": {},
   "outputs": [],
   "source": [
    "import numpy as np"
   ]
  },
  {
   "cell_type": "code",
   "execution_count": 3,
   "id": "89be6d61",
   "metadata": {},
   "outputs": [],
   "source": [
    "nr = np.array([int(i) for i in inp.split(\",\")])"
   ]
  },
  {
   "cell_type": "code",
   "execution_count": 4,
   "id": "520fc7a8",
   "metadata": {},
   "outputs": [
    {
     "name": "stdout",
     "output_type": "stream",
     "text": [
      "362666\n",
      "1640526601595\n"
     ]
    }
   ],
   "source": [
    "# 1 and 2\n",
    "fishes = {}\n",
    "for i in range(9):\n",
    "    fishes[i] = 0\n",
    "\n",
    "for f in inp.split(\",\"):\n",
    "    fishes[int(f)] += 1\n",
    "\n",
    "for days in range(256):\n",
    "    new = fishes[0]\n",
    "    for f in range(8):\n",
    "        fishes[f] = fishes[f+1]\n",
    "    fishes[8] = new\n",
    "    fishes[6] += new\n",
    "\n",
    "    if days+1 in (80, 256):\n",
    "        s = 0\n",
    "        for i in range(9):\n",
    "            s += fishes[i]\n",
    "        print(s)"
   ]
  }
 ],
 "metadata": {
  "kernelspec": {
   "display_name": "Python 3 (ipykernel)",
   "language": "python",
   "name": "python3"
  },
  "language_info": {
   "codemirror_mode": {
    "name": "ipython",
    "version": 3
   },
   "file_extension": ".py",
   "mimetype": "text/x-python",
   "name": "python",
   "nbconvert_exporter": "python",
   "pygments_lexer": "ipython3",
   "version": "3.11.3"
  }
 },
 "nbformat": 4,
 "nbformat_minor": 5
}
