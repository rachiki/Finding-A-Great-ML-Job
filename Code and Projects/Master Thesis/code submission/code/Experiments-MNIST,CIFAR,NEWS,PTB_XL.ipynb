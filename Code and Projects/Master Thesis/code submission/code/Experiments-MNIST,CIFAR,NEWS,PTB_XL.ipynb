{
 "cells": [
  {
   "cell_type": "markdown",
   "id": "3475a267",
   "metadata": {
    "id": "9b40171b"
   },
   "source": [
    "# 0. Imports and setup (run all)"
   ]
  },
  {
   "cell_type": "code",
   "execution_count": 1,
   "id": "469ec4db",
   "metadata": {
    "colab": {
     "base_uri": "https://localhost:8080/"
    },
    "id": "KHzy14HVio5e",
    "outputId": "38a418ea-1506-440b-957e-5900dcb4a462"
   },
   "outputs": [
    {
     "name": "stderr",
     "output_type": "stream",
     "text": [
      "Der Befehl \"nvidia-smi\" ist entweder falsch geschrieben oder\n",
      "konnte nicht gefunden werden.\n"
     ]
    }
   ],
   "source": [
    "# Show the GPU currently in use\n",
    "!nvidia-smi"
   ]
  },
  {
   "cell_type": "code",
   "execution_count": 2,
   "id": "4f02b5e3",
   "metadata": {
    "id": "fbb03a05"
   },
   "outputs": [],
   "source": [
    "# Import relevant libraries\n",
    "import torch\n",
    "import torch.nn as nn\n",
    "import torch.nn.functional as F\n",
    "import torch.optim as optim\n",
    "from torch.utils.data import Dataset, DataLoader #TensorDataset, \n",
    "from torch.utils.data.sampler import SubsetRandomSampler\n",
    "import torchsummary\n",
    "import torchvision\n",
    "import torchvision.transforms as transforms\n",
    "\n",
    "from gensim.utils import simple_preprocess\n",
    "from gensim.corpora import Dictionary\n",
    "import matplotlib.pyplot as plt\n",
    "import time\n",
    "import numpy as np\n",
    "import tqdm\n",
    "import random\n",
    "from sklearn.model_selection import train_test_split\n",
    "\n",
    "import sys\n",
    "import os"
   ]
  },
  {
   "cell_type": "code",
   "execution_count": 4,
   "id": "04fe9c7e",
   "metadata": {
    "id": "Yd2m1PIfCt3b"
   },
   "outputs": [],
   "source": [
    "# Set device to gpu if available\n",
    "if torch.cuda.is_available(): \n",
    "    device = torch.device('cuda')\n",
    "else:\n",
    "    device = torch.device('cpu')"
   ]
  },
  {
   "cell_type": "markdown",
   "id": "526ff249",
   "metadata": {
    "id": "Kh58Akx8Alzk"
   },
   "source": [
    "# 1. MNIST, CIFAR10 and 20Newsgroups experiments"
   ]
  },
  {
   "cell_type": "markdown",
   "id": "c90fffac",
   "metadata": {
    "id": "fef61746"
   },
   "source": [
    "## 1.1 Model definitions for MNIST, CIFAR10 and 20Newsgroups (run all)"
   ]
  },
  {
   "cell_type": "markdown",
   "id": "c8477d3f",
   "metadata": {
    "id": "y08O_KHZ8Uch"
   },
   "source": [
    "### 1.1.1 VGG11 MNIST"
   ]
  },
  {
   "cell_type": "markdown",
   "id": "74c02daf",
   "metadata": {
    "id": "JrlT_0jkRC6w"
   },
   "source": [
    "VGGs were introduced in \"Very deep convolutional networks for large-scale image recognition\", we follow the description in most parts but employ a few small changes due to the changed input dimensions. The most impactful is that the fully connected layers are smaller shrinking the parameter count to 10M down from 130M for the torchvision implementation and speeding up training and inference a lot. We also added optional batch norm. This is enough to fit MNIST well, with our test accuracy being around 99.25% on the full dataset. A description can be seen in torchsummary.\n"
   ]
  },
  {
   "cell_type": "code",
   "execution_count": 5,
   "id": "a08bdf42",
   "metadata": {
    "id": "be0fea9c"
   },
   "outputs": [],
   "source": [
    "# Model definition\n",
    "class VGG11(nn.Module):\n",
    "    def __init__(self, in_channels, num_classes=10, use_bn=False):\n",
    "        super(VGG11, self).__init__()\n",
    "        self.in_channels = in_channels\n",
    "        self.num_classes = num_classes\n",
    "\n",
    "        # Convolutional ayers\n",
    "        if use_bn:\n",
    "            self.conv_layers = nn.Sequential(\n",
    "                nn.Conv2d(self.in_channels, 64, kernel_size=3, padding=1),\n",
    "                nn.BatchNorm2d(64),\n",
    "                nn.ReLU(),\n",
    "                nn.MaxPool2d(kernel_size=2, stride=2),\n",
    "                nn.Conv2d(64, 128, kernel_size=3, padding=3),\n",
    "                nn.BatchNorm2d(128),\n",
    "                nn.ReLU(),\n",
    "                nn.MaxPool2d(kernel_size=2, stride=2),\n",
    "                nn.Conv2d(128, 256, kernel_size=3, padding=1),\n",
    "                nn.BatchNorm2d(256),\n",
    "                nn.ReLU(),\n",
    "                nn.Conv2d(256, 256, kernel_size=3, padding=1),\n",
    "                nn.BatchNorm2d(256),\n",
    "                nn.ReLU(),\n",
    "                nn.MaxPool2d(kernel_size=2, stride=2),\n",
    "                nn.Conv2d(256, 512, kernel_size=3, padding=1),\n",
    "                nn.BatchNorm2d(512),\n",
    "                nn.ReLU(),\n",
    "                nn.Conv2d(512, 512, kernel_size=3, padding=1),\n",
    "                nn.BatchNorm2d(512),\n",
    "                nn.ReLU(),\n",
    "                nn.MaxPool2d(kernel_size=2, stride=2),\n",
    "                nn.Conv2d(512, 512, kernel_size=3, padding=1),\n",
    "                nn.BatchNorm2d(512),\n",
    "                nn.ReLU(),\n",
    "                nn.Conv2d(512, 512, kernel_size=3, padding=1),\n",
    "                nn.BatchNorm2d(512),\n",
    "                nn.ReLU(),\n",
    "                nn.AvgPool2d(kernel_size=2, stride=2)\n",
    "                )\n",
    "        else:\n",
    "            self.conv_layers = nn.Sequential(\n",
    "                nn.Conv2d(self.in_channels, 64, kernel_size=3, padding=1),\n",
    "                nn.ReLU(),\n",
    "                nn.MaxPool2d(kernel_size=2, stride=2),\n",
    "                nn.Conv2d(64, 128, kernel_size=3, padding=3),\n",
    "                nn.ReLU(),\n",
    "                nn.MaxPool2d(kernel_size=2, stride=2),\n",
    "                nn.Conv2d(128, 256, kernel_size=3, padding=1),\n",
    "                nn.ReLU(),\n",
    "                nn.Conv2d(256, 256, kernel_size=3, padding=1),\n",
    "                nn.ReLU(),\n",
    "                nn.MaxPool2d(kernel_size=2, stride=2),\n",
    "                nn.Conv2d(256, 512, kernel_size=3, padding=1),\n",
    "                nn.ReLU(),\n",
    "                nn.Conv2d(512, 512, kernel_size=3, padding=1),\n",
    "                nn.ReLU(),\n",
    "                nn.MaxPool2d(kernel_size=2, stride=2),\n",
    "                nn.Conv2d(512, 512, kernel_size=3, padding=1),\n",
    "                nn.ReLU(),\n",
    "                nn.Conv2d(512, 512, kernel_size=3, padding=1),\n",
    "                nn.ReLU(),\n",
    "                nn.AvgPool2d(kernel_size=2, stride=2)\n",
    "                )\n",
    "            \n",
    "        # Fully connected layers\n",
    "        if use_bn:\n",
    "            self.linear_layers = nn.Sequential(\n",
    "            nn.Linear(in_features=512*1*1, out_features=1024), # *7*7\n",
    "            torch.nn.BatchNorm1d(1024),\n",
    "            nn.ReLU(),\n",
    "            nn.Linear(in_features=1024, out_features=1024),\n",
    "            torch.nn.BatchNorm1d(1024),\n",
    "            nn.ReLU(),\n",
    "            nn.Linear(in_features=1024, out_features=self.num_classes)\n",
    "            )\n",
    "        else:\n",
    "            self.linear_layers = nn.Sequential(\n",
    "            nn.Linear(in_features=512*1*1, out_features=1024), # *7*7\n",
    "            nn.ReLU(),\n",
    "            nn.Linear(in_features=1024, out_features=1024),\n",
    "            nn.ReLU(),\n",
    "            nn.Linear(in_features=1024, out_features=self.num_classes)\n",
    "            )\n",
    "\n",
    "    def forward(self, x):\n",
    "        x = self.conv_layers(x)\n",
    "        x = x.view(x.size(0), -1)\n",
    "        x = self.linear_layers(x)\n",
    "        return x"
   ]
  },
  {
   "cell_type": "code",
   "execution_count": 6,
   "id": "6046b602",
   "metadata": {
    "colab": {
     "base_uri": "https://localhost:8080/"
    },
    "id": "89195906",
    "outputId": "3a8c00d5-a380-45a8-bd67-f4217db3dc7c"
   },
   "outputs": [
    {
     "name": "stdout",
     "output_type": "stream",
     "text": [
      "----------------------------------------------------------------\n",
      "        Layer (type)               Output Shape         Param #\n",
      "================================================================\n",
      "            Conv2d-1           [-1, 64, 28, 28]             640\n",
      "              ReLU-2           [-1, 64, 28, 28]               0\n",
      "         MaxPool2d-3           [-1, 64, 14, 14]               0\n",
      "            Conv2d-4          [-1, 128, 18, 18]          73,856\n",
      "              ReLU-5          [-1, 128, 18, 18]               0\n",
      "         MaxPool2d-6            [-1, 128, 9, 9]               0\n",
      "            Conv2d-7            [-1, 256, 9, 9]         295,168\n",
      "              ReLU-8            [-1, 256, 9, 9]               0\n",
      "            Conv2d-9            [-1, 256, 9, 9]         590,080\n",
      "             ReLU-10            [-1, 256, 9, 9]               0\n",
      "        MaxPool2d-11            [-1, 256, 4, 4]               0\n",
      "           Conv2d-12            [-1, 512, 4, 4]       1,180,160\n",
      "             ReLU-13            [-1, 512, 4, 4]               0\n",
      "           Conv2d-14            [-1, 512, 4, 4]       2,359,808\n",
      "             ReLU-15            [-1, 512, 4, 4]               0\n",
      "        MaxPool2d-16            [-1, 512, 2, 2]               0\n",
      "           Conv2d-17            [-1, 512, 2, 2]       2,359,808\n",
      "             ReLU-18            [-1, 512, 2, 2]               0\n",
      "           Conv2d-19            [-1, 512, 2, 2]       2,359,808\n",
      "             ReLU-20            [-1, 512, 2, 2]               0\n",
      "        AvgPool2d-21            [-1, 512, 1, 1]               0\n",
      "           Linear-22                 [-1, 1024]         525,312\n",
      "             ReLU-23                 [-1, 1024]               0\n",
      "           Linear-24                 [-1, 1024]       1,049,600\n",
      "             ReLU-25                 [-1, 1024]               0\n",
      "           Linear-26                   [-1, 10]          10,250\n",
      "================================================================\n",
      "Total params: 10,804,490\n",
      "Trainable params: 10,804,490\n",
      "Non-trainable params: 0\n",
      "----------------------------------------------------------------\n",
      "Input size (MB): 0.00\n",
      "Forward/backward pass size (MB): 2.60\n",
      "Params size (MB): 41.22\n",
      "Estimated Total Size (MB): 43.82\n",
      "----------------------------------------------------------------\n"
     ]
    }
   ],
   "source": [
    "# Show the shapes and parameter counts for the VGG11 with MNIST input\n",
    "model = VGG11(1, 10, use_bn=False)\n",
    "torchsummary.summary(model, (1,28,28), device=\"cpu\")"
   ]
  },
  {
   "cell_type": "markdown",
   "id": "dd41b965",
   "metadata": {
    "id": "LxI5nRJT8ZX0"
   },
   "source": [
    "### 1.1.2 VGG16 CIFAR"
   ]
  },
  {
   "cell_type": "markdown",
   "id": "be4ac385",
   "metadata": {
    "id": "Rqrp_UjYEjg2"
   },
   "source": [
    "Implementation slightly modified from: https://github.com/msyim/VGG16/blob/master/VGG16.py, we particularly do not use adaptive average pooling as that would increase a bottleneck from 512x1x1 to 512x7x7 making the following FC layers much more computationally expensive without adding useful information. To my understanding this layer is only added to give a defined output for different input sizes. This saves 105M of the 138M parameters of the model reducing the model size to 33M. We also ran the original implementation as comparison and it needed around 70% longer to run and had worse performance, probably due to being very overparametrized. We also added optional batch norm."
   ]
  },
  {
   "cell_type": "code",
   "execution_count": 7,
   "id": "1bad435d",
   "metadata": {
    "id": "npAk-_UgEdxS"
   },
   "outputs": [],
   "source": [
    "# Model and layer definitions\n",
    "def conv_layer(chann_in, chann_out, k_size, p_size, use_bn):\n",
    "    if use_bn:\n",
    "      layer = torch.nn.Sequential(\n",
    "        torch.nn.Conv2d(chann_in, chann_out, kernel_size=k_size, padding=p_size),\n",
    "        torch.nn.BatchNorm2d(chann_out),\n",
    "        torch.nn.ReLU(inplace=True))\n",
    "    else:\n",
    "      layer = torch.nn.Sequential(\n",
    "          torch.nn.Conv2d(chann_in, chann_out, kernel_size=k_size, padding=p_size),\n",
    "          torch.nn.ReLU(inplace=True))\n",
    "    return layer\n",
    "\n",
    "def vgg_conv_block(in_list, out_list, k_list, p_list, pooling_k, pooling_s, use_bn):\n",
    "    layers = [ conv_layer(in_list[i], out_list[i], k_list[i], p_list[i], use_bn) for i in range(len(in_list)) ]\n",
    "    layers += [ torch.nn.MaxPool2d(kernel_size = pooling_k, stride = pooling_s)]\n",
    "    return torch.nn.Sequential(*layers)\n",
    "\n",
    "def vgg_fc_layer(size_in, size_out, use_bn):\n",
    "    if use_bn:\n",
    "      layer = torch.nn.Sequential(\n",
    "          torch.nn.Linear(size_in, size_out),\n",
    "          torch.nn.BatchNorm1d(size_out),\n",
    "          torch.nn.ReLU())\n",
    "    else:\n",
    "      layer = torch.nn.Sequential(\n",
    "          torch.nn.Linear(size_in, size_out),\n",
    "          torch.nn.ReLU())\n",
    "    return layer\n",
    "\n",
    "class VGG16(torch.nn.Module):\n",
    "    def __init__(self, n_classes=10, use_bn=False):\n",
    "        super(VGG16, self).__init__()\n",
    "\n",
    "        # Conv blocks\n",
    "        self.layer1 = vgg_conv_block([3,64], [64,64], [3,3], [1,1], 2, 2, use_bn)\n",
    "        self.layer2 = vgg_conv_block([64,128], [128,128], [3,3], [1,1], 2, 2, use_bn)\n",
    "        self.layer3 = vgg_conv_block([128,256,256], [256,256,256], [3,3,3], [1,1,1], 2, 2, use_bn)\n",
    "        self.layer4 = vgg_conv_block([256,512,512], [512,512,512], [3,3,3], [1,1,1], 2, 2, use_bn)\n",
    "        self.layer5 = vgg_conv_block([512,512,512], [512,512,512], [3,3,3], [1,1,1], 2, 2, use_bn)\n",
    "\n",
    "        # FC layers\n",
    "        self.layer6 = vgg_fc_layer(1*1*512, 4096, use_bn)\n",
    "        self.layer7 = vgg_fc_layer(4096, 4096, use_bn)\n",
    "\n",
    "        # Final layer\n",
    "        self.layer8 = torch.nn.Linear(4096, n_classes)  \n",
    "\n",
    "    def forward(self, x):\n",
    "        out = self.layer1(x)\n",
    "        out = self.layer2(out)\n",
    "        out = self.layer3(out)\n",
    "        out = self.layer4(out)\n",
    "        out = self.layer5(out)\n",
    "\n",
    "        out = out.view(out.size(0), -1)\n",
    "        out = self.layer6(out)\n",
    "        out = self.layer7(out)\n",
    "        out = self.layer8(out)\n",
    "\n",
    "        return out"
   ]
  },
  {
   "cell_type": "code",
   "execution_count": 8,
   "id": "c592e031",
   "metadata": {
    "colab": {
     "base_uri": "https://localhost:8080/"
    },
    "id": "wVrqBOWZEpNg",
    "outputId": "131e301f-3578-410b-ff1c-3b0330150d61"
   },
   "outputs": [
    {
     "name": "stdout",
     "output_type": "stream",
     "text": [
      "----------------------------------------------------------------\n",
      "        Layer (type)               Output Shape         Param #\n",
      "================================================================\n",
      "            Conv2d-1           [-1, 64, 32, 32]           1,792\n",
      "              ReLU-2           [-1, 64, 32, 32]               0\n",
      "            Conv2d-3           [-1, 64, 32, 32]          36,928\n",
      "              ReLU-4           [-1, 64, 32, 32]               0\n",
      "         MaxPool2d-5           [-1, 64, 16, 16]               0\n",
      "            Conv2d-6          [-1, 128, 16, 16]          73,856\n",
      "              ReLU-7          [-1, 128, 16, 16]               0\n",
      "            Conv2d-8          [-1, 128, 16, 16]         147,584\n",
      "              ReLU-9          [-1, 128, 16, 16]               0\n",
      "        MaxPool2d-10            [-1, 128, 8, 8]               0\n",
      "           Conv2d-11            [-1, 256, 8, 8]         295,168\n",
      "             ReLU-12            [-1, 256, 8, 8]               0\n",
      "           Conv2d-13            [-1, 256, 8, 8]         590,080\n",
      "             ReLU-14            [-1, 256, 8, 8]               0\n",
      "           Conv2d-15            [-1, 256, 8, 8]         590,080\n",
      "             ReLU-16            [-1, 256, 8, 8]               0\n",
      "        MaxPool2d-17            [-1, 256, 4, 4]               0\n",
      "           Conv2d-18            [-1, 512, 4, 4]       1,180,160\n",
      "             ReLU-19            [-1, 512, 4, 4]               0\n",
      "           Conv2d-20            [-1, 512, 4, 4]       2,359,808\n",
      "             ReLU-21            [-1, 512, 4, 4]               0\n",
      "           Conv2d-22            [-1, 512, 4, 4]       2,359,808\n",
      "             ReLU-23            [-1, 512, 4, 4]               0\n",
      "        MaxPool2d-24            [-1, 512, 2, 2]               0\n",
      "           Conv2d-25            [-1, 512, 2, 2]       2,359,808\n",
      "             ReLU-26            [-1, 512, 2, 2]               0\n",
      "           Conv2d-27            [-1, 512, 2, 2]       2,359,808\n",
      "             ReLU-28            [-1, 512, 2, 2]               0\n",
      "           Conv2d-29            [-1, 512, 2, 2]       2,359,808\n",
      "             ReLU-30            [-1, 512, 2, 2]               0\n",
      "        MaxPool2d-31            [-1, 512, 1, 1]               0\n",
      "           Linear-32                 [-1, 4096]       2,101,248\n",
      "             ReLU-33                 [-1, 4096]               0\n",
      "           Linear-34                 [-1, 4096]      16,781,312\n",
      "             ReLU-35                 [-1, 4096]               0\n",
      "           Linear-36                   [-1, 10]          40,970\n",
      "================================================================\n",
      "Total params: 33,638,218\n",
      "Trainable params: 33,638,218\n",
      "Non-trainable params: 0\n",
      "----------------------------------------------------------------\n",
      "Input size (MB): 0.01\n",
      "Forward/backward pass size (MB): 4.58\n",
      "Params size (MB): 128.32\n",
      "Estimated Total Size (MB): 132.91\n",
      "----------------------------------------------------------------\n"
     ]
    }
   ],
   "source": [
    "# Show the shapes and parameter counts for the VGG16 with CIFAR input\n",
    "model = VGG16(n_classes=10, use_bn=False)\n",
    "torchsummary.summary(model, (3,32,32), device=\"cpu\")"
   ]
  },
  {
   "cell_type": "markdown",
   "id": "7070bea2",
   "metadata": {
    "id": "Q9aEejf98ZAX"
   },
   "source": [
    "### 1.1.3 CNN 20NewsGroups"
   ]
  },
  {
   "cell_type": "markdown",
   "id": "efb23112",
   "metadata": {
    "id": "3cGOsau4wofM"
   },
   "source": [
    "Implementation taken from https://github.com/CSCfi/machine-learning-scripts/blob/master/examples/pytorch_20ng_cnn.py and slightly modified to allow for the option of using batch normalization."
   ]
  },
  {
   "cell_type": "code",
   "execution_count": 9,
   "id": "9fe02ff8",
   "metadata": {
    "id": "ZE94pzaKDAJN"
   },
   "outputs": [],
   "source": [
    "## Model definition\n",
    "class NEWSMODEL(nn.Module):\n",
    "    def __init__(self, use_bn=False):\n",
    "        super(NEWSMODEL, self).__init__()\n",
    "        self.conv1 = nn.Conv1d(100, 128, 5)\n",
    "        self.pool1 = nn.MaxPool1d(5)\n",
    "        self.conv2 = nn.Conv1d(128, 128, 5)\n",
    "        self.pool2 = nn.MaxPool1d(5)\n",
    "        self.conv3 = nn.Conv1d(128, 128, 5)\n",
    "        self.pool3 = nn.MaxPool1d(35)\n",
    "\n",
    "        self.fc1 = nn.Linear(128, 128)\n",
    "        self.fc2 = nn.Linear(128, 20)\n",
    "\n",
    "        self.bn1 = torch.nn.BatchNorm1d(128)\n",
    "        self.bn2 = torch.nn.BatchNorm1d(128)\n",
    "        self.bn3 = torch.nn.BatchNorm1d(128)\n",
    "        self.bn4 = torch.nn.BatchNorm1d(128)\n",
    "\n",
    "        self.use_bn = use_bn\n",
    "        \n",
    "    def forward(self, x):\n",
    "        x = x.transpose(1,2)\n",
    "\n",
    "        x = self.conv1(x)\n",
    "        if self.use_bn: \n",
    "            x = self.bn1(x)\n",
    "        x = F.relu(x)\n",
    "        x = self.pool1(x)\n",
    "\n",
    "        x = self.conv2(x)\n",
    "        if self.use_bn: \n",
    "            x = self.bn2(x)\n",
    "        x = F.relu(x)\n",
    "        x = self.pool2(x)\n",
    "\n",
    "        x = self.conv3(x)\n",
    "        if self.use_bn: \n",
    "            x = self.bn3(x)\n",
    "        x = F.relu(x)\n",
    "        x = self.pool3(x)\n",
    "\n",
    "        x = x.view(-1, 128)\n",
    "        x = self.fc1(x)\n",
    "        if self.use_bn: \n",
    "            x = self.bn4(x)\n",
    "        x = F.relu(x)\n",
    "\n",
    "        return F.log_softmax(self.fc2(x), dim=1)"
   ]
  },
  {
   "cell_type": "code",
   "execution_count": 10,
   "id": "863f6e15",
   "metadata": {
    "colab": {
     "base_uri": "https://localhost:8080/"
    },
    "id": "wC_usHZpmidy",
    "outputId": "5c101f09-2eae-4ce1-acd4-84f4db4d1407"
   },
   "outputs": [
    {
     "name": "stdout",
     "output_type": "stream",
     "text": [
      "----------------------------------------------------------------\n",
      "        Layer (type)               Output Shape         Param #\n",
      "================================================================\n",
      "            Conv1d-1             [-1, 128, 996]          64,128\n",
      "         MaxPool1d-2             [-1, 128, 199]               0\n",
      "            Conv1d-3             [-1, 128, 195]          82,048\n",
      "         MaxPool1d-4              [-1, 128, 39]               0\n",
      "            Conv1d-5              [-1, 128, 35]          82,048\n",
      "         MaxPool1d-6               [-1, 128, 1]               0\n",
      "            Linear-7                  [-1, 128]          16,512\n",
      "            Linear-8                   [-1, 20]           2,580\n",
      "================================================================\n",
      "Total params: 247,316\n",
      "Trainable params: 247,316\n",
      "Non-trainable params: 0\n",
      "----------------------------------------------------------------\n",
      "Input size (MB): 0.38\n",
      "Forward/backward pass size (MB): 1.43\n",
      "Params size (MB): 0.94\n",
      "Estimated Total Size (MB): 2.76\n",
      "----------------------------------------------------------------\n"
     ]
    }
   ],
   "source": [
    "# Show the shapes and parameter counts for the 20Newsgroups CNN with input cut to length 1000 with glove embeddings of size 100\n",
    "model = NEWSMODEL(use_bn=False)\n",
    "torchsummary.summary(model, (1000,100), device=\"cpu\")"
   ]
  },
  {
   "cell_type": "markdown",
   "id": "2805b602",
   "metadata": {
    "id": "39f7fb11"
   },
   "source": [
    "## 1.2 Dataset load (run all)"
   ]
  },
  {
   "cell_type": "markdown",
   "id": "9ac22ba0",
   "metadata": {
    "id": "rCqQtgVRGth2"
   },
   "source": [
    "### 1.2.1 MNIST"
   ]
  },
  {
   "cell_type": "markdown",
   "id": "1afd13ea",
   "metadata": {
    "id": "iRQLS5GauIjA"
   },
   "source": [
    "MNIST dataset from Deng, L. (2012). The mnist database of handwritten digit images for machine learning research. IEEE Signal Processing Magazine, 29(6), 141–142."
   ]
  },
  {
   "cell_type": "code",
   "execution_count": 11,
   "id": "9cdfc9d8",
   "metadata": {
    "id": "61818644"
   },
   "outputs": [],
   "source": [
    "def load_MNIST(subset=\"full\", BATCH_SIZE=32, classes=10):\n",
    "    # Preprocessing\n",
    "    transform = transforms.Compose(\n",
    "      [transforms.ToTensor(),\n",
    "        transforms.Normalize(mean=(0.5), std=(0.5))])\n",
    "    \n",
    "    # Load Datasets\n",
    "    train_val_dataset = torchvision.datasets.MNIST(root='./data', train=True, download=True, transform=transform)\n",
    "    test_dataset = torchvision.datasets.MNIST(root='./data', train=False, download=True, transform=transform)\n",
    "\n",
    "    # Determine train-validation split\n",
    "    valid_fraction = 1/6\n",
    "    total_samples = len(train_val_dataset)\n",
    "    indices = list(range(total_samples))\n",
    "    split = int((1 - valid_fraction) * total_samples)\n",
    "    train_idx, valid_idx = indices[:split], indices[split:]\n",
    "    train_sampler = SubsetRandomSampler(train_idx)\n",
    "    valid_sampler = SubsetRandomSampler(valid_idx)\n",
    "\n",
    "    valid_dataloader = torch.utils.data.DataLoader(train_val_dataset, batch_size=BATCH_SIZE, shuffle=False, pin_memory=True, num_workers=4, sampler=valid_sampler)\n",
    "    test_dataloader = torch.utils.data.DataLoader(test_dataset, batch_size=BATCH_SIZE, shuffle=False, pin_memory=True, num_workers=4)\n",
    "\n",
    "    # Set dataloaders\n",
    "    if subset == \"full\":\n",
    "        train_dataloader = torch.utils.data.DataLoader(train_val_dataset, batch_size=BATCH_SIZE, pin_memory=True, num_workers=4, sampler=train_sampler)       \n",
    "    else:\n",
    "        # Define samples per class, 10 for tiny, 100 for medium\n",
    "        if subset == \"medium\":\n",
    "            samples_per_class = 100\n",
    "        elif subset == \"tiny\":\n",
    "            samples_per_class = 10    \n",
    "\n",
    "        # Sample through the train-val dataset until the smaller subset is complete\n",
    "        subset_inputs = torch.zeros(samples_per_class*classes,1,28,28)\n",
    "        subset_labels = []\n",
    "        forbidden = []\n",
    "        for nr, entry in enumerate(train_val_dataset): # we can take the train-val set here as the validation loader takes the last 1/6 of the train-val set and the small subsets are filled long before getting into the last 1/6th.\n",
    "            inputs, label = entry\n",
    "            if label in forbidden:\n",
    "                continue\n",
    "            else:\n",
    "                subset_inputs[len(subset_labels)] = inputs\n",
    "                subset_labels.append(label)\n",
    "                if sum(np.array(subset_labels) == int(label)) == samples_per_class:\n",
    "                    forbidden.append(label)\n",
    "            if len(subset_labels) == (classes * samples_per_class):\n",
    "                break\n",
    "\n",
    "        datasubset= torch.utils.data.TensorDataset(subset_inputs, torch.tensor(subset_labels))\n",
    "        train_dataloader = torch.utils.data.DataLoader(datasubset, batch_size=BATCH_SIZE, shuffle=True)\n",
    "    return train_dataloader, valid_dataloader, test_dataloader\n",
    "            "
   ]
  },
  {
   "cell_type": "markdown",
   "id": "b59effa7",
   "metadata": {
    "id": "j0e8nyhIExi-"
   },
   "source": [
    "### 1.2.2 CIFAR10"
   ]
  },
  {
   "cell_type": "markdown",
   "id": "9790536b",
   "metadata": {
    "id": "zvZOYiIc2jk3"
   },
   "source": [
    "CIFAR10 dataset from Krizhevsky, A., & Hinton, G. (2009). Learning multiple layers of features from tiny images."
   ]
  },
  {
   "cell_type": "code",
   "execution_count": 12,
   "id": "e6712f2a",
   "metadata": {
    "id": "JEbaGVhtUzVg"
   },
   "outputs": [],
   "source": [
    "def load_CIFAR(subset=\"full\", BATCH_SIZE=256, classes=10):\n",
    "    # Preprocessisng\n",
    "    transform = transforms.Compose(\n",
    "        [transforms.ToTensor(),\n",
    "        transforms.Normalize((0.5, 0.5, 0.5), (0.2, 0.2, 0.2))])\n",
    "    \n",
    "    # Load datasets\n",
    "    train_val_dataset = torchvision.datasets.CIFAR10(root='./data', train=True, download=True, transform=transform)\n",
    "    test_dataset = torchvision.datasets.CIFAR10(root='./data', train=False, download=True, transform=transform)\n",
    "\n",
    "    # Determine train-validation split\n",
    "    valid_fraction = 1/5\n",
    "    total_samples = len(train_val_dataset)\n",
    "    indices = list(range(total_samples))\n",
    "    split = int((1 - valid_fraction) * total_samples)\n",
    "    train_idx, valid_idx = indices[:split], indices[split:]\n",
    "    train_sampler = SubsetRandomSampler(train_idx)\n",
    "    valid_sampler = SubsetRandomSampler(valid_idx)\n",
    "\n",
    "    # Set dataloaders\n",
    "    valid_dataloader = torch.utils.data.DataLoader(train_val_dataset, batch_size=BATCH_SIZE, pin_memory=True, num_workers=2, sampler=valid_sampler)\n",
    "    test_dataloader = torch.utils.data.DataLoader(test_dataset, batch_size=BATCH_SIZE, shuffle=False, pin_memory=True, num_workers=2)\n",
    "\n",
    "    # Name classes\n",
    "    class_names = ('plane', 'car', 'bird', 'cat', 'deer', 'dog', 'frog', 'horse', 'ship', 'truck')\n",
    "\n",
    "    if subset == \"full\":\n",
    "        train_dataloader = torch.utils.data.DataLoader(train_val_dataset, batch_size=BATCH_SIZE, pin_memory=True, num_workers=2, sampler=train_sampler)\n",
    "    elif subset == \"tiny\":\n",
    "        # Define samples per class, 100 for tiny\n",
    "        samples_per_class = 100\n",
    "\n",
    "        # Sample through the train-val dataset until the smaller subset is complete\n",
    "        tiny_inputs = torch.zeros(samples_per_class*classes,3,32,32)\n",
    "        tiny_labels = []\n",
    "        forbidden = []\n",
    "        for nr, entry in enumerate(train_val_dataset): # we can take the train-val set here as the validation loader takes the last 1/5 of the train-val set and the small subsets are filled long before getting into the last 1/5th.\n",
    "            inputs, label = entry\n",
    "            if label in forbidden:\n",
    "                continue\n",
    "            else:\n",
    "                tiny_inputs[len(tiny_labels)] = inputs\n",
    "                tiny_labels.append(label)\n",
    "                if sum(np.array(tiny_labels) == int(label)) == samples_per_class:\n",
    "                    forbidden.append(label)\n",
    "            if len(tiny_labels) == (classes * samples_per_class):\n",
    "                break\n",
    "\n",
    "        tiny_dataset= torch.utils.data.TensorDataset(tiny_inputs, torch.tensor(tiny_labels))\n",
    "        train_dataloader = torch.utils.data.DataLoader(tiny_dataset, batch_size=BATCH_SIZE, shuffle=True)\n",
    "    return train_dataloader, valid_dataloader, test_dataloader"
   ]
  },
  {
   "cell_type": "markdown",
   "id": "fe7ac7f3",
   "metadata": {
    "id": "Da4ZXd52Ex7y"
   },
   "source": [
    "### 1.2.3 20NewsGroups"
   ]
  },
  {
   "cell_type": "markdown",
   "id": "ea0b7756",
   "metadata": {
    "id": "wxQrnDJmCtmD"
   },
   "source": [
    "20Newsgroups dataset from Dua, D. and Graff, C. (2019) UCI Machine Learning Repository. University of California, School of Information and Computer Science, Irvine, CA.\n",
    "http://archive.ics.uci.edu/ml\n",
    "\n",
    "Pretrained glove embeddings are used from Jeffrey Pennington, Richard Socher, and Christopher D. Manning. 2014. GloVe: Global Vectors for Word Representation. [GloVe word embeddings](http://nlp.stanford.edu/projects/glove/)\n",
    "\n",
    "Implementation copied and modified from https://github.com/CSCfi/machine-learning-scripts/blob/master/examples/pytorch_20ng_cnn.py \n"
   ]
  },
  {
   "cell_type": "code",
   "execution_count": 13,
   "id": "204cdfea",
   "metadata": {},
   "outputs": [],
   "source": [
    "# This part is only for using servers where the information has to be uploaded \n",
    "NEWS_DIR = '20newsgroups/'\n",
    "if False:\n",
    "  !sudo apt-get install unzip\n",
    "  !unzip upload\n",
    "  NEWS_DIR = '20newsgroups/'\n",
    "  sys.path.append(NEWS_DIR)"
   ]
  },
  {
   "cell_type": "code",
   "execution_count": 14,
   "id": "d1464b91",
   "metadata": {},
   "outputs": [],
   "source": [
    " # Define dataset class for later use\n",
    "class TransformTensorDataset(Dataset):\n",
    "    def __init__(self, *tensors, embedding_matrix):\n",
    "        assert all(tensors[0].size(0) == tensor.size(0) for tensor in tensors), \"Size mismatch between tensors\"\n",
    "        self.tensors = tensors\n",
    "        self.embed = nn.Embedding.from_pretrained(embedding_matrix, freeze=True)\n",
    "\n",
    "    def __getitem__(self, index):\n",
    "        tokens, label = self.tensors[0][index], self.tensors[1][index]\n",
    "        return self.embed(tokens), label\n",
    "\n",
    "    def __len__(self):\n",
    "        return self.tensors[0].size(0)"
   ]
  },
  {
   "cell_type": "code",
   "execution_count": 15,
   "id": "ec673ddc",
   "metadata": {
    "id": "Z0cIJdzKU2y3"
   },
   "outputs": [],
   "source": [
    "def load_NEWS(subset=\"full\", BATCH_SIZE=256, classes=20):\n",
    "    \n",
    "\n",
    "    ## GloVe word embeddings\n",
    "    # The datafile contains 100-dimensional embeddings for 400,000 English words.\n",
    "    print('Indexing word vectors.')\n",
    "    embeddings_index = {}\n",
    "    with open('glove.6B.100d.txt', encoding=\"utf8\") as f:\n",
    "        for line in f:\n",
    "            values = line.split()\n",
    "            word = values[0]\n",
    "            coefs = np.asarray(values[1:], dtype='float32')\n",
    "            embeddings_index[word] = coefs\n",
    "    print('Found %s word vectors.' % len(embeddings_index))\n",
    "\n",
    "    ## 20 Newsgroups data set\n",
    "    # Next we'll load the [20 Newsgroups] (http://www.cs.cmu.edu/afs/cs.cmu.edu/project/theo-20/www/data/news20.html)\n",
    "    #\n",
    "    # The dataset contains 20000 messages collected from 20 different Usenet newsgroups (1000 messages from each group):\n",
    "    #\n",
    "    # | alt.atheism           | soc.religion.christian   | comp.windows.x     | sci.crypt\n",
    "    # | talk.politics.guns    | comp.sys.ibm.pc.hardware | rec.autos          | sci.electronics\n",
    "    # | talk.politics.mideast | comp.graphics            | rec.motorcycles    | sci.space\n",
    "    # | talk.politics.misc    | comp.os.ms-windows.misc  | rec.sport.baseball | sci.med\n",
    "    # | talk.religion.misc    | comp.sys.mac.hardware    | rec.sport.hockey   | misc.forsale\n",
    "\n",
    "    TEXT_DATA_DIR = os.path.join(\"data\", \"20_newsgroups\")\n",
    "    print('Processing text dataset')\n",
    "    texts = []  # list of text samples\n",
    "    labels_index = {}  # dictionary mapping label name to numeric id\n",
    "    labels = []  # list of label ids\n",
    "    for name in sorted(os.listdir(TEXT_DATA_DIR)):\n",
    "        path = os.path.join(TEXT_DATA_DIR, name)\n",
    "        if os.path.isdir(path):\n",
    "            label_id = len(labels_index)\n",
    "            labels_index[name] = label_id\n",
    "            for fname in sorted(os.listdir(path)):\n",
    "                if fname.isdigit():\n",
    "                    fpath = os.path.join(path, fname)\n",
    "                    args = {} if sys.version_info < (3,) else {'encoding': 'latin-1'}\n",
    "                    with open(fpath, **args) as f:\n",
    "                        t = f.read()\n",
    "                        i = t.find('\\n\\n')  # skip header\n",
    "                        if 0 < i:\n",
    "                            t = t[i:]\n",
    "                        texts.append(t)\n",
    "                    labels.append(label_id)\n",
    "    print('Found %s texts.' % len(texts))\n",
    "\n",
    "    # Tokenize the texts using gensim.\n",
    "    tokens = list()\n",
    "    for text in texts:\n",
    "        tokens.append(simple_preprocess(text))\n",
    "\n",
    "    # Vectorize the text samples into a 2D integer tensor.\n",
    "    MAX_NUM_WORDS = 10**6 # 2 words reserved: 0=pad, 1=oov        # STARTED AT 10000\n",
    "    MAX_SEQUENCE_LENGTH = 1000\n",
    "    dictionary = Dictionary(tokens)\n",
    "    dictionary.filter_extremes(no_below=0, no_above=1.0, keep_n=MAX_NUM_WORDS-2)\n",
    "    word_index = dictionary.token2id\n",
    "    print('Found %s unique tokens.' % len(word_index))\n",
    "    data = [dictionary.doc2idx(t) for t in tokens]\n",
    "\n",
    "    # Prepare the embedding matrix:\n",
    "    print('Preparing embedding matrix.')\n",
    "    EMBEDDING_DIM = 100\n",
    "    embedding_matrix = np.zeros((MAX_NUM_WORDS, EMBEDDING_DIM))\n",
    "    n_not_found = 0\n",
    "    for word, i in word_index.items():\n",
    "        if i >= MAX_NUM_WORDS-2:\n",
    "            continue\n",
    "        embedding_vector = embeddings_index.get(word)\n",
    "        if embedding_vector is not None:\n",
    "            # words not found in embedding index will be all-zeros.\n",
    "            embedding_matrix[i+2] = embedding_vector\n",
    "        else:\n",
    "            n_not_found += 1\n",
    "    embedding_matrix = torch.FloatTensor(embedding_matrix)\n",
    "    print('Shape of embedding matrix:', embedding_matrix.shape)\n",
    "    print('Words not found in pre-trained embeddings:', n_not_found)\n",
    "\n",
    "    # Truncate and pad sequences.\n",
    "    data = [i[:MAX_SEQUENCE_LENGTH] for i in data]\n",
    "    data = np.array([np.pad(i, (0, MAX_SEQUENCE_LENGTH-len(i)), mode='constant', constant_values=-2) for i in data], dtype=int)\n",
    "    data = data + 2\n",
    "    print('Shape of data tensor:', data.shape)\n",
    "    print('Length of label vector:', len(labels))\n",
    "\n",
    "    # Split the data into a training set and a validation set\n",
    "    VALIDATION_SET, TEST_SET = 1000, 4000\n",
    "    x_train, x_test, y_train, y_test = train_test_split(data, labels, test_size=TEST_SET, shuffle=True, random_state=42)\n",
    "    x_train, x_val, y_train, y_val = train_test_split(x_train, y_train, test_size=VALIDATION_SET, shuffle=False)\n",
    "    print('Shape of training data tensor:', x_train.shape)\n",
    "    print('Length of training label vector:', len(y_train))\n",
    "    print('Shape of validation data tensor:', x_val.shape)\n",
    "    print('Length of validation label vector:', len(y_val))\n",
    "    print('Shape of test data tensor:', x_test.shape)\n",
    "    print('Length of test label vector:', len(y_test))\n",
    "\n",
    "    # Create PyTorch DataLoaders for all data sets:\n",
    "    print('Train: ', end=\"\")\n",
    "    train_dataset = TransformTensorDataset(torch.LongTensor(x_train), torch.LongTensor(y_train), embedding_matrix=embedding_matrix)\n",
    "    print(len(train_dataset), 'messages')\n",
    "    print('Validation: ', end=\"\")\n",
    "    valid_dataset = TransformTensorDataset(torch.LongTensor(x_val), torch.LongTensor(y_val), embedding_matrix=embedding_matrix)\n",
    "    valid_dataloader = DataLoader(valid_dataset, batch_size=BATCH_SIZE, shuffle=False, num_workers=2, pin_memory=True)\n",
    "    print(len(valid_dataset), 'messages')\n",
    "    print('Test: ', end=\"\")\n",
    "    test_dataset = TransformTensorDataset(torch.LongTensor(x_test), torch.LongTensor(y_test), embedding_matrix=embedding_matrix)\n",
    "    test_dataloader = DataLoader(test_dataset, batch_size=BATCH_SIZE, shuffle=False, num_workers=2, pin_memory=True)\n",
    "    print(len(test_dataset), 'messages')\n",
    "\n",
    "    # Select subset\n",
    "    if subset == \"full\":\n",
    "        train_dataloader = DataLoader(train_dataset, batch_size=BATCH_SIZE, shuffle=True, num_workers=2, pin_memory=True)\n",
    "    if subset == \"tiny\":\n",
    "        samples_per_class = 100\n",
    "\n",
    "        tiny_inputs = torch.zeros(samples_per_class*classes,1000,100)\n",
    "        tiny_labels = []\n",
    "        forbidden = []\n",
    "        for nr, entry in enumerate(train_dataset):\n",
    "            inputs, label = entry\n",
    "            if label in forbidden:\n",
    "                continue\n",
    "            else:\n",
    "                tiny_inputs[len(tiny_labels)] = inputs\n",
    "                tiny_labels.append(label)\n",
    "                if sum(np.array(tiny_labels) == int(label)) == samples_per_class:\n",
    "                    forbidden.append(label)\n",
    "            if len(tiny_labels) == (classes * samples_per_class):\n",
    "                break\n",
    "\n",
    "        tiny_dataset = torch.utils.data.TensorDataset(tiny_inputs, torch.tensor(tiny_labels))\n",
    "        train_dataloader = torch.utils.data.DataLoader(tiny_dataset, batch_size=BATCH_SIZE, shuffle=True)\n",
    "    return train_dataloader, valid_dataloader, test_dataloader"
   ]
  },
  {
   "cell_type": "markdown",
   "id": "e315d81f",
   "metadata": {
    "id": "a438f458"
   },
   "source": [
    "## 1.3 Training functions (run all)"
   ]
  },
  {
   "cell_type": "code",
   "execution_count": 16,
   "id": "af9e9a82",
   "metadata": {
    "id": "3e5c0084"
   },
   "outputs": [],
   "source": [
    "# Function returning validation loss and accuracy, can also print out accuracies for each class\n",
    "# Copied from https://debuggercafe.com/training-vgg11-from-scratch-using-pytorch/\n",
    "\n",
    "def validate(model, loader, criterion, num_classes, print_class_acc=False):\n",
    "    model.eval()\n",
    "\n",
    "    # Two lists for keeping track of class_wise accuracy\n",
    "    class_correct = list(0. for i in range(num_classes))\n",
    "    class_total = list(0. for i in range(num_classes))\n",
    "    print('Validation')\n",
    "    valid_running_loss = 0.0\n",
    "    valid_running_correct = 0\n",
    "    total_sampled = 0\n",
    "    with torch.no_grad():\n",
    "        for counter, data in enumerate(loader):\n",
    "            inputs, labels = data\n",
    "            inputs = inputs.to(device)\n",
    "            labels = labels.to(device)\n",
    "            total_sampled += labels.shape[0]\n",
    "\n",
    "            outputs = model(inputs)\n",
    "            loss = criterion(outputs, labels)\n",
    "            valid_running_loss += loss.item()\n",
    "\n",
    "            _, preds = torch.max(outputs.data, 1)\n",
    "            valid_running_correct += (preds == labels).sum().item()\n",
    "\n",
    "            # Classwise accuracy\n",
    "            correct  = (preds == labels).squeeze()\n",
    "            for i in range(len(preds)):\n",
    "                label = labels[i]\n",
    "                class_correct[label] += correct[i].item()\n",
    "                class_total[label] += 1\n",
    "\n",
    "    epoch_loss = valid_running_loss / counter\n",
    "    epoch_acc = 100. * (valid_running_correct / total_sampled)\n",
    "    print()\n",
    "    if print_class_acc:\n",
    "        print('\\n')\n",
    "        for i in range(num_classes):\n",
    "            print(f\"Acc of digit {i}: {100*class_correct[i]/class_total[i]}\")\n",
    "    return epoch_loss, epoch_acc"
   ]
  },
  {
   "cell_type": "code",
   "execution_count": 17,
   "id": "e3ee7e84",
   "metadata": {
    "id": "ob5m6NNcC1A3"
   },
   "outputs": [],
   "source": [
    "# This part encompasses the training loop with many more options to test components of ABA or create non-ABA comparisons, like gaussian noise on input, \n",
    "# those experiments did not make it into the paper but were valuable in establishing relationships that lead to the major findings\n",
    "\n",
    "def train_augment(model, train_dataloader, optimizer, settings, adj_set, show_augmentation=False):\n",
    "    strength = torch.tensor(settings[\"augmentation_strength\"]).to(device)\n",
    "\n",
    "    model.train()\n",
    "    train_running_loss = 0.0\n",
    "    train_running_correct = 0\n",
    "    counter = 0\n",
    "    total_samples = 0\n",
    "    for i, data in enumerate(train_dataloader):\n",
    "        counter += 1\n",
    "        inputs, labels = data\n",
    "        inputs, labels = inputs.to(device), labels.to(device)\n",
    "\n",
    "        # Augmentation pipeline\n",
    "        # Attribution not needed for these types\n",
    "        if settings[\"type\"] == \"none\":\n",
    "            augmented_inputs = inputs\n",
    "        elif settings[\"type\"] == \"noise\":\n",
    "            augmentation = torch.randn(inputs.shape).to(device) * strength\n",
    "            augmented_inputs = inputs + augmentation\n",
    "\n",
    "        # Attribution generation step is covered here\n",
    "        else:\n",
    "            # Forward pass \n",
    "            inputs.requires_grad = True  # This is needed for Vanilla Gradient and Gradient x Input\n",
    "            outputs = model(inputs)\n",
    "            batch = outputs.shape[0]\n",
    "\n",
    "            # Choose attribution target\n",
    "            if settings[\"attribution_target\"] == \"class_wise\": \n",
    "                top = torch.topk(outputs, settings[\"k\"])\n",
    "                target_class = random.randint(0, settings[\"k\"]-1)\n",
    "                torch.sum(top[0][:,target_class]).backward()\n",
    "            elif settings[\"attribution_target\"] == \"class_wise_label\": # Here one of the possible class targets is always the label, no matter the model prediction\n",
    "                copy_outputs = outputs.scatter(1, torch.unsqueeze(labels, 1), -10**3)\n",
    "                top = torch.topk(copy_outputs, settings[\"k\"]-1)\n",
    "                target_class = random.randint(0, settings[\"k\"]-1)\n",
    "                indices = torch.cat((torch.unsqueeze(labels, 1), top[1]), 1)\n",
    "                possibilities = torch.gather(outputs, 1, indices)\n",
    "                torch.sum(possibilities[:,target_class]).backward()\n",
    "            elif settings[\"attribution_target\"] == \"loss\":\n",
    "                target_class = None\n",
    "                loss = nn.CrossEntropyLoss()(outputs, labels)\n",
    "                loss.backward()\n",
    "\n",
    "            # Choose attribution method\n",
    "            if settings[\"attribution_method\"] == \"vanilla_gradient\":\n",
    "                attribution = inputs.grad\n",
    "            elif settings[\"attribution_method\"] == \"gradient_x_input\":\n",
    "                attribution = inputs.grad * inputs\n",
    "\n",
    "            # Shape is remembered as inputs are flattened for ABA and some other non-ABA comparisons\n",
    "            original_shape = attribution.shape\n",
    "            attribution = attribution.reshape(batch, -1)\n",
    "\n",
    "            # Decide if ABA or non-ABA experiments should be used\n",
    "            if settings[\"type\"] == \"ABA\":\n",
    "                augmentation = ABA(attribution, batch, settings, adj_set, target_class)\n",
    "            else: \n",
    "                # Choose cutoff\n",
    "                if settings[\"cutoff\"]: \n",
    "                    abs_in = abs(attribution)\n",
    "                    if settings[\"cutoff_direction\"] == \"extreme\":\n",
    "                        relevant = torch.where(abs_in > (abs_in.mean(dim=1) + abs_in.std(dim=1) * 1).reshape(-1,1), torch.tensor(1.0).to(device), torch.tensor(0.0).to(device))\n",
    "                    elif settings[\"cutoff_direction\"] == \"middle\":\n",
    "                        relevant = torch.where(abs_in < (abs_in.mean(dim=1) + abs_in.std(dim=1) * 1).reshape(-1,1), torch.tensor(1.0).to(device), torch.tensor(0.0).to(device))\n",
    "                else:\n",
    "                    relevant = 1\n",
    "\n",
    "                # Choose augmentation base\n",
    "                if settings[\"type\"] == \"gradient\":\n",
    "                    augmentation =  relevant * attribution\n",
    "                elif settings[\"type\"] == \"grad_normed\":\n",
    "                    augmentation = relevant * torch.nn.functional.normalize(attribution, p=settings[\"p\"], dim=1, eps=1e-12, out=None)\n",
    "\n",
    "            # Augmentation is calculated\n",
    "            augmentation = augmentation.reshape(original_shape)\n",
    "            augmented_inputs = inputs + augmentation * strength         \n",
    "\n",
    "            # Illustrate augmentation\n",
    "            if i == 0 and show_augmentation:\n",
    "                fig, axs = plt.subplots(1,3)\n",
    "                show_pic = random.randint(0,31)\n",
    "                axs[0].imshow(inputs[show_pic,0].cpu().detach().numpy())\n",
    "                axs[1].imshow(augmented_inputs[show_pic,0].cpu().detach().numpy())\n",
    "                if settings[\"use_attribution\"]:\n",
    "                    axs[2].hist(attribution[0].cpu().detach().flatten())\n",
    "\n",
    "        # Regular DL training\n",
    "        # forward pass\n",
    "        optimizer.zero_grad()\n",
    "        outputs = model(augmented_inputs)\n",
    "\n",
    "        # calculate the loss\n",
    "        loss = nn.CrossEntropyLoss()(outputs, labels)\n",
    "        train_running_loss += loss.item()\n",
    "\n",
    "        # backward pass\n",
    "        loss.backward()\n",
    "        optimizer.step()\n",
    "\n",
    "        # calculate the accuracy\n",
    "        _, preds = torch.max(outputs.data, 1)\n",
    "        train_running_correct += (preds == labels).sum().item()\n",
    "        total_samples += labels.shape[0]\n",
    "\n",
    "    epoch_loss = train_running_loss / counter\n",
    "    epoch_acc = 100 * train_running_correct / total_samples\n",
    "    return epoch_loss, epoch_acc"
   ]
  },
  {
   "cell_type": "code",
   "execution_count": 18,
   "id": "5ee18589",
   "metadata": {
    "id": "qXzlDHJ_6X9q"
   },
   "outputs": [],
   "source": [
    "# ABA methods are applied here (everything but the attribution generation step)\n",
    "def ABA(attribution, batch, settings, adj_set, target_class):\n",
    "    variant = settings[\"ABA_variant\"] \n",
    "    \n",
    "    # Attribution Selection Step\n",
    "    if variant == \"fast\":\n",
    "        cutoffs = [0,0]\n",
    "    if variant == \"challenger\" or variant == \"mend\":\n",
    "        cutoff_percentiles = torch.tensor(settings[\"percentiles\"]).to(device)        # value smaller than cutoff, value higher than cutoff\n",
    "        cutoffs = torch.quantile(attribution, cutoff_percentiles, dim=1, keepdim=True)\n",
    "\n",
    "    # Determine relevant features, implementation is optimized so middle features never have to be determined seperately\n",
    "    smallest = torch.where(attribution < cutoffs[0], torch.tensor(1.0).to(device), torch.tensor(0.0).to(device))\n",
    "    highest = torch.where(attribution > cutoffs[1], torch.tensor(1.0).to(device), torch.tensor(0.0).to(device))\n",
    "\n",
    "    # Pick random adjustments from the adjustment set\n",
    "    module = torch.randint(0, len(adj_set), (batch,1)) * torch.ones((1,3), dtype=int)\n",
    "    mults = torch.gather(adj_set, 0, module).to(device)\n",
    "\n",
    "    # Augmentation Step\n",
    "    # To ensure consistency between delta and epsilon, loss and class scores have to have reversed adjustment assignments (negative attribution for loss means positive for label class score eg)\n",
    "    if settings[\"attribution_target\"] == \"loss\":\n",
    "        selection = mults[:,1].reshape(batch,1) * smallest + mults[:,2].reshape(batch,1) * highest + mults[:,0].reshape(batch,1)\n",
    "    elif settings[\"attribution_target\"] == \"class_wise\":\n",
    "        selection = mults[:,2].reshape(batch,1) * smallest + mults[:,1].reshape(batch,1) * highest + mults[:,0].reshape(batch,1)\n",
    "    elif settings[\"attribution_target\"] == \"class_wise_label\":\n",
    "        if target == 0:\n",
    "            selection = mults[:,2].reshape(batch,1) * smallest + mults[:,1].reshape(batch,1) * highest + mults[:,0].reshape(batch,1)\n",
    "        else:\n",
    "            selection = mults[:,1].reshape(batch,1) * smallest + mults[:,2].reshape(batch,1) * highest + mults[:,0].reshape(batch,1)\n",
    "\n",
    "    if variant == \"fast\" or variant == \"mend\":\n",
    "        selection *= abs(torch.randn((batch,1)).to(device))\n",
    "\n",
    "    # The attribution guided dropout needs modifications in other parts of the pipeline\n",
    "    #if settings[\"guided_dropout\"]:\n",
    "    #    keep = torch.ones_like(attribution) * settings[\"guided_dropout\"]\n",
    "    #    selection *= torch.bernoulli(keep)\n",
    "\n",
    "    return selection"
   ]
  },
  {
   "cell_type": "code",
   "execution_count": 19,
   "id": "f9616c88",
   "metadata": {
    "id": "FdUtnSvqZm_H"
   },
   "outputs": [],
   "source": [
    "# Run all experiments for the list of settings\n",
    "def run_experiments(settings_list, adjustment_sets, SAVE_PATH=\"model_checkpoints\"):\n",
    "\n",
    "    # All adjustment possibilities for the 3 category case like in table 3.1 but with the more efficient implementation from Appendix Table A.1\n",
    "    possible_adjustments = [[0,0,0],\n",
    "                            [1,-1,-1],[-1,1,1],[0,0,1],[0,0,-1],[0,1,0],[0,-1,0],\n",
    "                            [1,-1,0],[-1,1,2],[1,-1,-2],[-1,1,0],[1,0,-1],[-1,2,1],[1,-2,-1],[-1,0,1],[0,1,1],[0,1,-1],[0,-1,1],[0,-1,-1],\n",
    "                            [1,0,0],[-1,2,2],[1,0,-2],[-1,2,0],[1,-2,0],[-1,0,2],[1,-2,-2],[-1,0,0]]\n",
    "\n",
    "    # Iterate through all adjustment_sets\n",
    "    val_results = []\n",
    "    test_results = []\n",
    "    for indexes_adjustment_set in adjustment_sets:\n",
    "        adjustment_set = torch.tensor([possible_adjustments[ind] for ind in indexes_adjustment_set]) \n",
    "        \n",
    "        # Iterate through other settings\n",
    "        adjustment_val_results = []\n",
    "        adjustment_test_results = []\n",
    "        for settings in settings_list:\n",
    "\n",
    "            # Get the correct dataloaders\n",
    "            dataset = settings[\"dataset\"]\n",
    "            if dataset == \"mnist\":\n",
    "                train_dataloader, valid_dataloader, test_dataloader = load_MNIST(subset=settings[\"subset\"])\n",
    "            elif dataset == \"cifar\":\n",
    "                train_dataloader, valid_dataloader, test_dataloader = load_CIFAR(subset=settings[\"subset\"])\n",
    "            elif dataset == \"news\":\n",
    "                train_dataloader, valid_dataloader, test_dataloader = load_NEWS(subset=settings[\"subset\"])\n",
    "\n",
    "            epochs = settings[\"epochs\"]\n",
    "            show_augmentation = False #settings[\"show_augmentation\"]\n",
    "            use_bn = settings[\"use_batchnorm\"]\n",
    "\n",
    "            print(\"Settings: \", settings)\n",
    "\n",
    "            # Iterate through runs\n",
    "            val_setting_results = []\n",
    "            test_setting_results = []\n",
    "            for training_run in range(settings[\"repetitions\"]):\n",
    "                val_run_results = []\n",
    "                val_acc_max = 0\n",
    "\n",
    "                # Instantiate the model and optimizer\n",
    "                if dataset == \"mnist\" or dataset == \"cifar\":             \n",
    "                    num_classes = 10\n",
    "                    if use_bn: \n",
    "                        lr = 0.0005\n",
    "                    else: \n",
    "                        lr = 0.0001\n",
    "                    if dataset == \"mnist\": \n",
    "                        model = VGG11(in_channels=1, num_classes=10, use_bn=use_bn).to(device)\n",
    "                    elif dataset == \"cifar\": \n",
    "                        model = VGG16(n_classes=10, use_bn=use_bn).to(device)\n",
    "                    optimizer = optim.Adam(model.parameters(), lr=lr) \n",
    "                elif dataset == \"news\":\n",
    "                    num_classes = 20\n",
    "                    model = NEWSMODEL(use_bn=use_bn).to(device)\n",
    "                    lr = 0.005\n",
    "                optimizer = optim.Adam(model.parameters(), lr=lr) \n",
    "\n",
    "                # Training\n",
    "                print(\"Training Run = \" + str(training_run + 1))\n",
    "                train_loss, valid_loss = [], []\n",
    "                train_acc, valid_acc = [], []\n",
    "                for epoch in tqdm.tqdm(range(epochs)):\n",
    "                    train_epoch_loss, train_epoch_acc = train_augment(model, train_dataloader, optimizer, settings, adjustment_set, show_augmentation) #tiny_train_dataloader\n",
    "                    train_loss.append(train_epoch_loss)\n",
    "                    train_acc.append(train_epoch_acc)\n",
    "\n",
    "                    show_augmentation = False\n",
    "                    if (epoch+1) % (epochs//settings[\"validate_total\"]) == 0:\n",
    "                        print()\n",
    "                        show_augmentation = False #settings[\"show_augmentation\"]\n",
    "                        valid_epoch_loss, valid_epoch_acc = validate(model, valid_dataloader, nn.CrossEntropyLoss(), num_classes, print_class_acc=False)\n",
    "                        valid_loss.append(valid_epoch_loss)\n",
    "                        valid_acc.append(valid_epoch_acc)\n",
    "                        print(f\"Training loss: {train_epoch_loss:.3f}, training acc: {train_epoch_acc:.3f}\")\n",
    "                        print(f\"Validation loss: {valid_epoch_loss:.3f}, validation acc: {valid_epoch_acc:.3f}\")\n",
    "                        print('-'*50)\n",
    "                        val_run_results.append([valid_epoch_loss, valid_epoch_acc])\n",
    "\n",
    "                        # Save model with highest validation_accuracy in the run\n",
    "                        if valid_epoch_acc > val_acc_max:\n",
    "                            checkpoint = {'epoch': epoch, 'model_state': model.state_dict()}\n",
    "                            torch.save(checkpoint, SAVE_PATH)\n",
    "                            val_acc_max = valid_epoch_acc\n",
    "\n",
    "                # End of run model\n",
    "                val_setting_results.append(val_run_results)\n",
    "\n",
    "                # Best val-acc model is used for testing \n",
    "                if dataset == \"mnist\":\n",
    "                    model = VGG11(in_channels=1, num_classes=10, use_bn=use_bn).to(device)\n",
    "                elif dataset == \"cifar\":\n",
    "                    model = VGG16(n_classes=10, use_bn=use_bn).to(device)\n",
    "                elif dataset == \"news\":\n",
    "                    model = NEWSMODEL(use_bn=use_bn).to(device)\n",
    "                checkpoint = torch.load(SAVE_PATH)\n",
    "                model.load_state_dict(checkpoint['model_state'])\n",
    "                model.to(device)\n",
    "                model.eval()\n",
    "                test_loss, test_acc = validate(model, test_dataloader,  nn.CrossEntropyLoss(), num_classes, print_class_acc=False)\n",
    "                test_setting_results.append([test_loss, test_acc])\n",
    "\n",
    "            adjustment_val_results.append(val_setting_results)\n",
    "            adjustment_test_results.append(test_setting_results)\n",
    "        val_results.append(adjustment_val_results)\n",
    "        test_results.append(adjustment_test_results)\n",
    "    return val_results, test_results, "
   ]
  },
  {
   "cell_type": "markdown",
   "id": "a1410a0a",
   "metadata": {
    "id": "2rPY7VF-ZXJY"
   },
   "source": [
    "## 1.4 Adjustments and adjustment set experiments"
   ]
  },
  {
   "cell_type": "markdown",
   "id": "32fe09c5",
   "metadata": {
    "id": "6CPMg0lqQlIY"
   },
   "source": [
    "    A settings description is given here:\n",
    "    1. dataset - string - (mnist, cifar, news)\n",
    "    2. subset - string - (full, tiny, medium)\n",
    "    3. repetitions - int\n",
    "    4. epochs - int \n",
    "    5. validate_total - int -> How often the validation loss is calculated\n",
    "    6. use_batchnorm - bool \n",
    "\n",
    "    7. type - string - (none, noise, ABA...) -> there are many non-ABA experiments implemented, with own settings, but they are not too relevant here\n",
    "    8. attribution_method - string - (vanilla_gradient, gradient_x_input)\n",
    "    9. attribution_target - string - (loss, class_wise, class_wise_label)\n",
    "    9.1. k - int -> relevant when a class score needs to be randomly selected\n",
    "\n",
    "    10. augmentation_strength - float\n",
    "    11. ABA_variant - string - (challenger, mend, fast)\n",
    "    11.1 percentiles - list of floats - (between 0 and 1, low to high)\n",
    "\n"
   ]
  },
  {
   "cell_type": "code",
   "execution_count": 20,
   "id": "683a12dc",
   "metadata": {
    "colab": {
     "base_uri": "https://localhost:8080/"
    },
    "id": "mT8JerYb5ENT",
    "outputId": "0a5997c3-9752-4cd4-eca0-ba0097576e65",
    "scrolled": false
   },
   "outputs": [
    {
     "name": "stdout",
     "output_type": "stream",
     "text": [
      "Settings:  {'dataset': 'mnist', 'subset': 'tiny', 'repetitions': 1, 'epochs': 1000, 'use_batchnorm': False, 'validate_total': 1, 'attribution_method': 'vanilla_gradient', 'attribution_target': 'class_wise', 'k': 4, 'augmentation_strength': 1, 'type': 'ABA', 'ABA_variant': 'fast', 'percentiles': [0.1, 0.9]}\n",
      "Training Run = 1\n"
     ]
    },
    {
     "name": "stderr",
     "output_type": "stream",
     "text": [
      "100%|██████████████████████████████████████████████████████████████████████████████▉| 999/1000 [45:59<00:02,  2.98s/it]"
     ]
    },
    {
     "name": "stdout",
     "output_type": "stream",
     "text": [
      "\n",
      "Validation\n"
     ]
    },
    {
     "name": "stderr",
     "output_type": "stream",
     "text": [
      "100%|██████████████████████████████████████████████████████████████████████████████| 1000/1000 [46:34<00:00,  2.79s/it]"
     ]
    },
    {
     "name": "stdout",
     "output_type": "stream",
     "text": [
      "\n",
      "Training loss: 0.005, training acc: 100.000\n",
      "Validation loss: 0.877, validation acc: 86.610\n",
      "--------------------------------------------------\n",
      "Validation\n"
     ]
    },
    {
     "name": "stderr",
     "output_type": "stream",
     "text": [
      "\n"
     ]
    },
    {
     "name": "stdout",
     "output_type": "stream",
     "text": [
      "\n"
     ]
    }
   ],
   "source": [
    "# Some premade adjustment sets (in the index variant)\n",
    "challenger = [0,0,0,0,3,4,5,6]\n",
    "mend = [1,2,3,4,5,6]\n",
    "fast = [0,0,3,4,5,6,16,17]\n",
    "\n",
    "delta = [4,5,9,10,11,12,16,21,22]\n",
    "epsilon = [3,6,7,8,13,14,17,23,24]\n",
    "neutral = [0,1,2,15,18,19,20,25,26]\n",
    "zeros = [0,0,0,0,0,0,0,0]\n",
    "\n",
    "# Pass adjustment_sets as list\n",
    "adjustment_sets = [challenger]\n",
    "\n",
    "# Pass other settings as dictionary:\n",
    "settings_list = [\n",
    "            {\"dataset\": \"mnist\",                           \n",
    "             \"subset\": \"tiny\",                              \n",
    "             \"repetitions\": 1,\n",
    "             \"epochs\": 1000,        \n",
    "             \"use_batchnorm\": False,  \n",
    "             \"validate_total\": 1, \n",
    "             \n",
    "             \"attribution_method\": \"vanilla_gradient\",\n",
    "             \"attribution_target\": \"class_wise\", \n",
    "             \"k\":4,\n",
    "             \"augmentation_strength\": 1,\n",
    "\n",
    "             \"type\": \"ABA\",\n",
    "             \"ABA_variant\": \"fast\", \n",
    "             \"percentiles\": [0.1, 0.9],\n",
    "            },\n",
    "\n",
    "        ]\n",
    "\n",
    "# Iterate through adjustment_sets, other settings and repetitions\n",
    "val_results, test_results = run_experiments(settings_list, adjustment_sets)"
   ]
  },
  {
   "cell_type": "code",
   "execution_count": 21,
   "id": "3a6723ea",
   "metadata": {
    "colab": {
     "base_uri": "https://localhost:8080/"
    },
    "id": "C6vbum2e5EQE",
    "outputId": "42fbd926-439e-4ad6-b29c-7df4dd3ee69c"
   },
   "outputs": [
    {
     "name": "stdout",
     "output_type": "stream",
     "text": [
      "Results for the adjustment set 1:\n",
      "\n",
      "Best accuracy of each repetition: [[85.53]] \n",
      " Highest accuracy of all repetitions: [85.53] \n",
      " Standard deviation of accuracy between repetitions (best): [0.] \n",
      " Median accuracy of accuracy between repetitions (best): [85.53] \n",
      "\n",
      "\n"
     ]
    }
   ],
   "source": [
    "# Either show validation or test set results\n",
    "val = False\n",
    "\n",
    "for i in range(len(adjustment_sets)):\n",
    "    v = val_results[i]\n",
    "    t = test_results[i]\n",
    "    print(\"Results for the adjustment set \" + str(i+1) + \":\\n\")\n",
    "    if val:\n",
    "        accs = np.array(v)[:,:,:,1]\n",
    "        max_accs = np.max(accs, axis=2)\n",
    "    else:\n",
    "        max_accs = np.array(t)[:,:,1]\n",
    "    total_median = np.median(max_accs, axis=1)\n",
    "    total_max = np.max(max_accs, axis=1)\n",
    "    total_std = np.std(max_accs, axis=1)\n",
    "    print(\"Best accuracy of each repetition:\", max_accs, \"\\n\", \n",
    "          \"Highest accuracy of all repetitions:\", total_max, \"\\n\",\n",
    "          \"Standard deviation of accuracy between repetitions (best):\", total_std, \"\\n\",\n",
    "          \"Median accuracy of accuracy between repetitions (best):\", total_median, \"\\n\\n\")"
   ]
  },
  {
   "cell_type": "markdown",
   "id": "8666413a",
   "metadata": {
    "id": "O1_HlaPOH_1H"
   },
   "source": [
    "## 1.5 Delta and Epsilon in evaluation experiments"
   ]
  },
  {
   "cell_type": "markdown",
   "id": "ef8df32a",
   "metadata": {
    "id": "8Zl3MdGO5KkL"
   },
   "source": [
    "This was used for generating Figure 3.2, where the model is frozen and Delta and Epsilon adjustments are used on input features"
   ]
  },
  {
   "cell_type": "code",
   "execution_count": 101,
   "id": "d8a9ebc5",
   "metadata": {
    "id": "4oBKyJAaIDVj"
   },
   "outputs": [],
   "source": [
    "def validate_frozen(model, loader, criterion, change, printt=True):\n",
    "    model.eval()\n",
    "    valid_running_loss = 0.0\n",
    "    valid_running_correct = 0\n",
    "    postchange_running_loss = 0.0\n",
    "    postchange_running_correct = 0\n",
    "    total_sampled = 0\n",
    "\n",
    "    for counter, data in enumerate(loader):\n",
    "        inputs, labels = data\n",
    "        inputs, labels = inputs.to(device), labels.to(device)\n",
    "        total_sampled += labels.shape[0]\n",
    "        inputs.requires_grad = True\n",
    "\n",
    "        outputs = model(inputs)\n",
    "        loss = criterion(outputs, labels)\n",
    "        valid_running_loss += loss.item()\n",
    "        _, preds = torch.max(outputs.data, 1)\n",
    "        valid_running_correct += (preds == labels).sum().item()\n",
    "\n",
    "        batch = inputs.shape[0]\n",
    "        loss.backward()\n",
    "        attribution = inputs.grad\n",
    "        attribution = attribution.reshape(batch, -1)\n",
    "        high_low = torch.randint(0,2,(batch,1)).to(device)\n",
    "        cutoff_quantiles = torch.tensor([0.1, 0.9]).to(device)        # value smaller than cutoff, value higher than cutoff\n",
    "        cutoffs = torch.quantile(attribution, cutoff_quantiles, dim=1, keepdim=True)\n",
    "        smallest = torch.where(attribution < cutoffs[0], torch.tensor(1.0).to(device), torch.tensor(0.0).to(device))\n",
    "        highest = torch.where(attribution > cutoffs[1], torch.tensor(1.0).to(device), torch.tensor(0.0).to(device))\n",
    "\n",
    "        select_smallest = smallest * (high_low == 0)\n",
    "        select_highest = highest * (high_low == 1)\n",
    "\n",
    "        input_change = (change * (-1 * select_smallest + +1 * select_highest)).reshape(inputs.shape)\n",
    "        new_inputs = inputs + input_change\n",
    "        outputs = model(new_inputs)\n",
    "        loss = criterion(outputs, labels)\n",
    "        postchange_running_loss += loss.item()\n",
    "        _, preds = torch.max(outputs.data, 1)\n",
    "        postchange_running_correct += (preds == labels).sum().item()\n",
    "\n",
    "    valid_loss = valid_running_loss / counter\n",
    "    valid_acc = 100. * (valid_running_correct / total_sampled)\n",
    "\n",
    "    postchange_loss = postchange_running_loss / counter\n",
    "    postchange_acc = 100. * (postchange_running_correct / total_sampled)\n",
    "    print()\n",
    "\n",
    "    return valid_loss, valid_acc, postchange_loss, postchange_acc"
   ]
  },
  {
   "cell_type": "code",
   "execution_count": 126,
   "id": "2dfff20c",
   "metadata": {
    "colab": {
     "base_uri": "https://localhost:8080/"
    },
    "id": "gARn6oH-HIDN",
    "outputId": "0262813b-1b05-4e47-a519-b71bf269dd68"
   },
   "outputs": [
    {
     "name": "stdout",
     "output_type": "stream",
     "text": [
      "\n",
      "0.7308559500110837 86.37\n",
      "\n",
      "0.6881406017077657 87.01\n",
      "\n",
      "0.673557309851719 87.42999999999999\n",
      "\n",
      "0.6657044527796993 87.92\n",
      "\n",
      "0.6248775645314405 88.97\n",
      "\n",
      "0.5808169634636635 89.82\n",
      "\n",
      "0.5283188905915057 90.64\n",
      "\n",
      "0.47342841923818924 91.67\n",
      "\n",
      "0.39217155236931434 92.83\n",
      "\n",
      "0.3162787276322398 93.88\n",
      "\n",
      "0.2504417536419612 94.72\n",
      "\n",
      "0.2093761906544387 95.43\n",
      "\n",
      "0.19813695877840076 95.46\n",
      "\n",
      "0.22954411497639973 94.54\n",
      "\n",
      "0.35899715906923985 92.24\n",
      "\n",
      "0.7342646060935341 86.95\n",
      "\n",
      "1.4208248966397383 77.85\n",
      "\n",
      "2.2565001975267363 68.47999999999999\n",
      "\n",
      "3.106984026921101 60.22\n",
      "\n",
      "3.954051596614031 51.83\n",
      "\n",
      "4.685502526851801 44.42\n",
      "\n",
      "5.3157489735346575 37.580000000000005\n",
      "\n",
      "5.818114769000274 31.69\n",
      "\n",
      "6.148424905844224 26.69\n",
      "\n",
      "6.292027801275253 22.67\n",
      "\n",
      "6.394597311050464 19.86\n",
      "\n",
      "6.417432979895518 17.49\n",
      "\n",
      "6.456984623884543 16.25\n",
      "\n",
      "6.378112337528131 15.58\n",
      "\n",
      "6.26876745850612 15.040000000000001\n",
      "\n",
      "6.2920049749887905 14.87\n"
     ]
    }
   ],
   "source": [
    "dataset = \"mnist\"\n",
    "subset = \"tiny\"\n",
    "use_bn = False\n",
    "\n",
    "# Load model from previous training \n",
    "if dataset == \"mnist\":\n",
    "    model = VGG11(in_channels=1, num_classes=10, use_bn=use_bn).to(device)\n",
    "elif dataset == \"cifar\":\n",
    "    model = VGG16(n_classes=10, use_bn=use_bn).to(device)\n",
    "elif dataset == \"news\":\n",
    "    model = NEWSMODEL(use_bn=use_bn).to(device)\n",
    "checkpoint = torch.load(\"model_checkpoints\")\n",
    "model.load_state_dict(checkpoint['model_state'])\n",
    "model.to(device)\n",
    "\n",
    "if dataset == \"mnist\":\n",
    "    train_dataloader, valid_dataloader, test_dataloader = load_MNIST(subset=subset)\n",
    "elif dataset == \"cifar\":\n",
    "    train_dataloader, valid_dataloader, test_dataloader = load_CIFAR(subset=subset)\n",
    "elif dataset == \"news\":\n",
    "    train_dataloader, valid_dataloader, test_dataloader = load_NEWS(subset=subset)\n",
    "\n",
    "losses, accs = [], []\n",
    "for change in [0.2*p for p in range(-15,16)]:\n",
    "  model.eval()\n",
    "  valid_loss, valid_acc, postchange_loss, postchange_acc = validate_frozen(model, valid_dataloader, nn.CrossEntropyLoss(), change=change, printt=False)\n",
    "  print(postchange_loss, postchange_acc)\n",
    "  losses.append(postchange_loss)\n",
    "  accs.append(postchange_acc)"
   ]
  },
  {
   "cell_type": "code",
   "execution_count": 128,
   "id": "deb79fb3",
   "metadata": {
    "colab": {
     "base_uri": "https://localhost:8080/",
     "height": 0
    },
    "id": "U0q4V5UoM4jf",
    "outputId": "0eb64147-a3e2-4c76-985b-62439aacd8b5",
    "scrolled": false
   },
   "outputs": [
    {
     "data": {
      "text/plain": [
       "Text(0, 0.5, 'Validation Accuracy')"
      ]
     },
     "execution_count": 128,
     "metadata": {},
     "output_type": "execute_result"
    },
    {
     "data": {
      "image/png": "[encoded data removed]",
      "text/plain": [
       "<Figure size 640x480 with 1 Axes>"
      ]
     },
     "metadata": {},
     "output_type": "display_data"
    }
   ],
   "source": [
    "%matplotlib inline\n",
    "import matplotlib as mpl\n",
    "mpl.rcParams.update({'font.size': 16})\n",
    "\n",
    "x = [0.2*p for p in range(-15,16)]\n",
    "y = accs\n",
    "y2 = [y[15] for p in range(31)]\n",
    "plt.figure()\n",
    "plt.plot(x,y)\n",
    "plt.plot(x,y2,\"r-\")\n",
    "plt.axvline(x = 0, color = 'black', label = 'axvline - full height', linestyle=\"dotted\")\n",
    "plt.xlabel('Adjustment Strength')\n",
    "plt.ylabel('Validation Accuracy')"
   ]
  },
  {
   "cell_type": "markdown",
   "id": "d15d446e",
   "metadata": {
    "id": "DEJsDdVw6cxy"
   },
   "source": [
    "## 1.6 Adjustment illustration"
   ]
  },
  {
   "cell_type": "code",
   "execution_count": 24,
   "id": "5526b636",
   "metadata": {
    "id": "vg_62fPkqCsk"
   },
   "outputs": [],
   "source": [
    "# Illustrate categories in attribution selection step for MNIST and vanilla gradient\n",
    "def illustrate(model, train_dataloader, adj_set, strength=1):\n",
    "    # All adjustment possibilities for the 3 category case like in table 3.1 but with the more efficient implementation from Appendix Table A.1\n",
    "    possible_adjustments = [[0,0,0],\n",
    "                            [1,-1,-1],[-1,1,1],[0,0,1],[0,0,-1],[0,1,0],[0,-1,0],\n",
    "                            [1,-1,0],[-1,1,2],[1,-1,-2],[-1,1,0],[1,0,-1],[-1,2,1],[1,-2,-1],[-1,0,1],[0,1,1],[0,1,-1],[0,-1,1],[0,-1,-1],\n",
    "                            [1,0,0],[-1,2,2],[1,0,-2],[-1,2,0],[1,-2,0],[-1,0,2],[1,-2,-2],[-1,0,0]]\n",
    "\n",
    "    adj_set = torch.tensor([possible_adjustments[ind] for ind in adj_set]) \n",
    "\n",
    "    model.train()\n",
    "    for i, data in enumerate(train_dataloader):\n",
    "        inputs, labels = data\n",
    "        inputs, labels = inputs.to(device), labels.to(device)\n",
    "\n",
    "        # Attribution generation step is covered here\n",
    "        # Forward pass \n",
    "        inputs.requires_grad = True  # This is needed for Vanilla Gradient and Gradient x Input\n",
    "        outputs = model(inputs)\n",
    "        batch = outputs.shape[0]\n",
    "\n",
    "        # Backward pass\n",
    "        loss = nn.CrossEntropyLoss()(outputs, labels)\n",
    "        loss.backward()\n",
    "\n",
    "        # Attribution for vanilla gradient\n",
    "        attribution = inputs.grad\n",
    "        original_shape = attribution.shape\n",
    "        attribution = attribution.reshape(batch, -1)\n",
    "\n",
    "        cutoff_percentiles = torch.tensor([0.1, 0.9]).to(device)        # value smaller than cutoff, value higher than cutoff\n",
    "        cutoffs = torch.quantile(attribution, cutoff_percentiles, dim=1, keepdim=True)\n",
    "\n",
    "        # Determine relevant features, implementation is optimized so middle features never have to be determined seperately\n",
    "        smallest = torch.where(attribution < cutoffs[0], torch.tensor(1.0).to(device), torch.tensor(0.0).to(device))\n",
    "        highest = torch.where(attribution > cutoffs[1], torch.tensor(1.0).to(device), torch.tensor(0.0).to(device))\n",
    "        medium = torch.where(smallest + highest == 0, 1, 0)\n",
    "\n",
    "        illustration_categories = torch.cat([smallest.reshape(original_shape), medium.reshape(original_shape), highest.reshape(original_shape)], dim=1)    \n",
    "\n",
    "        # Pick random adjustments from the adjustment set\n",
    "        module = torch.randint(0, len(adj_set), (batch,1)) * torch.ones((1,3), dtype=int)\n",
    "        mults = torch.gather(adj_set, 0, module).to(device)\n",
    "    \n",
    "        # Augmentation Step\n",
    "        # To ensure consistency between delta and epsilon, loss and class scores have to have reversed adjustment assignments (negative attribution for loss means positive for label class score eg)\n",
    "        augmentation = mults[:,1].reshape(batch,1) * smallest + mults[:,2].reshape(batch,1) * highest + mults[:,0].reshape(batch,1)\n",
    "        \n",
    "        # Augmentation is calculated\n",
    "        augmentation = augmentation.reshape(original_shape)\n",
    "        augmented_inputs = inputs + augmentation * strength         \n",
    "\n",
    "        # Illustrate augmentation\n",
    "        print(illustration_categories.shape, inputs.shape, augmented_inputs.shape)\n",
    "        for i in range(10):\n",
    "            plt.figure()\n",
    "            plt.subplot(1, 3, 1)\n",
    "            plt.imshow(illustration_categories[i].cpu().numpy().transpose(1, 2, 0))\n",
    "            plt.subplot(1, 3, 2)\n",
    "            plt.imshow(inputs[i].detach().cpu().numpy().transpose(1, 2, 0).squeeze())\n",
    "            plt.subplot(1, 3, 3)\n",
    "            plt.imshow(augmented_inputs[i].detach().cpu().numpy().transpose(1, 2, 0).squeeze())\n",
    "            plt.show()\n",
    "        break"
   ]
  },
  {
   "cell_type": "code",
   "execution_count": 25,
   "id": "158e67ca",
   "metadata": {
    "colab": {
     "base_uri": "https://localhost:8080/",
     "height": 1000
    },
    "id": "JLTT26V0r3ob",
    "outputId": "da52a029-f3aa-4a71-e9aa-47fd8fc0b9b2",
    "scrolled": true
   },
   "outputs": [
    {
     "name": "stdout",
     "output_type": "stream",
     "text": [
      "torch.Size([32, 3, 28, 28]) torch.Size([32, 1, 28, 28]) torch.Size([32, 1, 28, 28])\n"
     ]
    },
    {
     "data": {
      "image/png": "[encoded data removed]",
      "text/plain": [
       "<Figure size 640x480 with 3 Axes>"
      ]
     },
     "metadata": {},
     "output_type": "display_data"
    },
    {
     "data": {
      "image/png": "[encoded data removed]",
      "text/plain": [
       "<Figure size 640x480 with 3 Axes>"
      ]
     },
     "metadata": {},
     "output_type": "display_data"
    },
    {
     "data": {
      "image/png": "[encoded data removed]",
      "text/plain": [
       "<Figure size 640x480 with 3 Axes>"
      ]
     },
     "metadata": {},
     "output_type": "display_data"
    },
    {
     "data": {
      "image/png": "[encoded data removed]",
      "text/plain": [
       "<Figure size 640x480 with 3 Axes>"
      ]
     },
     "metadata": {},
     "output_type": "display_data"
    },
    {
     "data": {
      "image/png": "[encoded data removed]",
      "text/plain": [
       "<Figure size 640x480 with 3 Axes>"
      ]
     },
     "metadata": {},
     "output_type": "display_data"
    },
    {
     "data": {
      "image/png": "[encoded data removed]",
      "text/plain": [
       "<Figure size 640x480 with 3 Axes>"
      ]
     },
     "metadata": {},
     "output_type": "display_data"
    },
    {
     "data": {
      "image/png": "[encoded data removed]",
      "text/plain": [
       "<Figure size 640x480 with 3 Axes>"
      ]
     },
     "metadata": {},
     "output_type": "display_data"
    },
    {
     "data": {
      "image/png": "[encoded data removed]",
      "text/plain": [
       "<Figure size 640x480 with 3 Axes>"
      ]
     },
     "metadata": {},
     "output_type": "display_data"
    },
    {
     "data": {
      "image/png": "[encoded data removed]",
      "text/plain": [
       "<Figure size 640x480 with 3 Axes>"
      ]
     },
     "metadata": {},
     "output_type": "display_data"
    },
    {
     "data": {
      "image/png": "[encoded data removed]",
      "text/plain": [
       "<Figure size 640x480 with 3 Axes>"
      ]
     },
     "metadata": {},
     "output_type": "display_data"
    }
   ],
   "source": [
    "%matplotlib inline\n",
    "dataset = \"mnist\"\n",
    "subset = \"tiny\"\n",
    "use_bn = False\n",
    "\n",
    "# Load model from previous training \n",
    "if dataset == \"mnist\":\n",
    "    model = VGG11(in_channels=1, num_classes=10, use_bn=use_bn).to(device)\n",
    "elif dataset == \"cifar\":\n",
    "    model = VGG16(n_classes=10, use_bn=use_bn).to(device)\n",
    "elif dataset == \"news\":\n",
    "    model = NEWSMODEL(use_bn=use_bn).to(device)\n",
    "checkpoint = torch.load(\"model_checkpoints\")\n",
    "model.load_state_dict(checkpoint['model_state'])\n",
    "model.to(device)\n",
    "\n",
    "if dataset == \"mnist\":\n",
    "    train_dataloader, valid_dataloader, test_dataloader = load_MNIST(subset=subset)\n",
    "elif dataset == \"cifar\":\n",
    "    train_dataloader, valid_dataloader, test_dataloader = load_CIFAR(subset=subset)\n",
    "elif dataset == \"news\":\n",
    "    train_dataloader, valid_dataloader, test_dataloader = load_NEWS(subset=subset)\n",
    "\n",
    "adj_set = mend\n",
    "illustrate(model, train_dataloader, adj_set, strength=2)"
   ]
  },
  {
   "cell_type": "markdown",
   "id": "a6fe5bb9",
   "metadata": {
    "id": "09-u1nZn7HQm"
   },
   "source": [
    "# 2. PTB-XL"
   ]
  },
  {
   "cell_type": "markdown",
   "id": "1a7f84e4",
   "metadata": {
    "id": "2l-aA5FX7LCh"
   },
   "source": [
    "Implementation taken and modified from https://github.com/helme/ecg_ptbxl_benchmarking,\n",
    "PTB-XL published in \n",
    "\n",
    "N. Strodthoff, P. Wagner, T. Schaeffter and W. Samek, \"Deep Learning for ECG Analysis: Benchmarks and Insights from PTB-XL,\" in IEEE Journal of Biomedical and Health Informatics, vol. 25, no. 5, pp. 1519-1528, May 2021, doi: 10.1109/JBHI.2020.3022989."
   ]
  },
  {
   "cell_type": "markdown",
   "id": "f5f64d07",
   "metadata": {},
   "source": [
    "The way that settings are fed in is bothersome:\n",
    "\n",
    "One needs to access \"ptbxl_code\\code\\models\\fastai_models.py\" and change the settings in the ABA function in line 525.\n",
    "I tried to find workarounds to pass the settings in the notebook but could not do it without fastai breaking."
   ]
  },
  {
   "cell_type": "code",
   "execution_count": 4,
   "id": "82eecb69",
   "metadata": {
    "id": "ugbhgP537Qnp"
   },
   "outputs": [],
   "source": [
    "# This part is only for using servers where the data and code has to be uploaded \n",
    "if False:\n",
    "    !sudo apt-get install unzip\n",
    "    !unzip ptb-xl\n",
    "    !unzip ptbxl_code"
   ]
  },
  {
   "cell_type": "code",
   "execution_count": 5,
   "id": "71dd2734",
   "metadata": {
    "colab": {
     "base_uri": "https://localhost:8080/",
     "height": 1000
    },
    "id": "hpx-K7Ft7I7p",
    "outputId": "f3a2918c-257e-4e8f-f7ef-9d6f5ea2c887",
    "scrolled": true
   },
   "outputs": [
    {
     "name": "stdout",
     "output_type": "stream",
     "text": [
      "Training from scratch...\n",
      "model: fastai_fcn_wang\n"
     ]
    },
    {
     "data": {
      "text/html": [
       "\n",
       "<style>\n",
       "    /* Turns off some styling */\n",
       "    progress {\n",
       "        /* gets rid of default border in Firefox and Opera. */\n",
       "        border: none;\n",
       "        /* Needs to be in here for Safari polyfill so background images work as expected. */\n",
       "        background-size: auto;\n",
       "    }\n",
       "    progress:not([value]), progress:not([value])::-webkit-progress-bar {\n",
       "        background: repeating-linear-gradient(45deg, #7e7e7e, #7e7e7e 10px, #5c5c5c 10px, #5c5c5c 20px);\n",
       "    }\n",
       "    .progress-bar-interrupted, .progress-bar-interrupted::-webkit-progress-bar {\n",
       "        background: #F44336;\n",
       "    }\n",
       "</style>\n"
      ],
      "text/plain": [
       "<IPython.core.display.HTML object>"
      ]
     },
     "metadata": {},
     "output_type": "display_data"
    },
    {
     "data": {
      "text/html": [
       "\n",
       "    <div>\n",
       "      <progress value='0' class='' max='1' style='width:300px; height:20px; vertical-align: middle;'></progress>\n",
       "      0.00% [0/1 00:00&lt;?]\n",
       "    </div>\n",
       "    \n",
       "<table border=\"1\" class=\"dataframe\">\n",
       "  <thead>\n",
       "    <tr style=\"text-align: left;\">\n",
       "      <th>epoch</th>\n",
       "      <th>train_loss</th>\n",
       "      <th>valid_loss</th>\n",
       "      <th>time</th>\n",
       "    </tr>\n",
       "  </thead>\n",
       "  <tbody>\n",
       "  </tbody>\n",
       "</table><p>\n",
       "\n",
       "    <div>\n",
       "      <progress value='97' class='' max='136' style='width:300px; height:20px; vertical-align: middle;'></progress>\n",
       "      71.32% [97/136 02:33&lt;01:01 2.5382]\n",
       "    </div>\n",
       "    "
      ],
      "text/plain": [
       "<IPython.core.display.HTML object>"
      ]
     },
     "metadata": {},
     "output_type": "display_data"
    },
    {
     "name": "stdout",
     "output_type": "stream",
     "text": [
      "LR Finder is complete, type {learner_name}.recorder.plot() to see the graph.\n"
     ]
    },
    {
     "data": {
      "text/html": [
       "\n",
       "<style>\n",
       "    /* Turns off some styling */\n",
       "    progress {\n",
       "        /* gets rid of default border in Firefox and Opera. */\n",
       "        border: none;\n",
       "        /* Needs to be in here for Safari polyfill so background images work as expected. */\n",
       "        background-size: auto;\n",
       "    }\n",
       "    progress:not([value]), progress:not([value])::-webkit-progress-bar {\n",
       "        background: repeating-linear-gradient(45deg, #7e7e7e, #7e7e7e 10px, #5c5c5c 10px, #5c5c5c 20px);\n",
       "    }\n",
       "    .progress-bar-interrupted, .progress-bar-interrupted::-webkit-progress-bar {\n",
       "        background: #F44336;\n",
       "    }\n",
       "</style>\n"
      ],
      "text/plain": [
       "<IPython.core.display.HTML object>"
      ]
     },
     "metadata": {},
     "output_type": "display_data"
    },
    {
     "data": {
      "text/html": [
       "\n",
       "    <div>\n",
       "      <progress value='2' class='' max='50' style='width:300px; height:20px; vertical-align: middle;'></progress>\n",
       "      4.00% [2/50 07:12&lt;2:52:59]\n",
       "    </div>\n",
       "    \n",
       "<table border=\"1\" class=\"dataframe\">\n",
       "  <thead>\n",
       "    <tr style=\"text-align: left;\">\n",
       "      <th>epoch</th>\n",
       "      <th>train_loss</th>\n",
       "      <th>valid_loss</th>\n",
       "      <th>time</th>\n",
       "    </tr>\n",
       "  </thead>\n",
       "  <tbody>\n",
       "    <tr>\n",
       "      <td>0</td>\n",
       "      <td>0.777291</td>\n",
       "      <td>0.603343</td>\n",
       "      <td>03:33</td>\n",
       "    </tr>\n",
       "    <tr>\n",
       "      <td>1</td>\n",
       "      <td>0.451552</td>\n",
       "      <td>0.237421</td>\n",
       "      <td>03:38</td>\n",
       "    </tr>\n",
       "  </tbody>\n",
       "</table><p>\n",
       "\n",
       "    <div>\n",
       "      <progress value='112' class='' max='136' style='width:300px; height:20px; vertical-align: middle;'></progress>\n",
       "      82.35% [112/136 02:18&lt;00:29 0.1865]\n",
       "    </div>\n",
       "    "
      ],
      "text/plain": [
       "<IPython.core.display.HTML object>"
      ]
     },
     "metadata": {},
     "output_type": "display_data"
    },
    {
     "ename": "KeyboardInterrupt",
     "evalue": "",
     "output_type": "error",
     "traceback": [
      "\u001b[1;31m---------------------------------------------------------------------------\u001b[0m",
      "\u001b[1;31mKeyboardInterrupt\u001b[0m                         Traceback (most recent call last)",
      "\u001b[1;32m~\\AppData\\Local\\Temp\\ipykernel_8820\\1123205255.py\u001b[0m in \u001b[0;36m<module>\u001b[1;34m\u001b[0m\n\u001b[0;32m     32\u001b[0m         \u001b[0me\u001b[0m \u001b[1;33m=\u001b[0m \u001b[0mSCP_Experiment\u001b[0m\u001b[1;33m(\u001b[0m\u001b[0mname\u001b[0m\u001b[1;33m,\u001b[0m \u001b[0mtask\u001b[0m\u001b[1;33m,\u001b[0m \u001b[0mdatafolder\u001b[0m\u001b[1;33m,\u001b[0m \u001b[0moutputfolder\u001b[0m\u001b[1;33m,\u001b[0m \u001b[0mmodels\u001b[0m\u001b[1;33m)\u001b[0m\u001b[1;33m\u001b[0m\u001b[1;33m\u001b[0m\u001b[0m\n\u001b[0;32m     33\u001b[0m         \u001b[0me\u001b[0m\u001b[1;33m.\u001b[0m\u001b[0mprepare\u001b[0m\u001b[1;33m(\u001b[0m\u001b[1;33m)\u001b[0m\u001b[1;33m\u001b[0m\u001b[1;33m\u001b[0m\u001b[0m\n\u001b[1;32m---> 34\u001b[1;33m         \u001b[0me\u001b[0m\u001b[1;33m.\u001b[0m\u001b[0mperform\u001b[0m\u001b[1;33m(\u001b[0m\u001b[1;33m)\u001b[0m\u001b[1;33m\u001b[0m\u001b[1;33m\u001b[0m\u001b[0m\n\u001b[0m\u001b[0;32m     35\u001b[0m         \u001b[0me\u001b[0m\u001b[1;33m.\u001b[0m\u001b[0mevaluate\u001b[0m\u001b[1;33m(\u001b[0m\u001b[1;33m)\u001b[0m\u001b[1;33m\u001b[0m\u001b[1;33m\u001b[0m\u001b[0m\n\u001b[0;32m     36\u001b[0m \u001b[1;33m\u001b[0m\u001b[0m\n",
      "\u001b[1;32m~\\Desktop\\Master TUM\\Master Thesis\\Thesis schreiben\\code submission\\code\\ptbxl_code\\code\\experiments\\scp_experiment.py\u001b[0m in \u001b[0;36mperform\u001b[1;34m(self)\u001b[0m\n\u001b[0;32m    110\u001b[0m \u001b[1;33m\u001b[0m\u001b[0m\n\u001b[0;32m    111\u001b[0m             \u001b[1;31m# fit model\u001b[0m\u001b[1;33m\u001b[0m\u001b[1;33m\u001b[0m\u001b[1;33m\u001b[0m\u001b[0m\n\u001b[1;32m--> 112\u001b[1;33m             \u001b[0mmodel\u001b[0m\u001b[1;33m.\u001b[0m\u001b[0mfit\u001b[0m\u001b[1;33m(\u001b[0m\u001b[0mself\u001b[0m\u001b[1;33m.\u001b[0m\u001b[0mX_train\u001b[0m\u001b[1;33m,\u001b[0m \u001b[0mself\u001b[0m\u001b[1;33m.\u001b[0m\u001b[0my_train\u001b[0m\u001b[1;33m,\u001b[0m \u001b[0mself\u001b[0m\u001b[1;33m.\u001b[0m\u001b[0mX_val\u001b[0m\u001b[1;33m,\u001b[0m \u001b[0mself\u001b[0m\u001b[1;33m.\u001b[0m\u001b[0my_val\u001b[0m\u001b[1;33m)\u001b[0m\u001b[1;33m\u001b[0m\u001b[1;33m\u001b[0m\u001b[0m\n\u001b[0m\u001b[0;32m    113\u001b[0m             \u001b[1;31m# predict and dump\u001b[0m\u001b[1;33m\u001b[0m\u001b[1;33m\u001b[0m\u001b[1;33m\u001b[0m\u001b[0m\n\u001b[0;32m    114\u001b[0m             \u001b[0mmodel\u001b[0m\u001b[1;33m.\u001b[0m\u001b[0mpredict\u001b[0m\u001b[1;33m(\u001b[0m\u001b[0mself\u001b[0m\u001b[1;33m.\u001b[0m\u001b[0mX_train\u001b[0m\u001b[1;33m)\u001b[0m\u001b[1;33m.\u001b[0m\u001b[0mdump\u001b[0m\u001b[1;33m(\u001b[0m\u001b[0mmpath\u001b[0m\u001b[1;33m+\u001b[0m\u001b[1;34m'y_train_pred.npy'\u001b[0m\u001b[1;33m)\u001b[0m\u001b[1;33m\u001b[0m\u001b[1;33m\u001b[0m\u001b[0m\n",
      "\u001b[1;32m~\\Desktop\\Master TUM\\Master Thesis\\Thesis schreiben\\code submission\\code\\ptbxl_code\\code\\models\\fastai_model.py\u001b[0m in \u001b[0;36mfit\u001b[1;34m(self, X_train, y_train, X_val, y_val)\u001b[0m\n\u001b[0;32m    235\u001b[0m \u001b[1;33m\u001b[0m\u001b[0m\n\u001b[0;32m    236\u001b[0m             \u001b[0mlr_find_plot\u001b[0m\u001b[1;33m(\u001b[0m\u001b[0mlearn\u001b[0m\u001b[1;33m,\u001b[0m \u001b[0mself\u001b[0m\u001b[1;33m.\u001b[0m\u001b[0moutputfolder\u001b[0m\u001b[1;33m)\u001b[0m\u001b[1;33m\u001b[0m\u001b[1;33m\u001b[0m\u001b[0m\n\u001b[1;32m--> 237\u001b[1;33m             \u001b[0mlearn\u001b[0m\u001b[1;33m.\u001b[0m\u001b[0mfit_one_cycle\u001b[0m\u001b[1;33m(\u001b[0m\u001b[0mself\u001b[0m\u001b[1;33m.\u001b[0m\u001b[0mepochs\u001b[0m\u001b[1;33m,\u001b[0m\u001b[0mself\u001b[0m\u001b[1;33m.\u001b[0m\u001b[0mlr\u001b[0m\u001b[1;33m)\u001b[0m\u001b[1;31m#slice(self.lr) if self.discriminative_lrs else self.lr)\u001b[0m\u001b[1;33m\u001b[0m\u001b[1;33m\u001b[0m\u001b[0m\n\u001b[0m\u001b[0;32m    238\u001b[0m             \u001b[0mlosses_plot\u001b[0m\u001b[1;33m(\u001b[0m\u001b[0mlearn\u001b[0m\u001b[1;33m,\u001b[0m \u001b[0mself\u001b[0m\u001b[1;33m.\u001b[0m\u001b[0moutputfolder\u001b[0m\u001b[1;33m)\u001b[0m\u001b[1;33m\u001b[0m\u001b[1;33m\u001b[0m\u001b[0m\n\u001b[0;32m    239\u001b[0m         \u001b[1;32melse\u001b[0m\u001b[1;33m:\u001b[0m \u001b[1;31m#finetuning\u001b[0m\u001b[1;33m\u001b[0m\u001b[1;33m\u001b[0m\u001b[0m\n",
      "\u001b[1;32mC:\\Anaconda\\envs\\tensorflow\\lib\\site-packages\\fastai\\train.py\u001b[0m in \u001b[0;36mfit_one_cycle\u001b[1;34m(learn, cyc_len, max_lr, moms, div_factor, pct_start, final_div, wd, callbacks, tot_epochs, start_epoch)\u001b[0m\n\u001b[0;32m     21\u001b[0m     callbacks.append(OneCycleScheduler(learn, max_lr, moms=moms, div_factor=div_factor, pct_start=pct_start,\n\u001b[0;32m     22\u001b[0m                                        final_div=final_div, tot_epochs=tot_epochs, start_epoch=start_epoch))\n\u001b[1;32m---> 23\u001b[1;33m     \u001b[0mlearn\u001b[0m\u001b[1;33m.\u001b[0m\u001b[0mfit\u001b[0m\u001b[1;33m(\u001b[0m\u001b[0mcyc_len\u001b[0m\u001b[1;33m,\u001b[0m \u001b[0mmax_lr\u001b[0m\u001b[1;33m,\u001b[0m \u001b[0mwd\u001b[0m\u001b[1;33m=\u001b[0m\u001b[0mwd\u001b[0m\u001b[1;33m,\u001b[0m \u001b[0mcallbacks\u001b[0m\u001b[1;33m=\u001b[0m\u001b[0mcallbacks\u001b[0m\u001b[1;33m)\u001b[0m\u001b[1;33m\u001b[0m\u001b[1;33m\u001b[0m\u001b[0m\n\u001b[0m\u001b[0;32m     24\u001b[0m \u001b[1;33m\u001b[0m\u001b[0m\n\u001b[0;32m     25\u001b[0m def fit_fc(learn:Learner, tot_epochs:int=1, lr:float=defaults.lr,  moms:Tuple[float,float]=(0.95,0.85), start_pct:float=0.72,\n",
      "\u001b[1;32m~\\Desktop\\Master TUM\\Master Thesis\\Thesis schreiben\\code submission\\code\\ptbxl_code\\code\\models\\fastai_model.py\u001b[0m in \u001b[0;36mfit\u001b[1;34m(self, epochs, lr, wd, callbacks)\u001b[0m\n\u001b[0;32m    439\u001b[0m             \u001b[0mself\u001b[0m\u001b[1;33m.\u001b[0m\u001b[0mopt\u001b[0m\u001b[1;33m.\u001b[0m\u001b[0mlr\u001b[0m\u001b[1;33m,\u001b[0m \u001b[0mself\u001b[0m\u001b[1;33m.\u001b[0m\u001b[0mopt\u001b[0m\u001b[1;33m.\u001b[0m\u001b[0mwd\u001b[0m \u001b[1;33m=\u001b[0m \u001b[0mlr\u001b[0m\u001b[1;33m,\u001b[0m \u001b[0mwd\u001b[0m\u001b[1;33m\u001b[0m\u001b[1;33m\u001b[0m\u001b[0m\n\u001b[0;32m    440\u001b[0m         \u001b[0mcallbacks\u001b[0m \u001b[1;33m=\u001b[0m \u001b[1;33m[\u001b[0m\u001b[0mcb\u001b[0m\u001b[1;33m(\u001b[0m\u001b[0mself\u001b[0m\u001b[1;33m)\u001b[0m \u001b[1;32mfor\u001b[0m \u001b[0mcb\u001b[0m \u001b[1;32min\u001b[0m \u001b[0mself\u001b[0m\u001b[1;33m.\u001b[0m\u001b[0mcallback_fns\u001b[0m \u001b[1;33m+\u001b[0m \u001b[0mlistify\u001b[0m\u001b[1;33m(\u001b[0m\u001b[0mdefaults\u001b[0m\u001b[1;33m.\u001b[0m\u001b[0mextra_callback_fns\u001b[0m\u001b[1;33m)\u001b[0m\u001b[1;33m]\u001b[0m \u001b[1;33m+\u001b[0m \u001b[0mlistify\u001b[0m\u001b[1;33m(\u001b[0m\u001b[0mcallbacks\u001b[0m\u001b[1;33m)\u001b[0m\u001b[1;33m\u001b[0m\u001b[1;33m\u001b[0m\u001b[0m\n\u001b[1;32m--> 441\u001b[1;33m         \u001b[0mfit_epochs\u001b[0m\u001b[1;33m(\u001b[0m\u001b[0mepochs\u001b[0m\u001b[1;33m,\u001b[0m \u001b[0mself\u001b[0m\u001b[1;33m,\u001b[0m \u001b[0mmetrics\u001b[0m\u001b[1;33m=\u001b[0m\u001b[0mself\u001b[0m\u001b[1;33m.\u001b[0m\u001b[0mmetrics\u001b[0m\u001b[1;33m,\u001b[0m \u001b[0mcallbacks\u001b[0m\u001b[1;33m=\u001b[0m\u001b[0mself\u001b[0m\u001b[1;33m.\u001b[0m\u001b[0mcallbacks\u001b[0m \u001b[1;33m+\u001b[0m \u001b[0mcallbacks\u001b[0m\u001b[1;33m)\u001b[0m\u001b[1;33m\u001b[0m\u001b[1;33m\u001b[0m\u001b[0m\n\u001b[0m\u001b[0;32m    442\u001b[0m \u001b[1;33m\u001b[0m\u001b[0m\n\u001b[0;32m    443\u001b[0m def fit_epochs(epochs: int, learn: BasicLearner, callbacks: Optional[CallbackList] = None,\n",
      "\u001b[1;32m~\\Desktop\\Master TUM\\Master Thesis\\Thesis schreiben\\code submission\\code\\ptbxl_code\\code\\models\\fastai_model.py\u001b[0m in \u001b[0;36mfit_epochs\u001b[1;34m(epochs, learn, callbacks, metrics)\u001b[0m\n\u001b[0;32m    458\u001b[0m             \u001b[1;32mfor\u001b[0m \u001b[0mxb\u001b[0m\u001b[1;33m,\u001b[0m \u001b[0myb\u001b[0m \u001b[1;32min\u001b[0m \u001b[0mprogress_bar\u001b[0m\u001b[1;33m(\u001b[0m\u001b[0mlearn\u001b[0m\u001b[1;33m.\u001b[0m\u001b[0mdata\u001b[0m\u001b[1;33m.\u001b[0m\u001b[0mtrain_dl\u001b[0m\u001b[1;33m,\u001b[0m \u001b[0mparent\u001b[0m\u001b[1;33m=\u001b[0m\u001b[0mpbar\u001b[0m\u001b[1;33m)\u001b[0m\u001b[1;33m:\u001b[0m\u001b[1;33m\u001b[0m\u001b[1;33m\u001b[0m\u001b[0m\n\u001b[0;32m    459\u001b[0m                 \u001b[0mxb\u001b[0m\u001b[1;33m,\u001b[0m \u001b[0myb\u001b[0m \u001b[1;33m=\u001b[0m \u001b[0mcb_handler\u001b[0m\u001b[1;33m.\u001b[0m\u001b[0mon_batch_begin\u001b[0m\u001b[1;33m(\u001b[0m\u001b[0mxb\u001b[0m\u001b[1;33m,\u001b[0m \u001b[0myb\u001b[0m\u001b[1;33m)\u001b[0m\u001b[1;33m\u001b[0m\u001b[1;33m\u001b[0m\u001b[0m\n\u001b[1;32m--> 460\u001b[1;33m                 \u001b[0mloss\u001b[0m \u001b[1;33m=\u001b[0m \u001b[0mloss_batch\u001b[0m\u001b[1;33m(\u001b[0m\u001b[0mlearn\u001b[0m\u001b[1;33m.\u001b[0m\u001b[0mmodel\u001b[0m\u001b[1;33m,\u001b[0m \u001b[0mxb\u001b[0m\u001b[1;33m,\u001b[0m \u001b[0myb\u001b[0m\u001b[1;33m,\u001b[0m \u001b[0mlearn\u001b[0m\u001b[1;33m.\u001b[0m\u001b[0mloss_func\u001b[0m\u001b[1;33m,\u001b[0m \u001b[0mlearn\u001b[0m\u001b[1;33m.\u001b[0m\u001b[0mopt\u001b[0m\u001b[1;33m,\u001b[0m \u001b[0mcb_handler\u001b[0m\u001b[1;33m)\u001b[0m\u001b[1;33m\u001b[0m\u001b[1;33m\u001b[0m\u001b[0m\n\u001b[0m\u001b[0;32m    461\u001b[0m                 \u001b[1;32mif\u001b[0m \u001b[0mcb_handler\u001b[0m\u001b[1;33m.\u001b[0m\u001b[0mon_batch_end\u001b[0m\u001b[1;33m(\u001b[0m\u001b[0mloss\u001b[0m\u001b[1;33m)\u001b[0m\u001b[1;33m:\u001b[0m \u001b[1;32mbreak\u001b[0m\u001b[1;33m\u001b[0m\u001b[1;33m\u001b[0m\u001b[0m\n\u001b[0;32m    462\u001b[0m \u001b[1;33m\u001b[0m\u001b[0m\n",
      "\u001b[1;32m~\\Desktop\\Master TUM\\Master Thesis\\Thesis schreiben\\code submission\\code\\ptbxl_code\\code\\models\\fastai_model.py\u001b[0m in \u001b[0;36mloss_batch\u001b[1;34m(model, xb, yb, loss_func, opt, cb_handler)\u001b[0m\n\u001b[0;32m    485\u001b[0m     \u001b[0mout\u001b[0m \u001b[1;33m=\u001b[0m \u001b[0mmodel\u001b[0m\u001b[1;33m(\u001b[0m\u001b[0minputs\u001b[0m\u001b[1;33m)\u001b[0m\u001b[1;33m\u001b[0m\u001b[1;33m\u001b[0m\u001b[0m\n\u001b[0;32m    486\u001b[0m     \u001b[0mloss\u001b[0m \u001b[1;33m=\u001b[0m \u001b[0mloss_func\u001b[0m\u001b[1;33m(\u001b[0m\u001b[0mout\u001b[0m\u001b[1;33m,\u001b[0m \u001b[1;33m*\u001b[0m\u001b[0myb\u001b[0m\u001b[1;33m)\u001b[0m\u001b[1;33m\u001b[0m\u001b[1;33m\u001b[0m\u001b[0m\n\u001b[1;32m--> 487\u001b[1;33m     \u001b[0mloss\u001b[0m\u001b[1;33m.\u001b[0m\u001b[0mbackward\u001b[0m\u001b[1;33m(\u001b[0m\u001b[1;33m)\u001b[0m\u001b[1;33m\u001b[0m\u001b[1;33m\u001b[0m\u001b[0m\n\u001b[0m\u001b[0;32m    488\u001b[0m     \u001b[0mattribution\u001b[0m \u001b[1;33m=\u001b[0m \u001b[0minputs\u001b[0m\u001b[1;33m.\u001b[0m\u001b[0mgrad\u001b[0m\u001b[1;33m\u001b[0m\u001b[1;33m\u001b[0m\u001b[0m\n\u001b[0;32m    489\u001b[0m \u001b[1;33m\u001b[0m\u001b[0m\n",
      "\u001b[1;32mC:\\Anaconda\\envs\\tensorflow\\lib\\site-packages\\torch\\_tensor.py\u001b[0m in \u001b[0;36mbackward\u001b[1;34m(self, gradient, retain_graph, create_graph, inputs)\u001b[0m\n\u001b[0;32m    305\u001b[0m                 \u001b[0mcreate_graph\u001b[0m\u001b[1;33m=\u001b[0m\u001b[0mcreate_graph\u001b[0m\u001b[1;33m,\u001b[0m\u001b[1;33m\u001b[0m\u001b[1;33m\u001b[0m\u001b[0m\n\u001b[0;32m    306\u001b[0m                 inputs=inputs)\n\u001b[1;32m--> 307\u001b[1;33m         \u001b[0mtorch\u001b[0m\u001b[1;33m.\u001b[0m\u001b[0mautograd\u001b[0m\u001b[1;33m.\u001b[0m\u001b[0mbackward\u001b[0m\u001b[1;33m(\u001b[0m\u001b[0mself\u001b[0m\u001b[1;33m,\u001b[0m \u001b[0mgradient\u001b[0m\u001b[1;33m,\u001b[0m \u001b[0mretain_graph\u001b[0m\u001b[1;33m,\u001b[0m \u001b[0mcreate_graph\u001b[0m\u001b[1;33m,\u001b[0m \u001b[0minputs\u001b[0m\u001b[1;33m=\u001b[0m\u001b[0minputs\u001b[0m\u001b[1;33m)\u001b[0m\u001b[1;33m\u001b[0m\u001b[1;33m\u001b[0m\u001b[0m\n\u001b[0m\u001b[0;32m    308\u001b[0m \u001b[1;33m\u001b[0m\u001b[0m\n\u001b[0;32m    309\u001b[0m     \u001b[1;32mdef\u001b[0m \u001b[0mregister_hook\u001b[0m\u001b[1;33m(\u001b[0m\u001b[0mself\u001b[0m\u001b[1;33m,\u001b[0m \u001b[0mhook\u001b[0m\u001b[1;33m)\u001b[0m\u001b[1;33m:\u001b[0m\u001b[1;33m\u001b[0m\u001b[1;33m\u001b[0m\u001b[0m\n",
      "\u001b[1;32mC:\\Anaconda\\envs\\tensorflow\\lib\\site-packages\\torch\\autograd\\__init__.py\u001b[0m in \u001b[0;36mbackward\u001b[1;34m(tensors, grad_tensors, retain_graph, create_graph, grad_variables, inputs)\u001b[0m\n\u001b[0;32m    154\u001b[0m     Variable._execution_engine.run_backward(\n\u001b[0;32m    155\u001b[0m         \u001b[0mtensors\u001b[0m\u001b[1;33m,\u001b[0m \u001b[0mgrad_tensors_\u001b[0m\u001b[1;33m,\u001b[0m \u001b[0mretain_graph\u001b[0m\u001b[1;33m,\u001b[0m \u001b[0mcreate_graph\u001b[0m\u001b[1;33m,\u001b[0m \u001b[0minputs\u001b[0m\u001b[1;33m,\u001b[0m\u001b[1;33m\u001b[0m\u001b[1;33m\u001b[0m\u001b[0m\n\u001b[1;32m--> 156\u001b[1;33m         allow_unreachable=True, accumulate_grad=True)  # allow_unreachable flag\n\u001b[0m\u001b[0;32m    157\u001b[0m \u001b[1;33m\u001b[0m\u001b[0m\n\u001b[0;32m    158\u001b[0m \u001b[1;33m\u001b[0m\u001b[0m\n",
      "\u001b[1;31mKeyboardInterrupt\u001b[0m: "
     ]
    }
   ],
   "source": [
    "PROJECT_DIR = 'ptbxl_code/code'\n",
    "sys.path.append(PROJECT_DIR)\n",
    "\n",
    "from experiments.scp_experiment import SCP_Experiment\n",
    "from utils import utils\n",
    "from configs.fastai_configs import *\n",
    "from configs.wavelet_configs import *\n",
    "\n",
    "datafolder = 'data/ptbxl/'\n",
    "datafolder_icbeb = 'data/ICBEB/'\n",
    "outputfolder = 'ptbxl_code/output/'\n",
    "\n",
    "models = [\n",
    "    conf_fastai_fcn_wang\n",
    "    ] \n",
    "\n",
    "##########################################\n",
    "# STANDARD SCP EXPERIMENTS ON PTBXL\n",
    "##########################################\n",
    "\n",
    "experiments = [\n",
    "    ('exp0', 'all'),\n",
    "    #('exp1', 'diagnostic'),\n",
    "    #('exp1.1', 'subdiagnostic'),\n",
    "    #('exp1.1.1', 'superdiagnostic'),\n",
    "    #('exp2', 'form'),\n",
    "    #('exp3', 'rhythm')\n",
    "    ]\n",
    "\n",
    "for _ in range(1):\n",
    "    for name, task in experiments:\n",
    "        e = SCP_Experiment(name, task, datafolder, outputfolder, models)\n",
    "        e.prepare()\n",
    "        e.perform()\n",
    "        e.evaluate()\n",
    "\n",
    "        # generate greate summary table\n",
    "        utils.generate_ptbxl_summary_table(selection=[\"fastai_fcn_wang\"], folder=\"ptbxl_code/output/\")"
   ]
  }
 ],
 "metadata": {
  "accelerator": "GPU",
  "colab": {
   "collapsed_sections": [
    "9b40171b",
    "fef61746",
    "y08O_KHZ8Uch",
    "LxI5nRJT8ZX0",
    "Q9aEejf98ZAX",
    "39f7fb11",
    "rCqQtgVRGth2",
    "j0e8nyhIExi-",
    "Da4ZXd52Ex7y",
    "a438f458",
    "2rPY7VF-ZXJY",
    "O1_HlaPOH_1H",
    "DEJsDdVw6cxy",
    "09-u1nZn7HQm"
   ],
   "provenance": []
  },
  "gpuClass": "premium",
  "kernelspec": {
   "display_name": "Python 3 (ipykernel)",
   "language": "python",
   "name": "python3"
  },
  "language_info": {
   "codemirror_mode": {
    "name": "ipython",
    "version": 3
   },
   "file_extension": ".py",
   "mimetype": "text/x-python",
   "name": "python",
   "nbconvert_exporter": "python",
   "pygments_lexer": "ipython3",
   "version": "3.7.11"
  }
 },
 "nbformat": 4,
 "nbformat_minor": 5
}
