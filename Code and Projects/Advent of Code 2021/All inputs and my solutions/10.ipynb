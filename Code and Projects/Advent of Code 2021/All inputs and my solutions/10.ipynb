{
 "cells": [
  {
   "cell_type": "code",
   "execution_count": 1,
   "id": "6674bf33-2c14-408e-b096-9e20deb41c01",
   "metadata": {},
   "outputs": [],
   "source": [
    "with open('inputs/10.txt', 'r') as file:\n",
    "    inp = file.read()[:-1]"
   ]
  },
  {
   "cell_type": "code",
   "execution_count": 2,
   "id": "52599b8c",
   "metadata": {},
   "outputs": [],
   "source": [
    "lines = inp.split(\"\\n\")"
   ]
  },
  {
   "cell_type": "code",
   "execution_count": 3,
   "id": "31fe8568",
   "metadata": {},
   "outputs": [
    {
     "name": "stdout",
     "output_type": "stream",
     "text": [
      "364389\n"
     ]
    }
   ],
   "source": [
    "# 1\n",
    "close = {\"(\":\")\", \"[\":\"]\", \"<\":\">\" ,\"{\":\"}\"}\n",
    "score = {\")\":3, \"]\":57, \">\": 25137 ,\"}\":1197}\n",
    "\n",
    "error = 0\n",
    "for line in lines:\n",
    "    queue = []\n",
    "    for i in line:\n",
    "        if i in [\"(\",\"[\",\"<\",\"{\"]:\n",
    "            queue.append(i)\n",
    "        if i in [\")\",\"]\",\">\",\"}\"]:\n",
    "            if i != close[queue.pop()]:\n",
    "                error += score[i]\n",
    "                break\n",
    "                \n",
    "print(error)"
   ]
  },
  {
   "cell_type": "code",
   "execution_count": 4,
   "id": "e338b57a",
   "metadata": {},
   "outputs": [
    {
     "name": "stdout",
     "output_type": "stream",
     "text": [
      "2870201088\n"
     ]
    }
   ],
   "source": [
    "# 2\n",
    "close = {\"(\":\")\", \"[\":\"]\", \"<\":\">\" ,\"{\":\"}\"}\n",
    "score = {\")\":1, \"]\":2, \">\": 4 ,\"}\":3}\n",
    "\n",
    "errors = []\n",
    "for line in lines:\n",
    "    incomplete = True\n",
    "    queue = []\n",
    "    for i in line:\n",
    "        if i in [\"(\",\"[\",\"<\",\"{\"]:\n",
    "            queue.append(i)\n",
    "        if i in [\")\",\"]\",\">\",\"}\"]:\n",
    "            if i != close[queue.pop()]:\n",
    "                incomplete = False\n",
    "                break\n",
    "    if incomplete:\n",
    "        error = 0\n",
    "        while queue:\n",
    "            error = error * 5 + score[close[queue.pop()]]\n",
    "        errors.append(error)\n",
    "print(sorted(errors)[len(errors)//2])"
   ]
  }
 ],
 "metadata": {
  "kernelspec": {
   "display_name": "Python 3 (ipykernel)",
   "language": "python",
   "name": "python3"
  },
  "language_info": {
   "codemirror_mode": {
    "name": "ipython",
    "version": 3
   },
   "file_extension": ".py",
   "mimetype": "text/x-python",
   "name": "python",
   "nbconvert_exporter": "python",
   "pygments_lexer": "ipython3",
   "version": "3.11.3"
  }
 },
 "nbformat": 4,
 "nbformat_minor": 5
}
