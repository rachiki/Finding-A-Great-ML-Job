{
 "cells": [
  {
   "cell_type": "code",
   "execution_count": 1,
   "id": "1b5e847e-5795-4e43-b974-bab578ee40b5",
   "metadata": {},
   "outputs": [],
   "source": [
    "with open('inputs/15.txt', 'r') as file:\n",
    "    inp = file.read()[:-1]"
   ]
  },
  {
   "cell_type": "code",
   "execution_count": 2,
   "id": "b77c930b",
   "metadata": {},
   "outputs": [],
   "source": [
    "import numpy as np"
   ]
  },
  {
   "cell_type": "code",
   "execution_count": 3,
   "id": "6f0a742c",
   "metadata": {},
   "outputs": [],
   "source": [
    "cav = np.array([list(i) for i in inp.split(\"\\n\")]).astype(int)\n",
    "#cav"
   ]
  },
  {
   "cell_type": "code",
   "execution_count": 4,
   "id": "94b2dadd",
   "metadata": {},
   "outputs": [],
   "source": [
    "total_risk = 0\n",
    "mini = np.ones_like(cav) * 10000\n",
    "mini[0,0] = 0\n",
    "h, w = mini.shape\n",
    "for y in range(h):\n",
    "    for x in range(w):\n",
    "        if x != 0 or y != 0:\n",
    "            adjacent = []\n",
    "            for (i,j) in [[0,1],[1,0],[-1,0],[0,-1]]:\n",
    "                if 0 <= y+i < h and 0 <= x+j < w:\n",
    "                    adjacent.append(mini[y+i, x+j])\n",
    "            mini[y,x] = cav[y,x] + min(adjacent)\n",
    "#mini"
   ]
  },
  {
   "cell_type": "code",
   "execution_count": 5,
   "id": "bfaeae25",
   "metadata": {},
   "outputs": [
    {
     "name": "stdout",
     "output_type": "stream",
     "text": [
      "(500, 500)\n"
     ]
    }
   ],
   "source": [
    "cav = np.array([list(i) for i in inp.split(\"\\n\")]).astype(int)\n",
    "cav_y = cav*1\n",
    "for i in range(4):\n",
    "    cav_plus = np.where(cav+i+1 > 9, cav+i-8, cav+i+1)\n",
    "    cav_y = np.concatenate((cav_y, cav_plus))\n",
    "\n",
    "cav_big = cav_y*1\n",
    "for j in range(4):\n",
    "    cav_plus = np.where(cav_y+j+1 > 9, cav_y+j-8, cav_y+j+1)\n",
    "    cav_big = np.concatenate((cav_big, cav_plus), axis=1)\n",
    "print(cav_big.shape)"
   ]
  },
  {
   "cell_type": "code",
   "execution_count": 6,
   "id": "b41ab720",
   "metadata": {},
   "outputs": [
    {
     "name": "stdout",
     "output_type": "stream",
     "text": [
      "410 2809\n"
     ]
    }
   ],
   "source": [
    "# 1 and 2\n",
    "total_risk = 0\n",
    "mini = np.ones_like(cav_big) * 100000\n",
    "mini[0,0] = 0\n",
    "h, w = mini.shape\n",
    "for _ in range(10):\n",
    "    for y in range(h):\n",
    "        for x in range(w):\n",
    "            if x != 0 or y != 0:\n",
    "                adjacent = []\n",
    "                for (i,j) in [[0,1],[1,0],[-1,0],[0,-1]]:\n",
    "                    if 0 <= y+i < h and 0 <= x+j < w:\n",
    "                        adjacent.append(mini[y+i, x+j])\n",
    "                mini[y,x] = cav_big[y,x] + min(adjacent)\n",
    "print(mini[99,99], mini[-1,-1])"
   ]
  }
 ],
 "metadata": {
  "kernelspec": {
   "display_name": "Python 3 (ipykernel)",
   "language": "python",
   "name": "python3"
  },
  "language_info": {
   "codemirror_mode": {
    "name": "ipython",
    "version": 3
   },
   "file_extension": ".py",
   "mimetype": "text/x-python",
   "name": "python",
   "nbconvert_exporter": "python",
   "pygments_lexer": "ipython3",
   "version": "3.11.3"
  }
 },
 "nbformat": 4,
 "nbformat_minor": 5
}
