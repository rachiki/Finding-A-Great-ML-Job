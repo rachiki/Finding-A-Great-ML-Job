{
 "cells": [
  {
   "cell_type": "code",
   "execution_count": 1,
   "id": "bd1fc216-7cc0-4f94-bc2d-9fe5d48c372d",
   "metadata": {},
   "outputs": [],
   "source": [
    "with open('inputs/3.txt', 'r') as file:\n",
    "    inp = file.read()[:-1]"
   ]
  },
  {
   "cell_type": "code",
   "execution_count": 2,
   "id": "ea8bd8cd",
   "metadata": {},
   "outputs": [],
   "source": [
    "import numpy as np"
   ]
  },
  {
   "cell_type": "code",
   "execution_count": 3,
   "id": "2a89eed3",
   "metadata": {},
   "outputs": [
    {
     "name": "stdout",
     "output_type": "stream",
     "text": [
      "3135 960\n",
      "3009600\n"
     ]
    }
   ],
   "source": [
    "# 1\n",
    "gamma = 0\n",
    "epsilon = 0\n",
    "\n",
    "numbers = []\n",
    "for i in inp.split(\"\\n\"):\n",
    "    n = []\n",
    "    for p in i:\n",
    "        n.append(int(p))\n",
    "    numbers.append([n])\n",
    "numbers = np.array(numbers).squeeze()\n",
    "mean = np.mean(numbers, axis=0)\n",
    "\n",
    "gamma = np.round(mean)\n",
    "epsilon = np.round(1-mean)\n",
    "\n",
    "g_dec = 0\n",
    "e_dec = 0\n",
    "\n",
    "for i in range(len(gamma)):\n",
    "    g_dec += gamma[-i-1] * 2**i\n",
    "\n",
    "for i in range(len(epsilon)):\n",
    "    e_dec += epsilon[-i-1] * 2**i\n",
    "    \n",
    "print(int(g_dec), int(e_dec))\n",
    "print(int(g_dec*e_dec))"
   ]
  },
  {
   "cell_type": "code",
   "execution_count": 4,
   "id": "865090ae",
   "metadata": {},
   "outputs": [
    {
     "name": "stdout",
     "output_type": "stream",
     "text": [
      "3939 1762\n",
      "6940518\n"
     ]
    }
   ],
   "source": [
    "# 2\n",
    "numbers = []\n",
    "for i in inp.split(\"\\n\"):\n",
    "    n = []\n",
    "    for p in i:\n",
    "        n.append(int(p))\n",
    "    numbers.append([n])\n",
    "numbers = np.array(numbers).squeeze()\n",
    "\n",
    "copy_numbers = numbers*1\n",
    "\n",
    "for i in range(copy_numbers.shape[1]):\n",
    "    mean = np.mean(copy_numbers[:,i], axis=0)\n",
    "    copy_numbers = copy_numbers[copy_numbers[:,i] == int(round(mean+10**-6))]\n",
    "copy_numbers = copy_numbers.squeeze()\n",
    "ox = 0\n",
    "for i in range(len(copy_numbers)):\n",
    "    ox += copy_numbers[-i-1] * 2**i\n",
    "    \n",
    "copy_numbers = numbers*1\n",
    "\n",
    "for i in range(copy_numbers.shape[1]):\n",
    "    mean = np.mean(copy_numbers[:,i], axis=0)\n",
    "    copy_numbers = copy_numbers[copy_numbers[:,i] == round(1-float(mean))]\n",
    "    if copy_numbers.shape[0] == 1:\n",
    "        break\n",
    "copy_numbers = copy_numbers.squeeze()    \n",
    "co2 = 0\n",
    "for i in range(len(copy_numbers)):\n",
    "    co2 += copy_numbers[-i-1] * 2**i\n",
    "    \n",
    "print(ox, co2)\n",
    "print(ox*co2)  "
   ]
  }
 ],
 "metadata": {
  "kernelspec": {
   "display_name": "Python 3 (ipykernel)",
   "language": "python",
   "name": "python3"
  },
  "language_info": {
   "codemirror_mode": {
    "name": "ipython",
    "version": 3
   },
   "file_extension": ".py",
   "mimetype": "text/x-python",
   "name": "python",
   "nbconvert_exporter": "python",
   "pygments_lexer": "ipython3",
   "version": "3.11.3"
  }
 },
 "nbformat": 4,
 "nbformat_minor": 5
}
