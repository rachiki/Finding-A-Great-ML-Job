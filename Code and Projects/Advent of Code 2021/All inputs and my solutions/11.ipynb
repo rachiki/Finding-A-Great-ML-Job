{
 "cells": [
  {
   "cell_type": "code",
   "execution_count": 1,
   "id": "92e2ac52-9c4f-4a1e-b209-cdc228d67882",
   "metadata": {},
   "outputs": [],
   "source": [
    "with open('inputs/11.txt', 'r') as file:\n",
    "    inp = file.read()[:-1]"
   ]
  },
  {
   "cell_type": "code",
   "execution_count": 2,
   "id": "19fec472-0029-4f2e-a3c5-c00ca745d4b3",
   "metadata": {},
   "outputs": [],
   "source": [
    "import numpy as np"
   ]
  },
  {
   "cell_type": "code",
   "execution_count": 3,
   "id": "a731b2ad",
   "metadata": {},
   "outputs": [
    {
     "data": {
      "text/plain": [
       "array([[2, 3, 4, 4, 6, 7, 1, 2, 1, 2],\n",
       "       [6, 6, 1, 1, 7, 4, 2, 6, 8, 1],\n",
       "       [5, 5, 7, 5, 5, 7, 5, 5, 7, 3],\n",
       "       [3, 1, 6, 7, 8, 4, 8, 5, 3, 6],\n",
       "       [1, 3, 5, 3, 8, 2, 7, 3, 1, 1],\n",
       "       [4, 4, 1, 6, 4, 6, 3, 2, 6, 6],\n",
       "       [2, 6, 2, 4, 7, 6, 1, 6, 1, 5],\n",
       "       [1, 7, 8, 6, 5, 6, 1, 2, 6, 3],\n",
       "       [3, 6, 2, 2, 6, 4, 3, 2, 1, 5],\n",
       "       [4, 1, 4, 3, 2, 8, 4, 6, 5, 3]])"
      ]
     },
     "execution_count": 3,
     "metadata": {},
     "output_type": "execute_result"
    }
   ],
   "source": [
    "octo = np.array([list(i) for i in inp.split(\"\\n\")]).astype(int)\n",
    "octo"
   ]
  },
  {
   "cell_type": "code",
   "execution_count": 4,
   "id": "5b84e90c",
   "metadata": {},
   "outputs": [
    {
     "name": "stdout",
     "output_type": "stream",
     "text": [
      "1729\n"
     ]
    }
   ],
   "source": [
    "# 1\n",
    "pos = [[+1, +1],[+1,0],[+1,-1], [0,+1],[0,-1],[-1,+1],[-1,-1],[-1,0]]\n",
    "\n",
    "fired = 0\n",
    "for t in range(100):\n",
    "    octo += 1\n",
    "    while (octo>9).any():\n",
    "        for h in range(10):\n",
    "            for w in range(10):\n",
    "                if octo[h,w] >= 10:\n",
    "                    fired += 1\n",
    "                    octo[h,w] = -100\n",
    "                    for p in pos:\n",
    "                        if 0<=h+p[0]<10 and 0<=w+p[1]<10:\n",
    "                            octo[h+p[0],w+p[1]] += 1\n",
    "                                           \n",
    "    octo = np.where(octo<0,0,octo)\n",
    "print(fired)  "
   ]
  },
  {
   "cell_type": "code",
   "execution_count": 5,
   "id": "8dcdbcbd",
   "metadata": {},
   "outputs": [
    {
     "name": "stdout",
     "output_type": "stream",
     "text": [
      "137\n"
     ]
    }
   ],
   "source": [
    "# 2\n",
    "pos = [[+1, +1],[+1,0],[+1,-1], [0,+1],[0,-1],[-1,+1],[-1,-1],[-1,0]]\n",
    "\n",
    "for t in range(1000):\n",
    "    fired_round = 0\n",
    "    octo += 1\n",
    "    while (octo>9).any():\n",
    "        for h in range(10):\n",
    "            for w in range(10):\n",
    "                if octo[h,w] >= 10:\n",
    "                    fired_round += 1\n",
    "                    octo[h,w] = -100\n",
    "                    for p in pos:\n",
    "                        if 0<=h+p[0]<10 and 0<=w+p[1]<10:\n",
    "                            octo[h+p[0],w+p[1]] += 1\n",
    "    if fired_round == 100:\n",
    "        print(t+1)\n",
    "        break\n",
    "    octo = np.where(octo<0,0,octo)"
   ]
  }
 ],
 "metadata": {
  "kernelspec": {
   "display_name": "Python 3 (ipykernel)",
   "language": "python",
   "name": "python3"
  },
  "language_info": {
   "codemirror_mode": {
    "name": "ipython",
    "version": 3
   },
   "file_extension": ".py",
   "mimetype": "text/x-python",
   "name": "python",
   "nbconvert_exporter": "python",
   "pygments_lexer": "ipython3",
   "version": "3.11.3"
  }
 },
 "nbformat": 4,
 "nbformat_minor": 5
}
