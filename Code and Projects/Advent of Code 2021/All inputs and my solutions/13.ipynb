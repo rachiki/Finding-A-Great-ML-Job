{
 "cells": [
  {
   "cell_type": "code",
   "execution_count": 1,
   "id": "56179756-6588-49fc-bf4b-4606def2fac6",
   "metadata": {},
   "outputs": [],
   "source": [
    "with open('inputs/13.txt', 'r') as file:\n",
    "    inp = file.read()[:-1]"
   ]
  },
  {
   "cell_type": "code",
   "execution_count": 2,
   "id": "46d703b3",
   "metadata": {},
   "outputs": [],
   "source": [
    "import numpy as np\n",
    "import matplotlib.pyplot as plt\n",
    "from parse import findall"
   ]
  },
  {
   "cell_type": "code",
   "execution_count": 3,
   "id": "902d62d2",
   "metadata": {},
   "outputs": [
    {
     "name": "stdout",
     "output_type": "stream",
     "text": [
      "Solution 1: 689\n"
     ]
    },
    {
     "data": {
      "text/plain": [
       "<matplotlib.image.AxesImage at 0x7f447cff6950>"
      ]
     },
     "execution_count": 3,
     "metadata": {},
     "output_type": "execute_result"
    },
    {
     "data": {
      "image/png": "[encoded data removed]",
      "text/plain": [
       "<Figure size 640x480 with 1 Axes>"
      ]
     },
     "metadata": {},
     "output_type": "display_data"
    }
   ],
   "source": [
    "# 1 and 2\n",
    "# Processing of inputs\n",
    "dots, folds = inp.split(\"\\n\\n\")\n",
    "dots = [i.split(\",\") for i in dots.split(\"\\n\")]\n",
    "dots = np.array(dots).astype(int)\n",
    "folds = [i.split(\"=\") for i in folds.split(\"\\n\")]\n",
    "\n",
    "# Creation of grid\n",
    "grid = np.zeros((np.max(dots, axis=0)+1))\n",
    "for i in dots:\n",
    "    grid[i[0], i[1]] = 1\n",
    "grid = np.transpose(grid)\n",
    "\n",
    "# Folding and output\n",
    "first = True\n",
    "for f in folds:\n",
    "    value = int(f[1])\n",
    "    if f[0][-1] == \"y\": grid = grid[:value] + np.flip(grid[value+1:], axis=0)\n",
    "    if f[0][-1] == \"x\": grid = grid[:,:value] + np.flip(grid[:,value+1:], axis=1)\n",
    "    if first: \n",
    "        print('Solution 1: ' + str(np.sum(np.where(grid>0,1,0))))\n",
    "        first = False\n",
    "plt.imshow(np.where(grid>0,1,0))"
   ]
  }
 ],
 "metadata": {
  "kernelspec": {
   "display_name": "Python 3 (ipykernel)",
   "language": "python",
   "name": "python3"
  },
  "language_info": {
   "codemirror_mode": {
    "name": "ipython",
    "version": 3
   },
   "file_extension": ".py",
   "mimetype": "text/x-python",
   "name": "python",
   "nbconvert_exporter": "python",
   "pygments_lexer": "ipython3",
   "version": "3.11.3"
  }
 },
 "nbformat": 4,
 "nbformat_minor": 5
}
