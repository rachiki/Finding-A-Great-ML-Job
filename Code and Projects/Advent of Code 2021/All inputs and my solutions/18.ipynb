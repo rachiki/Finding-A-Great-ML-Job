{
 "cells": [
  {
   "cell_type": "code",
   "execution_count": 1,
   "id": "be1ce351-107a-45d8-810c-a5aa074919f1",
   "metadata": {},
   "outputs": [],
   "source": [
    "with open('inputs/18.txt', 'r') as file:\n",
    "    inp = file.read()[:-1]"
   ]
  },
  {
   "cell_type": "code",
   "execution_count": 2,
   "id": "fd416f76",
   "metadata": {},
   "outputs": [],
   "source": [
    "def convert(c):\n",
    "    l=[]\n",
    "    for i in str(c):\n",
    "        if i in [str(i) for i in range(10)]: l.append(int(i))\n",
    "        elif i in [\"[\",\"]\"]: l.append(i)\n",
    "    return l"
   ]
  },
  {
   "cell_type": "code",
   "execution_count": 3,
   "id": "4e4eec3f",
   "metadata": {},
   "outputs": [],
   "source": [
    "def split(l, splitted=False):\n",
    "    for i in range(len(l)):\n",
    "        if isinstance(l[i] ,int): \n",
    "            if l[i] > 9:\n",
    "                new = [\"[\", round(l[i]/2-0.1), round(l[i]/2+0.1), \"]\"]\n",
    "                l = l[:i] + new + l[i+1:]\n",
    "                splitted = True\n",
    "                break\n",
    "    return l, splitted"
   ]
  },
  {
   "cell_type": "code",
   "execution_count": 4,
   "id": "41ec213c",
   "metadata": {},
   "outputs": [],
   "source": [
    "def explode(l, c=0, exploded=False):\n",
    "    for i in range(len(l)):\n",
    "        if l[i] == \"[\": c += 1\n",
    "        elif l[i] == \"]\": c -= 1\n",
    "        if c == 5: \n",
    "            for v in range(i):\n",
    "                if isinstance(l[i-v], int):\n",
    "                    l[i-v] += l[i+1]\n",
    "                    break\n",
    "            for w in range(3, len(l)-i):\n",
    "                if isinstance(l[i+w], int):\n",
    "                    l[i+w] += l[i+2]\n",
    "                    break\n",
    "            l = l[:i] + [0] + l[i+4:]\n",
    "            exploded = True\n",
    "            break\n",
    "    return l, exploded"
   ]
  },
  {
   "cell_type": "code",
   "execution_count": 5,
   "id": "2aa57766",
   "metadata": {},
   "outputs": [],
   "source": [
    "def reduce(a):                # explode->split check or multi explosions in a row?\n",
    "    while True:\n",
    "        a, exploded = explode(a)\n",
    "        if exploded: continue\n",
    "        a, splitted = split(a)\n",
    "        if not exploded and not splitted: break\n",
    "    return a"
   ]
  },
  {
   "cell_type": "code",
   "execution_count": 6,
   "id": "70d11c97",
   "metadata": {},
   "outputs": [],
   "source": [
    "def magnitude(a):\n",
    "    while len(a)>3:\n",
    "        i = 0\n",
    "        new = []\n",
    "        while i <(len(a)-1):\n",
    "            if a[i] in [\"[\",\"]\"]: new += [a[i]]\n",
    "            elif isinstance(a[i],int) and isinstance(a[i+1],int):\n",
    "                new = new[:-1] + [a[i]*3+a[i+1]*2]\n",
    "                i += 2\n",
    "            else: new += [a[i]] \n",
    "            i += 1\n",
    "        new += [\"]\"]\n",
    "        a = [i for i in new]\n",
    "    return a[0]"
   ]
  },
  {
   "cell_type": "code",
   "execution_count": 7,
   "id": "2649134e",
   "metadata": {},
   "outputs": [
    {
     "name": "stdout",
     "output_type": "stream",
     "text": [
      "3494\n",
      "4712\n"
     ]
    }
   ],
   "source": [
    "# 1 and 2\n",
    "numbers = [convert(i) for i in inp.split(\"\\n\")]\n",
    "result = numbers[0]\n",
    "for i in numbers[1:]:\n",
    "    result = [\"[\"] + result + i + [\"]\"]\n",
    "    result = reduce(result)\n",
    "print(magnitude(result))\n",
    "mags = []\n",
    "for i in range(len(numbers)):\n",
    "    for j in range(len(numbers)):\n",
    "        if i != j:\n",
    "            result = [\"[\"] + numbers[i] + numbers[j] + [\"]\"]\n",
    "            result = reduce(result)\n",
    "            mags.append(magnitude(result))\n",
    "print(max(mags))"
   ]
  }
 ],
 "metadata": {
  "kernelspec": {
   "display_name": "Python 3 (ipykernel)",
   "language": "python",
   "name": "python3"
  },
  "language_info": {
   "codemirror_mode": {
    "name": "ipython",
    "version": 3
   },
   "file_extension": ".py",
   "mimetype": "text/x-python",
   "name": "python",
   "nbconvert_exporter": "python",
   "pygments_lexer": "ipython3",
   "version": "3.11.3"
  }
 },
 "nbformat": 4,
 "nbformat_minor": 5
}
