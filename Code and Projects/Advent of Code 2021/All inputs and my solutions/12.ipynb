{
 "cells": [
  {
   "cell_type": "code",
   "execution_count": 1,
   "id": "a2958ddb-019c-407e-a27f-891ed791970d",
   "metadata": {},
   "outputs": [],
   "source": [
    "with open('inputs/12.txt', 'r') as file:\n",
    "    inp = file.read()[:-1]"
   ]
  },
  {
   "cell_type": "code",
   "execution_count": 2,
   "id": "4f3cd03b",
   "metadata": {},
   "outputs": [],
   "source": [
    "import copy"
   ]
  },
  {
   "cell_type": "code",
   "execution_count": 3,
   "id": "33de6cd7",
   "metadata": {},
   "outputs": [
    {
     "name": "stdout",
     "output_type": "stream",
     "text": [
      "{'bm': ['XY', 'im', 'QI', 'AF', 'cj', 'gq'], 'XY': ['bm'], 'ol': ['JS', 'RD', 'ja', 'start', 'AF'], 'JS': ['ol', 'ja', 'gq', 'start'], 'im': ['bm', 'gq', 'end', 'QI'], 'RD': ['ol', 'start', 'ja', 'gq'], 'QI': ['bm', 'end', 'gq', 'im', 'ja'], 'ja': ['JS', 'ol', 'RD', 'gq', 'QI'], 'gq': ['im', 'JS', 'QI', 'ja', 'bm', 'RD'], 'end': ['im', 'QI', 'AF'], 'AF': ['bm', 'ol', 'end'], 'start': ['RD', 'ol', 'JS'], 'cj': ['bm']}\n"
     ]
    }
   ],
   "source": [
    "graph = {}\n",
    "for line in inp.split(\"\\n\"):\n",
    "    f = line.split(\"-\")[0]\n",
    "    t = line.split(\"-\")[1]\n",
    "    if f not in graph:\n",
    "        graph[f] = []\n",
    "    if t not in graph:\n",
    "        graph[t] = []\n",
    "    graph[f].append(t)\n",
    "    graph[t].append(f)\n",
    "print(graph)"
   ]
  },
  {
   "cell_type": "code",
   "execution_count": 4,
   "id": "69392a09",
   "metadata": {},
   "outputs": [],
   "source": [
    "def deeper1(current, path, visited):\n",
    "    global count\n",
    "    #print(current, path, visited)\n",
    "    for i in graph[current]:\n",
    "        if i != \"end\" and i not in visited:\n",
    "            new_path = copy.deepcopy(path)\n",
    "            new_path.append(i)\n",
    "            new_visited = copy.deepcopy(visited)\n",
    "            if i.islower():\n",
    "                new_visited.append(i)\n",
    "            deeper1(i, new_path, new_visited)\n",
    "        elif i == \"end\":\n",
    "            #print(path)\n",
    "            count += 1"
   ]
  },
  {
   "cell_type": "code",
   "execution_count": 5,
   "id": "fcc5d5d9",
   "metadata": {},
   "outputs": [
    {
     "name": "stdout",
     "output_type": "stream",
     "text": [
      "3887\n"
     ]
    }
   ],
   "source": [
    "count = 0\n",
    "deeper1('start', ['start'], ['start'])\n",
    "print(count)"
   ]
  },
  {
   "cell_type": "code",
   "execution_count": 6,
   "id": "a6a79ba0",
   "metadata": {},
   "outputs": [],
   "source": [
    "def deeper2(current, path, visited, twice):\n",
    "    global count\n",
    "    #print(current, path, visited, twice)\n",
    "    for i in graph[current]:\n",
    "        #print(path, i, visited, twice)\n",
    "        if i != \"end\" and (not twice or i not in visited) and i != \"start\":\n",
    "            twice_copy = False\n",
    "            if i in visited:\n",
    "                twice_copy = True\n",
    "            new_path = copy.deepcopy(path)\n",
    "            new_path.append(i)\n",
    "            new_visited = copy.deepcopy(visited)\n",
    "            if i.islower():\n",
    "                new_visited.append(i)\n",
    "            deeper2(i, new_path, new_visited, twice_copy or twice)\n",
    "        elif i == \"end\":\n",
    "            #print(path, \"!!!!!!!!!!!!!!!!!!!!\")\n",
    "            count += 1"
   ]
  },
  {
   "cell_type": "code",
   "execution_count": 7,
   "id": "e28d4a46",
   "metadata": {},
   "outputs": [
    {
     "name": "stdout",
     "output_type": "stream",
     "text": [
      "104834\n"
     ]
    }
   ],
   "source": [
    "count = 0\n",
    "deeper2('start', ['start'], ['start'], False)\n",
    "print(count)"
   ]
  }
 ],
 "metadata": {
  "kernelspec": {
   "display_name": "Python 3 (ipykernel)",
   "language": "python",
   "name": "python3"
  },
  "language_info": {
   "codemirror_mode": {
    "name": "ipython",
    "version": 3
   },
   "file_extension": ".py",
   "mimetype": "text/x-python",
   "name": "python",
   "nbconvert_exporter": "python",
   "pygments_lexer": "ipython3",
   "version": "3.11.3"
  }
 },
 "nbformat": 4,
 "nbformat_minor": 5
}
