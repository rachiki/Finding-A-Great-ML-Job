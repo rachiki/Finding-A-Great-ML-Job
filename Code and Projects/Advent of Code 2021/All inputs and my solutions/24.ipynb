{
 "cells": [
  {
   "cell_type": "code",
   "execution_count": 1,
   "id": "3b992970-66dc-4497-8042-8b4cd9e9d3a2",
   "metadata": {},
   "outputs": [],
   "source": [
    "with open('inputs/24.txt', 'r') as file:\n",
    "    inp = file.read()[:-1]"
   ]
  },
  {
   "cell_type": "code",
   "execution_count": 2,
   "id": "efce4534",
   "metadata": {},
   "outputs": [],
   "source": [
    "instr = [i.split(\" \") for i in inp.split(\"\\n\")]\n",
    "#instr"
   ]
  },
  {
   "cell_type": "code",
   "execution_count": 3,
   "id": "1b5ae90e",
   "metadata": {},
   "outputs": [],
   "source": [
    "def pathfinder(depth,solutions, solution_list, show_intermediate=True, setting='max'):\n",
    "    if show_intermediate:\n",
    "        print(solution_list)\n",
    "    solution_list = [-1] + solution_list\n",
    "    zs = {0}\n",
    "    v = [[26,26,26,26,1,1,1,26,26,1,26,1,1,1],\n",
    "         [-9,-13,-9,-4,13,10,11,-7,-13,10,-13,14,14,10],\n",
    "         [9,7,3,6,1,16,5,6,3,15,9,13,13,2]]\n",
    "    \n",
    "    new_solutions = []\n",
    "    for r in range(13,-1,-1):\n",
    "        v1,v2,v3 = v[0][r],v[1][r],v[2][r]\n",
    "        new_zs = set()\n",
    "        for w in range(1,10):  # can calc 10**6\n",
    "            for z in zs:\n",
    "                z1 = z\n",
    "                x = (z % 26 + v2) != w        # x must be == w in the end and almost always too\n",
    "                z //= v1\n",
    "                z *= 25 * x + 1\n",
    "                z += (w + v3) * x # (positive + positive) * positive => x has to be false in the end\n",
    "                if z < 10**6:\n",
    "                    new_zs.add(z)\n",
    "                if r == depth and z in solutions:\n",
    "                    if show_intermediate:\n",
    "                        print(z1,w,z)\n",
    "                    if solution_list[0] == -1 or setting == 'max':\n",
    "                        solution_list[0] = str(w) \n",
    "                    new_solutions += [z1]         \n",
    "        zs = new_zs\n",
    "    if depth == 13:\n",
    "        return solution_list\n",
    "\n",
    "    if show_intermediate:\n",
    "        print()\n",
    "    solution_list = pathfinder(depth+1, new_solutions, solution_list, show_intermediate=show_intermediate, setting=setting)\n",
    "    return solution_list"
   ]
  },
  {
   "cell_type": "code",
   "execution_count": 4,
   "id": "67474ec6",
   "metadata": {},
   "outputs": [
    {
     "name": "stdout",
     "output_type": "stream",
     "text": [
      "93997999296912\n",
      "81111379141811\n"
     ]
    }
   ],
   "source": [
    "# 1 and 2\n",
    "solution_list = pathfinder(0, [0], [], show_intermediate=False, setting='max')\n",
    "print(int(''.join(solution_list)))\n",
    "solution_list = pathfinder(0, [0], [], show_intermediate=False, setting='min')\n",
    "print(int(''.join(solution_list)))"
   ]
  }
 ],
 "metadata": {
  "kernelspec": {
   "display_name": "Python 3 (ipykernel)",
   "language": "python",
   "name": "python3"
  },
  "language_info": {
   "codemirror_mode": {
    "name": "ipython",
    "version": 3
   },
   "file_extension": ".py",
   "mimetype": "text/x-python",
   "name": "python",
   "nbconvert_exporter": "python",
   "pygments_lexer": "ipython3",
   "version": "3.11.3"
  }
 },
 "nbformat": 4,
 "nbformat_minor": 5
}
