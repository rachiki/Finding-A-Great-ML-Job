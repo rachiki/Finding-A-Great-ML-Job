{
 "cells": [
  {
   "cell_type": "code",
   "execution_count": 1,
   "id": "eb8fd60e-acf3-4563-97b5-c4927c567d06",
   "metadata": {},
   "outputs": [],
   "source": [
    "import numpy\n",
    "import copy"
   ]
  },
  {
   "cell_type": "code",
   "execution_count": 2,
   "id": "292df0cd",
   "metadata": {},
   "outputs": [],
   "source": [
    "def cost(q,from_here,to_here):\n",
    "    mult = 10**(q[from_here][-1]-1)\n",
    "    dist = abs(from_here-to_here)\n",
    "    if from_here in [2,4,6,8]: dist += (task*2+1)-len(q[from_here])\n",
    "    if to_here in [2,4,6,8]: dist += (task*2)-len(q[to_here])\n",
    "    return dist*mult"
   ]
  },
  {
   "cell_type": "code",
   "execution_count": 3,
   "id": "a57a81d2",
   "metadata": {},
   "outputs": [],
   "source": [
    "def reachable(q,i):\n",
    "    r = []\n",
    "    k = i-1\n",
    "    while True:\n",
    "        r += [k]\n",
    "        if k not in [2,4,6,8] and len(q[k]) == 1: break\n",
    "        elif k == 0: break\n",
    "        k -= 1\n",
    "    k = i+1\n",
    "    while True:\n",
    "        r += [k]\n",
    "        if k not in [2,4,6,8] and len(q[k]) == 1: break\n",
    "        elif k == 10: break\n",
    "        k += 1\n",
    "    return r"
   ]
  },
  {
   "cell_type": "code",
   "execution_count": 4,
   "id": "6776abe5",
   "metadata": {},
   "outputs": [],
   "source": [
    "def solve(q, costs):\n",
    "    #print(\"NEW\")\n",
    "    cont = True\n",
    "    while cont:\n",
    "        #print(q)\n",
    "        cont = False\n",
    "        done = []\n",
    "        for i in [2,4,6,8]:\n",
    "            # Check if any stack is finished and fill\n",
    "            if all([j == i//2 for j in q[:][i]]):\n",
    "                done += [i]\n",
    "                r = reachable(q,i)\n",
    "                for e in r:\n",
    "                    if len(q[e])>0 and q[e][-1] == i//2:\n",
    "                        costs += cost(q,e,i)\n",
    "                        q[i].append(q[e].pop())\n",
    "                        cont = True\n",
    "    \n",
    "    if len(done) == 4 and sum([len(q[n]) for n in range(11) if n not in [2,4,6,8]]) == 0: \n",
    "            return q, costs, True\n",
    "        \n",
    "    # Expand new paths  \n",
    "    best_costs = 10**9\n",
    "    for i in [2,4,6,8]:\n",
    "        if i not in done:\n",
    "            r = reachable(q,i)\n",
    "            for e in r:\n",
    "                if len(q[e]) == 0 and len(q[i]) > 0 and e not in [2,4,6,8]:\n",
    "                    new_q = copy.deepcopy(q)\n",
    "                    new_cost = costs + cost(q,i,e)\n",
    "                    new_q[e].append(new_q[i].pop())\n",
    "                    q_alt, costs_alt, finished = solve(new_q, new_cost)\n",
    "                    if finished: \n",
    "                        #print(costs_alt)\n",
    "                        if costs_alt < best_costs:\n",
    "                            best_costs = costs_alt\n",
    "                            best_q = copy.deepcopy(q_alt)\n",
    "                            \n",
    "    if best_costs < 10**9:\n",
    "        return best_q, best_costs, True\n",
    "    else:            \n",
    "        return q, costs, False #If nothing worked"
   ]
  },
  {
   "cell_type": "code",
   "execution_count": 5,
   "id": "d480fd95",
   "metadata": {},
   "outputs": [
    {
     "name": "stdout",
     "output_type": "stream",
     "text": [
      "12530\n"
     ]
    }
   ],
   "source": [
    "# 1\n",
    "inp = \"\"\"#############\n",
    "#...........#\n",
    "###C#D#D#A###\n",
    "  #B#A#B#C#\n",
    "  #########\"\"\"\n",
    "inp = inp.replace(\"D\", \"4\").replace(\"C\", \"3\").replace(\"B\", \"2\").replace(\"A\", \"1\").replace(\"#\", \" \")\n",
    "split = [n.strip().split(\" \") for n in inp.split(\"\\n\")[2:4]]\n",
    "pos = [[],[],[],[],[],[],[],[],[],[],[]]\n",
    "for i in [1,0]:\n",
    "    for j in range(4): pos[2+2*j] += [int(split[i][j])]\n",
    "task = 1\n",
    "q = copy.deepcopy(pos)\n",
    "q,costs,_ = solve(q, 0)\n",
    "print(costs)"
   ]
  },
  {
   "cell_type": "code",
   "execution_count": 6,
   "id": "4afdcfa8",
   "metadata": {},
   "outputs": [
    {
     "name": "stdout",
     "output_type": "stream",
     "text": [
      "50492\n"
     ]
    }
   ],
   "source": [
    "# 2\n",
    "inp = \"\"\"#############\n",
    "#...........#\n",
    "###C#D#D#A###\n",
    "  #D#C#B#A#\n",
    "  #D#B#A#C#\n",
    "  #B#A#B#C#\n",
    "  #########\"\"\"\n",
    "inp = inp.replace(\"D\", \"4\").replace(\"C\", \"3\").replace(\"B\", \"2\").replace(\"A\", \"1\").replace(\"#\", \" \")\n",
    "split = [n.strip().split(\" \") for n in inp.split(\"\\n\")[2:6]]\n",
    "pos = [[],[],[],[],[],[],[],[],[],[],[]]\n",
    "for i in [3,2,1,0]:\n",
    "    for j in range(4): pos[2+2*j] += [int(split[i][j])]\n",
    "task = 2\n",
    "q = copy.deepcopy(pos)\n",
    "q,costs,_ = solve(q, 0)\n",
    "print(costs)"
   ]
  }
 ],
 "metadata": {
  "kernelspec": {
   "display_name": "Python 3 (ipykernel)",
   "language": "python",
   "name": "python3"
  },
  "language_info": {
   "codemirror_mode": {
    "name": "ipython",
    "version": 3
   },
   "file_extension": ".py",
   "mimetype": "text/x-python",
   "name": "python",
   "nbconvert_exporter": "python",
   "pygments_lexer": "ipython3",
   "version": "3.11.3"
  }
 },
 "nbformat": 4,
 "nbformat_minor": 5
}
