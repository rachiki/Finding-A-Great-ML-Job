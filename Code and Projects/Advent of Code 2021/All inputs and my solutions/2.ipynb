{
 "cells": [
  {
   "cell_type": "code",
   "execution_count": 1,
   "id": "5f4e52ff-e31a-40f2-9c05-b45bebca50dc",
   "metadata": {},
   "outputs": [],
   "source": [
    "with open('inputs/2.txt', 'r') as file:\n",
    "    inp = file.read()[:-1]"
   ]
  },
  {
   "cell_type": "code",
   "execution_count": 2,
   "id": "94ba8bc3",
   "metadata": {},
   "outputs": [],
   "source": [
    "commands = inp.split(\"\\n\")"
   ]
  },
  {
   "cell_type": "code",
   "execution_count": 3,
   "id": "a459faea",
   "metadata": {},
   "outputs": [],
   "source": [
    "com = [i.split() for i in commands]"
   ]
  },
  {
   "cell_type": "code",
   "execution_count": 4,
   "id": "30ad0536",
   "metadata": {},
   "outputs": [
    {
     "name": "stdout",
     "output_type": "stream",
     "text": [
      "1924923\n"
     ]
    }
   ],
   "source": [
    "# 1\n",
    "pos = 0\n",
    "depth = 0\n",
    "for i in com:\n",
    "    if i[0] == \"forward\": pos += int(i[1])\n",
    "    elif i[0] == \"down\": depth += int(i[1])\n",
    "    elif i[0] == \"up\": depth -= int(i[1])\n",
    "print(pos*depth)"
   ]
  },
  {
   "cell_type": "code",
   "execution_count": 5,
   "id": "b5e6f73f",
   "metadata": {},
   "outputs": [
    {
     "name": "stdout",
     "output_type": "stream",
     "text": [
      "1923 1030939\n",
      "1982495697\n"
     ]
    }
   ],
   "source": [
    "# 2\n",
    "pos = 0\n",
    "depth = 0\n",
    "aim = 0\n",
    "for i in com:\n",
    "    if i[0] == \"forward\":\n",
    "        pos += int(i[1])\n",
    "        depth += aim * int(i[1])\n",
    "    if i[0] == \"down\":\n",
    "        aim += int(i[1])\n",
    "    if i[0] == \"up\":\n",
    "        aim -= int(i[1])\n",
    "\n",
    "print(pos,depth)\n",
    "print(pos*depth)"
   ]
  }
 ],
 "metadata": {
  "kernelspec": {
   "display_name": "Python 3 (ipykernel)",
   "language": "python",
   "name": "python3"
  },
  "language_info": {
   "codemirror_mode": {
    "name": "ipython",
    "version": 3
   },
   "file_extension": ".py",
   "mimetype": "text/x-python",
   "name": "python",
   "nbconvert_exporter": "python",
   "pygments_lexer": "ipython3",
   "version": "3.11.3"
  }
 },
 "nbformat": 4,
 "nbformat_minor": 5
}
