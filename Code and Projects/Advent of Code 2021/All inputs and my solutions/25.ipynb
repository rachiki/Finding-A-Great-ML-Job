{
 "cells": [
  {
   "cell_type": "code",
   "execution_count": 1,
   "id": "7a2903a6-b482-4724-87e0-9fe906580b7d",
   "metadata": {},
   "outputs": [],
   "source": [
    "with open('inputs/25.txt', 'r') as file:\n",
    "    inp = file.read()[:-1]"
   ]
  },
  {
   "cell_type": "code",
   "execution_count": 2,
   "id": "90453a19",
   "metadata": {},
   "outputs": [],
   "source": [
    "import numpy as np"
   ]
  },
  {
   "cell_type": "code",
   "execution_count": 3,
   "id": "809fa0a3",
   "metadata": {},
   "outputs": [
    {
     "data": {
      "text/plain": [
       "array([[0, 0, 0, ..., 2, 1, 0],\n",
       "       [0, 0, 1, ..., 2, 0, 1],\n",
       "       [1, 0, 0, ..., 2, 0, 0],\n",
       "       ...,\n",
       "       [2, 1, 1, ..., 1, 0, 0],\n",
       "       [0, 0, 0, ..., 0, 0, 0],\n",
       "       [1, 2, 2, ..., 2, 2, 0]])"
      ]
     },
     "execution_count": 3,
     "metadata": {},
     "output_type": "execute_result"
    }
   ],
   "source": [
    "inp = inp.replace(\".\",\"0\")\n",
    "inp = inp.replace(\">\",\"1\")\n",
    "inp = inp.replace(\"v\",\"2\")\n",
    "sea = np.array([[int(j) for j in i] for i in inp.split(\"\\n\")])\n",
    "sea"
   ]
  },
  {
   "cell_type": "code",
   "execution_count": 4,
   "id": "42f4cc7b",
   "metadata": {},
   "outputs": [],
   "source": [
    "def halfstep(pop, direction,sea):\n",
    "    to_move = np.where(sea == pop, 1, 0) \n",
    "    empty = np.roll(np.where(sea == 0, 1, 0), -1, axis = direction)\n",
    "    sea -= to_move * empty * pop\n",
    "    sea += np.roll(to_move * empty, 1, axis = direction) * pop\n",
    "    return sea, not np.any(to_move * empty)"
   ]
  },
  {
   "cell_type": "code",
   "execution_count": 5,
   "id": "edd07c99",
   "metadata": {},
   "outputs": [
    {
     "name": "stdout",
     "output_type": "stream",
     "text": [
      "(137, 139)\n",
      "384\n"
     ]
    }
   ],
   "source": [
    "# 1\n",
    "i = 1\n",
    "inp = inp.replace(\".\",\"0\")\n",
    "inp = inp.replace(\">\",\"1\")\n",
    "inp = inp.replace(\"v\",\"2\")\n",
    "sea = np.array([[int(j) for j in i] for i in inp.split(\"\\n\")])\n",
    "print(sea.shape)\n",
    "while True:\n",
    "    sea, finished1 = halfstep(1,1, sea)\n",
    "    sea, finished2 = halfstep(2,0, sea)\n",
    "    if finished1 and finished2: break\n",
    "    i += 1\n",
    "print(i)"
   ]
  }
 ],
 "metadata": {
  "kernelspec": {
   "display_name": "Python 3 (ipykernel)",
   "language": "python",
   "name": "python3"
  },
  "language_info": {
   "codemirror_mode": {
    "name": "ipython",
    "version": 3
   },
   "file_extension": ".py",
   "mimetype": "text/x-python",
   "name": "python",
   "nbconvert_exporter": "python",
   "pygments_lexer": "ipython3",
   "version": "3.11.3"
  }
 },
 "nbformat": 4,
 "nbformat_minor": 5
}
