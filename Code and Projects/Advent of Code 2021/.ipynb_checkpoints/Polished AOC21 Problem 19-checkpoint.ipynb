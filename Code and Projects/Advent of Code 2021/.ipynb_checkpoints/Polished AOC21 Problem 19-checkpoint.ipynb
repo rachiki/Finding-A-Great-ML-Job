{
 "cells": [
  {
   "cell_type": "markdown",
   "id": "a9940388-7eb2-42f5-a4b6-94fdddb6f773",
   "metadata": {},
   "source": [
    "# Problem Description"
   ]
  },
  {
   "cell_type": "markdown",
   "id": "26dfe7d7-89bc-4cab-8c94-99db917838f2",
   "metadata": {},
   "source": [
    "[Original Problem description](https://adventofcode.com/2021/day/19)\n",
    "\n",
    "This puzzle is about reconstructing the position of scanners and beacons in a 3D environment. \n",
    "The crux is that only the position of scanners relative to the beacons is given, not in absolute terms.\n",
    "The beacons are homogenous too, so you do not know which beacons are observed from each scanner.\n",
    "You have to deduce the absolute positions in space, build a map and count the beacons in question 1.\n",
    "\n",
    "To do that we:\n",
    "1. identify overlapping beacon detections between pairs of scanners.\n",
    "2. determine the relative position and orientation of one scanner to another based on overlaps.\n",
    "3. reconstruct the entire map based on the relative positions and orientations.\n",
    "4. count the number of unique beacons."
   ]
  },
  {
   "cell_type": "markdown",
   "id": "e4fd04d4-5ef3-4ad3-ab30-f5890f7bc857",
   "metadata": {},
   "source": [
    "## Input Explanation"
   ]
  },
  {
   "cell_type": "markdown",
   "id": "03f53808-9904-4dc0-8da7-6d6498b96b27",
   "metadata": {},
   "source": [
    "    2D Input example:\n",
    "    --- scanner 0 ---\n",
    "    0,2\n",
    "    4,1\n",
    "    3,3\n",
    "    \n",
    "    --- scanner 1 ---\n",
    "    -1,-1\n",
    "    -5,0\n",
    "    -2,1\n",
    "\n",
    "    Map Illustration:\n",
    "    Scanner 0\n",
    "    ...B.\n",
    "    B....\n",
    "    ....B\n",
    "    S....\n",
    "\n",
    "    Scanner 1\n",
    "    ...B..\n",
    "    B....S\n",
    "    ....B.\n",
    "\n",
    "    Positions of all Beacons and Scanners in relation to scanner 0\n",
    "    ...B..\n",
    "    B....S\n",
    "    ....B.\n",
    "    S....."
   ]
  },
  {
   "cell_type": "markdown",
   "id": "9db5fdba-3ea1-408d-95f9-352b5327b9b4",
   "metadata": {
    "jp-MarkdownHeadingCollapsed": true
   },
   "source": [
    "## Solution approach\n",
    "We initiate a queue of scanners from scanner 0 and try to find another scanner-rotation combination that has high overlap in beacon positions.\n",
    "If we have the relative positions of the beacons for the current scanner and the relative position of a new scanner-rotation combination, \n",
    "we can calculate all possible new scanner positions by beacon_x(scanner_old) - beacon_y(scanner_new). \n",
    "If a scanner position pops up in a high number of the possible positions it is likely that we have the correct position and rotation of the new scanner.\n",
    "\n",
    "    Given our input example we would calculate:\n",
    "    positions = beacons_scanner0 - beacons_scanner1\n",
    "    positions = [[1,3],[5,2],[2,1],\n",
    "                [5,2],[9,1],[6,0],\n",
    "                [4,4],[8,3],[5,2]]\n",
    "You can see that the correct potential distance (5,2) pops up often here, in the real input we have always around 25 beacons detected per scanner and a guarantee from the original problem description that 12 overlaps is enough to determine the correct position. We just have to add all possible rotations, do this with all scanners and iterate until the scanners are accounted for.\n",
    "\n",
    "We now continue with the code implementation>"
   ]
  },
  {
   "cell_type": "markdown",
   "id": "ee74f1eb-b95b-4380-b7e9-b1783441f1fa",
   "metadata": {},
   "source": [
    "# Code"
   ]
  },
  {
   "cell_type": "markdown",
   "id": "b0bb38a7-a5d2-4eb7-a5a4-8a8f186b587e",
   "metadata": {},
   "source": [
    "## Import libraries"
   ]
  },
  {
   "cell_type": "code",
   "execution_count": 1,
   "id": "0a44f1ff",
   "metadata": {},
   "outputs": [],
   "source": [
    "import numpy as np\n",
    "from scipy.spatial.transform import Rotation as R\n",
    "from collections import Counter"
   ]
  },
  {
   "cell_type": "markdown",
   "id": "dce27257-f875-4f61-8e08-b13e39d9a583",
   "metadata": {},
   "source": [
    "## Read input"
   ]
  },
  {
   "cell_type": "code",
   "execution_count": 2,
   "id": "3edb37cd-a3e4-4668-a621-42a6d6185fbc",
   "metadata": {},
   "outputs": [],
   "source": [
    "with open('AOC21 p19 input.txt', 'r') as file:\n",
    "    inp = file.read()[:-1]"
   ]
  },
  {
   "cell_type": "markdown",
   "id": "584af2d7-f78c-44dc-aee6-7392a68b8f71",
   "metadata": {},
   "source": [
    "## Solution"
   ]
  },
  {
   "cell_type": "code",
   "execution_count": 3,
   "id": "f50e96ac",
   "metadata": {},
   "outputs": [],
   "source": [
    "def parse_input(inp):\n",
    "    \"\"\"\n",
    "    Parse input string into coordinates.\n",
    "    Output is has 3 coordinates, x,y,z for each beacon detected by each scanner.\n",
    "    \"\"\"\n",
    "    return [[[int(xyz) \n",
    "            for xyz in beacon.split(\",\")] \n",
    "            for beacon in scanner.split(\"\\n\") if \",\" in beacon]\n",
    "            for scanner in inp.split(\"\\n\\n\")]\n",
    "\n",
    "\n",
    "def all_rotations(vec):\n",
    "    \"\"\"\n",
    "    Generates all unique rotations of a vector by rotating it around the x, y, and z axes.\n",
    "    \n",
    "    Parameters:\n",
    "    - vec (array-like): A 3D vector to be rotated.\n",
    "    \n",
    "    Returns:\n",
    "    - ndarray: An array containing all the unique rotations of the input vector.\n",
    "    \"\"\"\n",
    "\n",
    "    # If you visualize a cube, there are 6 sides it can face and 4 ways the side can be rotated, for 24 total orientations in 3D space.\n",
    "    xy_rotations = np.radians([[0, 0, 0], [90, 0, 0], [180, 0, 0], [270, 0, 0], [0, 90, 0], [0, -90, 0]])\n",
    "    z_rotations = np.radians([[0, 0, 0], [0, 0, 90], [0, 0, 180], [0, 0, 270]])\n",
    "    \n",
    "    rotated_vectors = [\n",
    "        R.from_rotvec(z_rot).apply(R.from_rotvec(xy_rot).apply(vec))\n",
    "        for xy_rot in xy_rotations\n",
    "        for z_rot in z_rotations\n",
    "    ]\n",
    "    \n",
    "    return np.round(np.array(rotated_vectors))\n",
    "\n",
    "\n",
    "def process_scans(coo):\n",
    "    \"\"\"\n",
    "    Process scans to determine beacons and scanner locations.\n",
    "    \"\"\"\n",
    "    scanners = []                                               # Keep track of scanner positions\n",
    "    beacons = set()                                             # Keep track of detected beacons\n",
    "    \n",
    "    scanner_pos_current = np.array([0, 0, 0])                   # Position of scanner in relation to scanner 0\n",
    "    beacon_pos_current = np.array(coo[0])                       # Relative beacon positions for the scanner\n",
    "    queue = [[scanner_pos_current, beacon_pos_current]]         # Initiate queue with position and beacans of scanner 0\n",
    "    done = {0}                                                  # Keep track of which scanners have ben put into the queue\n",
    "    \n",
    "    while queue:                      \n",
    "        scanner_pos_current, beacons_pos_current = queue.pop()   # Get most recent scanner and beacon position \n",
    "        scanners.append(scanner_pos_current)                              \n",
    "        \n",
    "        for b in beacons_pos_current:                            # Add beacons from relative positions\n",
    "            beacons.add(tuple(b + scanner_pos_current))\n",
    "        \n",
    "        # Check other scanners for matching beacon patterns\n",
    "        for scan_nr, beacons_pos_rel in enumerate(coo):                   \n",
    "            if scan_nr not in done:                                  # Check if the scanner is already accounted for\n",
    "                rot_beac_pos_rel = all_rotations(beacons_pos_rel)    # Get all relative beacon coordinates for all 24 rotations, shape=(24,beacon#,3)\n",
    "                for r in rot_beac_pos_rel:                           # We have to check for each rotation if we can find overlap.\n",
    "\n",
    "                    # This part is described in the solution approach\n",
    "                    scanner_pos_possible = (beacons_pos_current[:, None, :] - r[None, :, :]).reshape(-1, 3)           \n",
    "                    scanner_pos_possible = zip(scanner_pos_possible[:, 0], scanner_pos_possible[:, 1], scanner_pos_possible[:, 2])  \n",
    "                    scanner_pos_rel, counts = Counter(scanner_pos_possible).most_common()[0]\n",
    "\n",
    "                    if counts >= 12:                                 # Add scanner to done and append queue once a match is found\n",
    "                        done.add(scan_nr)\n",
    "                        queue.append([scanner_pos_current + np.round(scanner_pos_rel), r]) \n",
    "                        break\n",
    "\n",
    "    return beacons, scanners"
   ]
  },
  {
   "cell_type": "code",
   "execution_count": 4,
   "id": "2f20c190-4d63-4d19-a7cf-67e0dcf45d23",
   "metadata": {},
   "outputs": [
    {
     "name": "stdout",
     "output_type": "stream",
     "text": [
      "Number of beacons = 338\n",
      "Largest distance  = 9862\n"
     ]
    }
   ],
   "source": [
    "# Parse coordinates\n",
    "coo = parse_input(inp)\n",
    "\n",
    "# Process the scans to determine beacon and scanner locations\n",
    "beacons, scanners = process_scans(coo)\n",
    "\n",
    "# Calculated with manhattan distance for part 2\n",
    "most_distant_scanners = int(np.max(np.sum(np.abs(np.array(scanners)[:, None, :] - np.array(scanners)[None, :, :]), axis=2))) \n",
    "\n",
    "# Output results\n",
    "print(f'Number of beacons = {len(beacons)}')\n",
    "print(f'Largest distance  = {most_distant_scanners}')"
   ]
  },
  {
   "cell_type": "code",
   "execution_count": null,
   "id": "04bea566-a841-49fb-b731-a9a6bc151837",
   "metadata": {},
   "outputs": [],
   "source": []
  }
 ],
 "metadata": {
  "kernelspec": {
   "display_name": "Python 3 (ipykernel)",
   "language": "python",
   "name": "python3"
  },
  "language_info": {
   "codemirror_mode": {
    "name": "ipython",
    "version": 3
   },
   "file_extension": ".py",
   "mimetype": "text/x-python",
   "name": "python",
   "nbconvert_exporter": "python",
   "pygments_lexer": "ipython3",
   "version": "3.11.3"
  }
 },
 "nbformat": 4,
 "nbformat_minor": 5
}
