{
 "cells": [
  {
   "cell_type": "markdown",
   "id": "cc360e8f",
   "metadata": {},
   "source": [
    "# Description\n",
    "    RoyalRoad is a website where people can share their writing. \n",
    "    Some people publish stories there that get enough that they get published as for profit books later on.\n",
    "    This code scrapes a complete story from the first chapter so you can convert it for use on E-book readers."
   ]
  },
  {
   "cell_type": "code",
   "execution_count": 1,
   "id": "2ddf030c",
   "metadata": {},
   "outputs": [],
   "source": [
    "from lxml import html\n",
    "import requests\n",
    "from bs4 import BeautifulSoup\n",
    "#import docx"
   ]
  },
  {
   "cell_type": "code",
   "execution_count": 2,
   "id": "e4060b7d",
   "metadata": {},
   "outputs": [
    {
     "name": "stdout",
     "output_type": "stream",
     "text": [
      "End reached\n"
     ]
    }
   ],
   "source": [
    "# ADJUST \"start\" and run\n",
    "start = \"/fiction/21220/mother-of-learning/chapter/301778/1-good-morning-brother\"\n",
    "limit = 500\n",
    "\n",
    "total_text = \"\"\n",
    "nextt = start\n",
    "for i in range(limit):\n",
    "    # Chapter title is added\n",
    "    chapter_name = nextt.split(\"/\")[-1]\n",
    "    next_chapter = \"____________________________\\n\" + chapter_name + \"\\n____________________________\"\n",
    "    total_text += next_chapter\n",
    "    total_text += \"\\n\"\n",
    "    \n",
    "    # Chapter is opened and parsed\n",
    "    link = \"https://www.royalroad.com\" + nextt\n",
    "    page = requests.get(link)\n",
    "    soup = BeautifulSoup(page.content, \"html.parser\")\n",
    "    \n",
    "    # Content is appended\n",
    "    results = soup.find_all(\"div\", {\"class\": \"chapter-inner chapter-content\"})\n",
    "    for r in results[0]:\n",
    "        total_text += r.text.strip()\n",
    "        if r.text.strip() != \"\":\n",
    "            total_text += \"\\n\"  \n",
    "    \n",
    "    # Next chapter is searched\n",
    "    try:\n",
    "        nextt = soup.find(rel='next')\n",
    "        nextt = nextt[\"href\"]\n",
    "    except:\n",
    "        print(\"End reached\")\n",
    "        break"
   ]
  },
  {
   "cell_type": "code",
   "execution_count": 3,
   "id": "b7fca980",
   "metadata": {},
   "outputs": [
    {
     "name": "stdout",
     "output_type": "stream",
     "text": [
      "____________________________\n",
      "\n",
      "1-good-morning-brother\n",
      "\n",
      "____________________________\n",
      "\n",
      "Chapter 001Good Morning Brother\n",
      "\n",
      "Zorian’s eyes abruptly shot open as a sharp pain erupted from his stomach. His whole body convulsed, buckling against the object that fell on him, and suddenly he was wide awake, not a trace of drowsiness in his mind.\n",
      "\n",
      "“Good morning, brother!” an annoyingly cheerful voice sounded right on top of him. “Morning, morning, MORNING!!!”\n",
      "\n",
      "Zorian glared at his little sister, but she just \n"
     ]
    }
   ],
   "source": [
    "total_text_n = total_text.replace(\"\\n\", \"\\n\\n\")\n",
    "print(total_text_n[:500])"
   ]
  },
  {
   "cell_type": "code",
   "execution_count": 4,
   "id": "582f836c",
   "metadata": {},
   "outputs": [],
   "source": [
    "with open(\"MoL.txt\", \"w\", encoding=\"utf-8\") as text_file:\n",
    "    text_file.write(total_text_n)"
   ]
  },
  {
   "cell_type": "code",
   "execution_count": null,
   "id": "f17cfccd-c0de-4b8e-a617-c26d031613fe",
   "metadata": {},
   "outputs": [],
   "source": []
  }
 ],
 "metadata": {
  "kernelspec": {
   "display_name": "Python 3 (ipykernel)",
   "language": "python",
   "name": "python3"
  },
  "language_info": {
   "codemirror_mode": {
    "name": "ipython",
    "version": 3
   },
   "file_extension": ".py",
   "mimetype": "text/x-python",
   "name": "python",
   "nbconvert_exporter": "python",
   "pygments_lexer": "ipython3",
   "version": "3.11.3"
  }
 },
 "nbformat": 4,
 "nbformat_minor": 5
}
